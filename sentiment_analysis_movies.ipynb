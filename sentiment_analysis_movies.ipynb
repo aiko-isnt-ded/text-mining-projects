{
 "cells": [
  {
   "cell_type": "markdown",
   "id": "b4afd7e8",
   "metadata": {},
   "source": [
    "___\n",
    "<img style=\"float: right; margin: 15px 15px 15px 15px;\" src=\"https://external-content.duckduckgo.com/iu/?u=https%3A%2F%2Fassets-global.website-files.com%2F5e5d43546b94f97f39c228fa%2F62f4ee3b1b9187fdf2f03923_How_to_Write_a_Movie_Review__Step-by-Step_Guide.png&f=1&nofb=1&ipt=c0d6c1b5f79bba90a6b43bf0240e8edb7414d5fdb6c7cd9599cc5c4168b922fa\" width=\"300px\" height=\"180px\" />\n",
    "\n",
    "\n",
    "# <font color= #bbc28d> **Sentiment Analysis in Movies IMDb** </font>\n",
    "#### <font color= #2E9AFE> `Project 1 – Text Mining`</font>\n",
    "- <Strong> Sofía Maldonado, Diana Valdivia & Viviana Toledo </Strong>\n",
    "- <Strong> Fecha </Strong>: 28/09/2025 \n",
    "\n",
    "___\n",
    "\n",
    "<p style=\"text-align:right;\"> Imagen recuperada de: https://essaypro.com/blog/movie-review</p>"
   ]
  },
  {
   "cell_type": "code",
   "execution_count": 1,
   "id": "32e15104",
   "metadata": {},
   "outputs": [],
   "source": [
    "# Basic Imports\n",
    "import pandas as pd\n",
    "import numpy as np\n",
    "from sklearn.model_selection import train_test_split\n",
    "\n",
    "# For tokenization\n",
    "import nltk \n",
    "from nltk.tokenize import word_tokenize, sent_tokenize\n",
    "from nltk.corpus import stopwords\n",
    "from nltk.stem import SnowballStemmer, wordnet, WordNetLemmatizer\n",
    "import string\n",
    "\n",
    "# For vectorizing\n",
    "from sklearn.feature_extraction.text import CountVectorizer\n",
    "\n",
    "#Modeling\n",
    "from sklearn.linear_model import LogisticRegression\n",
    "from sklearn.svm import SVC\n",
    "\n",
    "# Evaluation\n",
    "from sklearn.metrics import classification_report, confusion_matrix, ConfusionMatrixDisplay\n",
    "import matplotlib.pyplot as plt"
   ]
  },
  {
   "cell_type": "markdown",
   "id": "fcd4ce97",
   "metadata": {},
   "source": [
    "# <font color= #bbc28d> **Preprocessing** </font>"
   ]
  },
  {
   "cell_type": "code",
   "execution_count": 2,
   "id": "698a9957",
   "metadata": {},
   "outputs": [
    {
     "name": "stderr",
     "output_type": "stream",
     "text": [
      "[nltk_data] Downloading package stopwords to\n",
      "[nltk_data]     C:\\Users\\Vivienne\\AppData\\Roaming\\nltk_data...\n",
      "[nltk_data]   Package stopwords is already up-to-date!\n",
      "[nltk_data] Downloading package punkt_tab to\n",
      "[nltk_data]     C:\\Users\\Vivienne\\AppData\\Roaming\\nltk_data...\n",
      "[nltk_data]   Package punkt_tab is already up-to-date!\n",
      "[nltk_data] Downloading package wordnet to\n",
      "[nltk_data]     C:\\Users\\Vivienne\\AppData\\Roaming\\nltk_data...\n",
      "[nltk_data]   Package wordnet is already up-to-date!\n"
     ]
    },
    {
     "data": {
      "text/plain": [
       "True"
      ]
     },
     "execution_count": 2,
     "metadata": {},
     "output_type": "execute_result"
    }
   ],
   "source": [
    "nltk.download(\"stopwords\")\n",
    "nltk.download(\"punkt_tab\")\n",
    "nltk.download('wordnet')"
   ]
  },
  {
   "cell_type": "code",
   "execution_count": 3,
   "id": "6c2c924c",
   "metadata": {},
   "outputs": [
    {
     "data": {
      "application/vnd.microsoft.datawrangler.viewer.v0+json": {
       "columns": [
        {
         "name": "index",
         "rawType": "int64",
         "type": "integer"
        },
        {
         "name": "review",
         "rawType": "object",
         "type": "string"
        },
        {
         "name": "sentiment",
         "rawType": "object",
         "type": "string"
        }
       ],
       "ref": "89300a26-ef7a-46cc-8984-88ffa85b5061",
       "rows": [
        [
         "0",
         "One of the other reviewers has mentioned that after watching just 1 Oz episode you'll be hooked. They are right, as this is exactly what happened with me.<br /><br />The first thing that struck me about Oz was its brutality and unflinching scenes of violence, which set in right from the word GO. Trust me, this is not a show for the faint hearted or timid. This show pulls no punches with regards to drugs, sex or violence. Its is hardcore, in the classic use of the word.<br /><br />It is called OZ as that is the nickname given to the Oswald Maximum Security State Penitentary. It focuses mainly on Emerald City, an experimental section of the prison where all the cells have glass fronts and face inwards, so privacy is not high on the agenda. Em City is home to many..Aryans, Muslims, gangstas, Latinos, Christians, Italians, Irish and more....so scuffles, death stares, dodgy dealings and shady agreements are never far away.<br /><br />I would say the main appeal of the show is due to the fact that it goes where other shows wouldn't dare. Forget pretty pictures painted for mainstream audiences, forget charm, forget romance...OZ doesn't mess around. The first episode I ever saw struck me as so nasty it was surreal, I couldn't say I was ready for it, but as I watched more, I developed a taste for Oz, and got accustomed to the high levels of graphic violence. Not just violence, but injustice (crooked guards who'll be sold out for a nickel, inmates who'll kill on order and get away with it, well mannered, middle class inmates being turned into prison bitches due to their lack of street skills or prison experience) Watching Oz, you may become comfortable with what is uncomfortable viewing....thats if you can get in touch with your darker side.",
         "positive"
        ],
        [
         "1",
         "A wonderful little production. <br /><br />The filming technique is very unassuming- very old-time-BBC fashion and gives a comforting, and sometimes discomforting, sense of realism to the entire piece. <br /><br />The actors are extremely well chosen- Michael Sheen not only \"has got all the polari\" but he has all the voices down pat too! You can truly see the seamless editing guided by the references to Williams' diary entries, not only is it well worth the watching but it is a terrificly written and performed piece. A masterful production about one of the great master's of comedy and his life. <br /><br />The realism really comes home with the little things: the fantasy of the guard which, rather than use the traditional 'dream' techniques remains solid then disappears. It plays on our knowledge and our senses, particularly with the scenes concerning Orton and Halliwell and the sets (particularly of their flat with Halliwell's murals decorating every surface) are terribly well done.",
         "positive"
        ],
        [
         "2",
         "I thought this was a wonderful way to spend time on a too hot summer weekend, sitting in the air conditioned theater and watching a light-hearted comedy. The plot is simplistic, but the dialogue is witty and the characters are likable (even the well bread suspected serial killer). While some may be disappointed when they realize this is not Match Point 2: Risk Addiction, I thought it was proof that Woody Allen is still fully in control of the style many of us have grown to love.<br /><br />This was the most I'd laughed at one of Woody's comedies in years (dare I say a decade?). While I've never been impressed with Scarlet Johanson, in this she managed to tone down her \"sexy\" image and jumped right into a average, but spirited young woman.<br /><br />This may not be the crown jewel of his career, but it was wittier than \"Devil Wears Prada\" and more interesting than \"Superman\" a great comedy to go see with friends.",
         "positive"
        ],
        [
         "3",
         "Basically there's a family where a little boy (Jake) thinks there's a zombie in his closet & his parents are fighting all the time.<br /><br />This movie is slower than a soap opera... and suddenly, Jake decides to become Rambo and kill the zombie.<br /><br />OK, first of all when you're going to make a film you must Decide if its a thriller or a drama! As a drama the movie is watchable. Parents are divorcing & arguing like in real life. And then we have Jake with his closet which totally ruins all the film! I expected to see a BOOGEYMAN similar movie, and instead i watched a drama with some meaningless thriller spots.<br /><br />3 out of 10 just for the well playing parents & descent dialogs. As for the shots with Jake: just ignore them.",
         "negative"
        ],
        [
         "4",
         "Petter Mattei's \"Love in the Time of Money\" is a visually stunning film to watch. Mr. Mattei offers us a vivid portrait about human relations. This is a movie that seems to be telling us what money, power and success do to people in the different situations we encounter. <br /><br />This being a variation on the Arthur Schnitzler's play about the same theme, the director transfers the action to the present time New York where all these different characters meet and connect. Each one is connected in one way, or another to the next person, but no one seems to know the previous point of contact. Stylishly, the film has a sophisticated luxurious look. We are taken to see how these people live and the world they live in their own habitat.<br /><br />The only thing one gets out of all these souls in the picture is the different stages of loneliness each one inhabits. A big city is not exactly the best place in which human relations find sincere fulfillment, as one discerns is the case with most of the people we encounter.<br /><br />The acting is good under Mr. Mattei's direction. Steve Buscemi, Rosario Dawson, Carol Kane, Michael Imperioli, Adrian Grenier, and the rest of the talented cast, make these characters come alive.<br /><br />We wish Mr. Mattei good luck and await anxiously for his next work.",
         "positive"
        ],
        [
         "5",
         "Probably my all-time favorite movie, a story of selflessness, sacrifice and dedication to a noble cause, but it's not preachy or boring. It just never gets old, despite my having seen it some 15 or more times in the last 25 years. Paul Lukas' performance brings tears to my eyes, and Bette Davis, in one of her very few truly sympathetic roles, is a delight. The kids are, as grandma says, more like \"dressed-up midgets\" than children, but that only makes them more fun to watch. And the mother's slow awakening to what's happening in the world and under her own roof is believable and startling. If I had a dozen thumbs, they'd all be \"up\" for this movie.",
         "positive"
        ],
        [
         "6",
         "I sure would like to see a resurrection of a up dated Seahunt series with the tech they have today it would bring back the kid excitement in me.I grew up on black and white TV and Seahunt with Gunsmoke were my hero's every week.You have my vote for a comeback of a new sea hunt.We need a change of pace in TV and this would work for a world of under water adventure.Oh by the way thank you for an outlet like this to view many viewpoints about TV and the many movies.So any ole way I believe I've got what I wanna say.Would be nice to read some more plus points about sea hunt.If my rhymes would be 10 lines would you let me submit,or leave me out to be in doubt and have me to quit,If this is so then I must go so lets do it.",
         "positive"
        ],
        [
         "7",
         "This show was an amazing, fresh & innovative idea in the 70's when it first aired. The first 7 or 8 years were brilliant, but things dropped off after that. By 1990, the show was not really funny anymore, and it's continued its decline further to the complete waste of time it is today.<br /><br />It's truly disgraceful how far this show has fallen. The writing is painfully bad, the performances are almost as bad - if not for the mildly entertaining respite of the guest-hosts, this show probably wouldn't still be on the air. I find it so hard to believe that the same creator that hand-selected the original cast also chose the band of hacks that followed. How can one recognize such brilliance and then see fit to replace it with such mediocrity? I felt I must give 2 stars out of respect for the original cast that made this show such a huge success. As it is now, the show is just awful. I can't believe it's still on the air.",
         "negative"
        ],
        [
         "8",
         "Encouraged by the positive comments about this film on here I was looking forward to watching this film. Bad mistake. I've seen 950+ films and this is truly one of the worst of them - it's awful in almost every way: editing, pacing, storyline, 'acting,' soundtrack (the film's only song - a lame country tune - is played no less than four times). The film looks cheap and nasty and is boring in the extreme. Rarely have I been so happy to see the end credits of a film. <br /><br />The only thing that prevents me giving this a 1-score is Harvey Keitel - while this is far from his best performance he at least seems to be making a bit of an effort. One for Keitel obsessives only.",
         "negative"
        ],
        [
         "9",
         "If you like original gut wrenching laughter you will like this movie. If you are young or old then you will love this movie, hell even my mom liked it.<br /><br />Great Camp!!!",
         "positive"
        ],
        [
         "10",
         "Phil the Alien is one of those quirky films where the humour is based around the oddness of everything rather than actual punchlines.<br /><br />At first it was very odd and pretty funny but as the movie progressed I didn't find the jokes or oddness funny anymore.<br /><br />Its a low budget film (thats never a problem in itself), there were some pretty interesting characters, but eventually I just lost interest.<br /><br />I imagine this film would appeal to a stoner who is currently partaking.<br /><br />For something similar but better try \"Brother from another planet\"",
         "negative"
        ],
        [
         "11",
         "I saw this movie when I was about 12 when it came out. I recall the scariest scene was the big bird eating men dangling helplessly from parachutes right out of the air. The horror. The horror.<br /><br />As a young kid going to these cheesy B films on Saturday afternoons, I still was tired of the formula for these monster type movies that usually included the hero, a beautiful woman who might be the daughter of a professor and a happy resolution when the monster died in the end. I didn't care much for the romantic angle as a 12 year old and the predictable plots. I love them now for the unintentional humor.<br /><br />But, about a year or so later, I saw Psycho when it came out and I loved that the star, Janet Leigh, was bumped off early in the film. I sat up and took notice at that point. Since screenwriters are making up the story, make it up to be as scary as possible and not from a well-worn formula. There are no rules.",
         "negative"
        ],
        [
         "12",
         "So im not a big fan of Boll's work but then again not many are. I enjoyed his movie Postal (maybe im the only one). Boll apparently bought the rights to use Far Cry long ago even before the game itself was even finsished. <br /><br />People who have enjoyed killing mercs and infiltrating secret research labs located on a tropical island should be warned, that this is not Far Cry... This is something Mr Boll have schemed together along with his legion of schmucks.. Feeling loneley on the set Mr Boll invites three of his countrymen to play with. These players go by the names of Til Schweiger, Udo Kier and Ralf Moeller.<br /><br />Three names that actually have made them selfs pretty big in the movie biz. So the tale goes like this, Jack Carver played by Til Schweiger (yes Carver is German all hail the bratwurst eating dudes!!) However I find that Tils acting in this movie is pretty badass.. People have complained about how he's not really staying true to the whole Carver agenda but we only saw carver in a first person perspective so we don't really know what he looked like when he was kicking a**.. <br /><br />However, the storyline in this film is beyond demented. We see the evil mad scientist Dr. Krieger played by Udo Kier, making Genetically-Mutated-soldiers or GMS as they are called. Performing his top-secret research on an island that reminds me of \"SPOILER\" Vancouver for some reason. Thats right no palm trees here. Instead we got some nice rich lumberjack-woods. We haven't even gone FAR before I started to CRY (mehehe) I cannot go on any more.. If you wanna stay true to Bolls shenanigans then go and see this movie you will not be disappointed it delivers the true Boll experience, meaning most of it will suck.<br /><br />There are some things worth mentioning that would imply that Boll did a good work on some areas of the film such as some nice boat and fighting scenes. Until the whole cromed/albino GMS squad enters the scene and everything just makes me laugh.. The movie Far Cry reeks of scheisse (that's poop for you simpletons) from a fa,r if you wanna take a wiff go ahead.. BTW Carver gets a very annoying sidekick who makes you wanna shoot him the first three minutes he's on screen.",
         "negative"
        ],
        [
         "13",
         "The cast played Shakespeare.<br /><br />Shakespeare lost.<br /><br />I appreciate that this is trying to bring Shakespeare to the masses, but why ruin something so good.<br /><br />Is it because 'The Scottish Play' is my favorite Shakespeare? I do not know. What I do know is that a certain Rev Bowdler (hence bowdlerization) tried to do something similar in the Victorian era.<br /><br />In other words, you cannot improve perfection.<br /><br />I have no more to write but as I have to write at least ten lines of text (and English composition was never my forte I will just have to keep going and say that this movie, as the saying goes, just does not cut it.",
         "negative"
        ],
        [
         "14",
         "This a fantastic movie of three prisoners who become famous. One of the actors is george clooney and I'm not a fan but this roll is not bad. Another good thing about the movie is the soundtrack (The man of constant sorrow). I recommand this movie to everybody. Greetings Bart",
         "positive"
        ],
        [
         "15",
         "Kind of drawn in by the erotic scenes, only to realize this was one of the most amateurish and unbelievable bits of film I've ever seen. Sort of like a high school film project. What was Rosanna Arquette thinking?? And what was with all those stock characters in that bizarre supposed Midwest town? Pretty hard to get involved with this one. No lessons to be learned from it, no brilliant insights, just stilted and quite ridiculous (but lots of skin, if that intrigues you) videotaped nonsense....What was with the bisexual relationship, out of nowhere, after all the heterosexual encounters. And what was with that absurd dance, with everybody playing their stereotyped roles? Give this one a pass, it's like a million other miles of bad, wasted film, money that could have been spent on starving children or Aids in Africa.....",
         "negative"
        ],
        [
         "16",
         "Some films just simply should not be remade. This is one of them. In and of itself it is not a bad film. But it fails to capture the flavor and the terror of the 1963 film of the same title. Liam Neeson was excellent as he always is, and most of the cast holds up, with the exception of Owen Wilson, who just did not bring the right feel to the character of Luke. But the major fault with this version is that it strayed too far from the Shirley Jackson story in it's attempts to be grandiose and lost some of the thrill of the earlier film in a trade off for snazzier special effects. Again I will say that in and of itself it is not a bad film. But you will enjoy the friction of terror in the older version much more.",
         "positive"
        ],
        [
         "17",
         "This movie made it into one of my top 10 most awful movies. Horrible. <br /><br />There wasn't a continuous minute where there wasn't a fight with one monster or another. There was no chance for any character development, they were too busy running from one sword fight to another. I had no emotional attachment (except to the big bad machine that wanted to destroy them) <br /><br />Scenes were blatantly stolen from other movies, LOTR, Star Wars and Matrix. <br /><br />Examples<br /><br />>The ghost scene at the end was stolen from the final scene of the old Star Wars with Yoda, Obee One and Vader. <br /><br />>The spider machine in the beginning was exactly like Frodo being attacked by the spider in Return of the Kings. (Elijah Wood is the victim in both films) and wait......it hypnotizes (stings) its victim and wraps them up.....uh hello????<br /><br />>And the whole machine vs. humans theme WAS the Matrix..or Terminator.....<br /><br />There are more examples but why waste the time? And will someone tell me what was with the Nazi's?!?! Nazi's???? <br /><br />There was a juvenile story line rushed to a juvenile conclusion. The movie could not decide if it was a children's movie or an adult movie and wasn't much of either. <br /><br />Just awful. A real disappointment to say the least. Save your money.",
         "negative"
        ],
        [
         "18",
         "I remember this film,it was the first film i had watched at the cinema the picture was dark in places i was very nervous it was back in 74/75 my Dad took me my brother & sister to Newbury cinema in Newbury Berkshire England. I recall the tigers and the lots of snow in the film also the appearance of Grizzly Adams actor Dan Haggery i think one of the tigers gets shot and dies. If anyone knows where to find this on DVD etc please let me know.The cinema now has been turned in a fitness club which is a very big shame as the nearest cinema now is 20 miles away, would love to hear from others who have seen this film or any other like it.",
         "positive"
        ],
        [
         "19",
         "An awful film! It must have been up against some real stinkers to be nominated for the Golden Globe. They've taken the story of the first famous female Renaissance painter and mangled it beyond recognition. My complaint is not that they've taken liberties with the facts; if the story were good, that would perfectly fine. But it's simply bizarre -- by all accounts the true story of this artist would have made for a far better film, so why did they come up with this dishwater-dull script? I suppose there weren't enough naked people in the factual version. It's hurriedly capped off in the end with a summary of the artist's life -- we could have saved ourselves a couple of hours if they'd favored the rest of the film with same brevity.",
         "negative"
        ],
        [
         "20",
         "After the success of Die Hard and it's sequels it's no surprise really that in the 1990s, a glut of 'Die Hard on a .....' movies cashed in on the wrong guy, wrong place, wrong time concept. That is what they did with Cliffhanger, Die Hard on a mountain just in time to rescue Sly 'Stop or My Mom Will Shoot' Stallone's career.<br /><br />Cliffhanger is one big nit-pickers dream, especially to those who are expert at mountain climbing, base-jumping, aviation, facial expressions, acting skills. All in all it's full of excuses to dismiss the film as one overblown pile of junk. Stallone even managed to get out-acted by a horse! However, if you an forget all the nonsense, it's actually a very lovable and undeniably entertaining romp that delivers as plenty of thrills, and unintentionally, plenty of laughs.<br /><br />You've got to love John Lithgows sneery evilness, his tick every box band of baddies, and best of all, the permanently harassed and hapless 'turncoat' agent, Rex Linn as Travers.<br /><br />He may of been Henry in 'Portrait of a Serial Killer' but Michael Rooker is noteworthy for a cringe-worthy performance as Hal, he insists on constantly shrieking in painful disbelief at his captors 'that man never hurt anybody' And whilst he surely can't be, it really does look like Ralph Waite's Frank character is grinning as the girl plummets to her death.<br /><br />Mention too must go to former 'London's Burning' actor Craig Fairbrass as the Brit bad guy, who comes a cropper whilst using Hal as a Human Football, yes, you can't help enjoy that bit, Hal needed a good kicking.<br /><br />So forget your better judgement, who cares if 'that could never happen', lower your acting expectations, turn up the volume and enjoy! And if you're looking for Qaulen, he's the one wearing the helicopter.",
         "positive"
        ],
        [
         "21",
         "I had the terrible misfortune of having to view this \"b-movie\" in it's entirety.<br /><br />All I have to say is--- save your time and money!!! This has got to be the worst b-movie of all time, it shouldn't even be called a b-movie, more like an f-movie! Because it fails in all aspects that make a good movie: the story is not interesting at all, all of the actors are paper-thin and not at all believable, it has bad direction and the action sequences are so fake it's almost funny.......almost.<br /><br />The movie is just packed full of crappy one-liners that no respectable person could find amusing in the least little bit.<br /><br />This movie is supposed to be geared towards men, but all the women in it are SO utterly unattractive, especially that old wrinkled thing that comes in towards the end. They try to appear sexy in those weird, horrible costumes and they fail miserably!!!<br /><br />Even some of the most ridiculous b-movies will still give you some laughs, but this is just too painful to watch!!",
         "negative"
        ],
        [
         "22",
         "What an absolutely stunning movie, if you have 2.5 hrs to kill, watch it, you won't regret it, it's too much fun! Rajnikanth carries the movie on his shoulders and although there isn't anything more other than him, I still liked it. The music by A.R.Rehman takes time to grow on you but after you heard it a few times, you really start liking it.",
         "positive"
        ],
        [
         "23",
         "First of all, let's get a few things straight here: a) I AM an anime fan- always has been as a matter of fact (I used to watch Speed Racer all the time in Preschool). b) I DO like several B-Movies because they're hilarious. c) I like the Godzilla movies- a lot.<br /><br />Moving on, when the movie first comes on, it seems like it's going to be your usual B-movie, down to the crappy FX, but all a sudden- BOOM! the anime comes on! This is when the movie goes WWWAAAAAYYYYY downhill.<br /><br />The animation is VERY bad & cheap, even worse than what I remember from SPEED RACER, for crissakes! In fact, it's so cheap, one of the few scenes from the movie I \"vividly\" remember is when a bunch of kids run out of a school... & it's the same kids over & over again! The FX are terrible, too; the dinosaurs look worse than Godzilla. In addition, the transition to live action to animation is unorganized, the dialogue & voices(especially the English dub that I viewed) was horrid & I was begging my dad to take the tape out of the DVD/ VHS player; The only thing that kept me surviving was cracking out jokes & comments like the robots & Joel/Mike on MST3K (you pick the season). Honestly, this is the only way to barely enjoy this movie & survive it at the same time.<br /><br />Heck, I'm planning to show this to another fellow otaku pal of mine on Halloween for a B-Movie night. Because it's stupid, pretty painful to watch & unintentionally hilarious at the same time, I'm giving this movie a 3/10, an improvement from the 0.5/10 I was originally going to give it.<br /><br />(According to my grading scale: 3/10 means Pretty much both boring & bad. As fun as counting to three unless you find a way to make fun of it, then it will become as fun as counting to 15.)",
         "negative"
        ],
        [
         "24",
         "This was the worst movie I saw at WorldFest and it also received the least amount of applause afterwards! I can only think it is receiving such recognition based on the amount of known actors in the film. It's great to see J.Beals but she's only in the movie for a few minutes. M.Parker is a much better actress than the part allowed for. The rest of the acting is hard to judge because the movie is so ridiculous and predictable. The main character is totally unsympathetic and therefore a bore to watch. There is no real emotional depth to the story. A movie revolving about an actor who can't get work doesn't feel very original to me. Nor does the development of the cop. It feels like one of many straight-to-video movies I saw back in the 90s ... And not even a good one in those standards.<br /><br />",
         "negative"
        ],
        [
         "25",
         "The Karen Carpenter Story shows a little more about singer Karen Carpenter's complex life. Though it fails in giving accurate facts, and details.<br /><br />Cynthia Gibb (portrays Karen) was not a fine election. She is a good actress , but plays a very naive and sort of dumb Karen Carpenter. I think that the role needed a stronger character. Someone with a stronger personality.<br /><br />Louise Fletcher role as Agnes Carpenter is terrific, she does a great job as Karen's mother.<br /><br />It has great songs, which could have been included in a soundtrack album. Unfortunately they weren't, though this movie was on the top of the ratings in USA and other several countries",
         "positive"
        ],
        [
         "26",
         "\"The Cell\" is an exotic masterpiece, a dizzying trip into not only the vast mind of a serial killer, but also into one of a very talented director. This is conclusive evidence of what can be achieved if human beings unleash their uninhibited imaginations. This is boldness at work, pushing aside thoughts to fall into formulas and cliches and creating something truly magnificent. This is the best movie of the year to date.<br /><br />I've read numerous complaints about this film, anywhere from all style and no substance to poorly cast characters and bad acting. To negatively criticize this film is to miss the point. This movie may be a landmark, a tradition where future movies will hopefully follow. \"The Cell\" has just opened the door to another world of imagination. So can we slam the door in its face and tell it and its director Tarsem Singh that we don't want any more? Personally, I would more than welcome another movie by Tarsem, and would love to see someone try to challenge him.<br /><br />We've all heard talk about going inside the mind of a serial killer, and yes, I do agree that the \"genre\" is a bit overworked. The 90s were full of movies trying to depict what makes serial killers tick; some of them worked, but most failed. But \"The Cell\" does not blaze down the same trail, we are given a new twist, we are physically transported into the mind and presented with nothing less than a fascinating journey of the most mysterious subject matter ever studied.<br /><br />I like how the movie does not bog us down with too much scientific jargon trying to explain how Jennifer Lopez actually gets to enter the brain of another. Instead, she just lies down on a laboratory table and is wrapped with what looks like really long Twizzlers and jaunted into another entity. \"The Cell\" wants to let you \"see\" what it's all about and not \"how\" it's all about, and I guess that's what some people don't like. True, I do like explanations with my movies, but when a movie ventures onto new ground you must let it do what it desires and simply take it in.<br /><br />I noticed how the film was very dark when it showed reality, maybe to contrast the bright visuals when inside the brain of another. Nonetheless, the set design was simply astonishing. I wouldn't be surprised if this film took home a few Oscars in cinematography, best costumes, best director and the like. If it were up to me it'd at least get nominated for best picture.<br /><br />I've noticed that I've kind of been repeating myself. Not because there's nothing else to say, but because I can't stress enough how fantastic I thought \"The Cell\" was. If you walk into the movie with a very open mind and to have it taken over with wonders and an eye-popping feast then you are assured a good time. I guess this film was just a little too much for some people, writing it off as \"weird\" or \"crazy\". I am very much into psychology and the imagination of the human mind, so it was right down my alley. Leaving the theater, I heard one audience member say \"Whoever made that movie sure did a lot of good drugs.\" If so, I want what he was smoking.<br /><br />**** (out of 4)",
         "positive"
        ],
        [
         "27",
         "This film tried to be too many things all at once: stinging political satire, Hollywood blockbuster, sappy romantic comedy, family values promo... the list goes on and on. It failed miserably at all of them, but there was enough interest to keep me from turning it off until the end.<br /><br />Although I appreciate the spirit behind WAR, INC., it depresses me to see such a clumsy effort, especially when it will be taken by its targets to reflect the lack of the existence of a serious critique, rather than simply the poor writing, direction, and production of this particular film.<br /><br />There is a critique to be made about the corporatization of war. But poking fun at it in this way diminishes the true atrocity of what is happening. Reminds me a bit of THREE KINGS, which similarly trivializes a genuine cause for concern.",
         "negative"
        ],
        [
         "28",
         "This movie was so frustrating. Everything seemed energetic and I was totally prepared to have a good time. I at least thought I'd be able to stand it. But, I was wrong. First, the weird looping? It was like watching \"America's Funniest Home Videos\". The damn parents. I hated them so much. The stereo-typical Latino family? I need to speak with the person responsible for this. We need to have a talk. That little girl who was always hanging on someone? I just hated her and had to mention it. Now, the final scene transcends, I must say. It's so gloriously bad and full of badness that it is a movie of its own. What crappy dancing. Horrible and beautiful at once.",
         "negative"
        ],
        [
         "29",
         "'War movie' is a Hollywood genre that has been done and redone so many times that clichéd dialogue, rehashed plot and over-the-top action sequences seem unavoidable for any conflict dealing with large-scale combat. Once in a while, however, a war movie comes along that goes against the grain and brings a truly original and compelling story to life on the silver screen. The Civil War-era \"Cold Mountain,\" starring Jude Law, Nicole Kidman and Renée Zellweger is such a film.<br /><br />Then again, calling Cold Mountain\" a war movie is not entirely accurate. True enough, the film opens with a (quite literally) quick-and-dirty battle sequence that puts \"Glory\" director Edward Zwick shame. However, \"Cold Mountain\" is not so much about the Civil War itself as it is about the period and the people of the times. The story centers around disgruntled Confederate soldier Inman, played by Jude Law, who becomes disgusted with the gruesome war and homesick for the beautiful hamlet of Cold Mountain, North Carolina and the equally beautiful southern belle he left behind, Ada Monroe, played by Nicole Kidman. At first glance, this setup appears formulaic as the romantic interest back home gives the audience enough sympathy to root for the reluctant soldier's tribulations on the battlefield. Indeed, the earlier segments of the film are relatively unimpressive and even somewhat contrived.<br /><br />\"Cold Mountain\" soon takes a drastic turn, though, as the intrepid hero Inman turns out to be a deserter (incidentally saving the audience from the potentially confusing scenario of wanting to root for the Confederates) and begins a long odyssey homeward. Meanwhile, back at the farm, Ada's cultured ways prove of little use in the fields; soon she is transformed into something of a wilderbeast. Coming to Ada's rescue is the course, tough-as-nails Ruby Thewes, played by Renée Zellweger, who helps Ada put the farm back together and, perhaps more importantly, cope with the loneliness and isolation the war seems to have brought upon Ada.<br /><br />Within these two settings, a vivid, compelling and, at times, very disturbing portrait of the war-torn South unfolds. The characters with whom Inman and Ada interact are surprisingly complex, enhanced by wonderful performances of Brendan Gleeson as Ruby's deadbeat father, Ray Winstone as an unrepentant southern \"lawman,\" and Natalie Portman as a deeply troubled and isolated young mother. All have been greatly affected and changed by \"the war of Northern aggression,\" mostly for the worse. The dark, pervading anti-war message, accented by an effective, haunting score and chillingly beautiful shots of Virginia and North Carolina, is communicated to the audience not so much by gruesome battle scenes as by the scarred land and traumatized people for which the war was fought. Though the weapons and tactics of war itself have changed much in the past century, it's hellish effect on the land is timelessly relevant.<br /><br />Director Anthony Minghella manages to maintain this gloomy mood for most of the film, but the atmosphere is unfortunately denigrated by a rather tepid climax that does little justice to the wonderfully formed characters. The love story between Inman and Ada is awkwardly tacked onto the beginning and end of the film, though the inherently distant, abstracted and even absurd nature of their relationship in a way fits the dismal nature of the rest of the plot.<br /><br />Make no mistake, \"Cold Mountain\" has neither the traits of a feel-good romance nor an inspiring war drama. It is a unique vision of an era that is sure not only to entertain but also to truly absorb the audience into the lives of a people torn apart by a war and entirely desperate to be rid of its terrible repercussions altogether.",
         "positive"
        ],
        [
         "30",
         "Taut and organically gripping, Edward Dmytryk's Crossfire is a distinctive suspense thriller, an unlikely \"message\" movie using the look and devices of the noir cycle.<br /><br />Bivouacked in Washington, DC, a company of soldiers cope with their restlessness by hanging out in bars. Three of them end up at a stranger's apartment where Robert Ryan, drunk and belligerent, beats their host (Sam Levene) to death because he happens to be Jewish. Police detective Robert Young investigates with the help of Robert Mitchum, who's assigned to Ryan's outfit. Suspicion falls on the second of the three (George Cooper), who has vanished. Ryan slays the third buddy (Steve Brodie) to insure his silence before Young closes in.<br /><br />Abetted by a superior script by John Paxton, Dmytryk draws precise performances from his three starring Bobs. Ryan, naturally, does his prototypical Angry White Male (and to the hilt), while Mitchum underplays with his characteristic alert nonchalance (his role, however, is not central); Young may never have been better. Gloria Grahame gives her first fully-fledged rendition of the smart-mouthed, vulnerable tramp, and, as a sad sack who's leeched into her life, Paul Kelly haunts us in a small, peripheral role that he makes memorable.<br /><br />The politically engaged Dmytryk perhaps inevitably succumbs to sermonizing, but it's pretty much confined to Young's reminiscence of how his Irish grandfather died at the hands of bigots a century earlier (thus, incidentally, stretching chronology to the limit). At least there's no attempt to render an explanation, however glib, of why Ryan hates Jews (and hillbillies and...).<br /><br />Curiously, Crossfire survives even the major change wrought upon it -- the novel it's based on (Richard Brooks' The Brick Foxhole) dealt with a gay-bashing murder. But homosexuality in 1947 was still Beyond The Pale. News of the Holocaust had, however, begun to emerge from the ashes of Europe, so Hollywood felt emboldened to register its protest against anti-Semitism (the studios always quaked at the prospect of offending any potential ticket buyer).<br /><br />But while the change from homophobia to anti-Semitism works in general, the specifics don't fit so smoothly. The victim's chatting up a lonesome, drunk young soldier then inviting him back home looks odd, even though (or especially since) there's a girlfriend in tow. It raises the question whether this scenario was retained inadvertently or left in as a discreet tip-off to the original engine generating Ryan's murderous rage.",
         "positive"
        ],
        [
         "31",
         "\"Ardh Satya\" is one of the finest film ever made in Indian Cinema. Directed by the great director Govind Nihalani, this one is the most successful Hard Hitting Parallel Cinema which also turned out to be a Commercial Success. Even today, Ardh Satya is an inspiration for all leading directors of India.<br /><br />The film tells the Real-life Scenario of Mumbai Police of the 70s. Unlike any Police of other cities in India, Mumbai Police encompasses a Different system altogether. Govind Nihalani creates a very practical Outlay with real life approach of Mumbai Police Environment.<br /><br />Amongst various Police officers & colleagues, the film describes the story of Anand Velankar, a young hot-blooded Cop coming from a poor family. His father is a harsh Police Constable. Anand himself suffers from his father's ideologies & incidences of his father's Atrocities on his mother. Anand's approach towards immediate action against crime, is an inert craving for his own Job satisfaction. The film is here revolved in a Plot wherein Anand's constant efforts against crime are trampled by his seniors.This leads to frustrations, as he cannot achieve the desired Job-satisfaction. Resulting from the frustrations, his anger is expressed in excessive violence in the remand rooms & bars, also turning him to an alcoholic.<br /><br />The Spirit within him is still alive, as he constantly fights the system. He is aware of the system of the Metro, where the Police & Politicians are a inertly associated by far end. His compromise towards unethical practice is negative. Finally he gets suspended.<br /><br />The Direction is a master piece & thoroughly hard core. One of the best memorable scenes is when Anand breaks in the Underworld gangster Rama Shetty's house to arrest him, followed by short conversation which is fantastic. At many scenes, the film has Hair-raising moments.<br /><br />The Practical approach of Script is a major Punch. Alcoholism, Corruption, Political Influence, Courage, Deceptions all are integral part of Mumbai police even today. Those aspects are dealt brilliantly.<br /><br />Finally, the films belongs to the One man show, Om Puri portraying Anand Velankar traversing through all his emotions absolutely brilliantly.",
         "positive"
        ],
        [
         "32",
         "My first exposure to the Templarios & not a good one. I was excited to find this title among the offerings from Anchor Bay Video, which has brought us other cult classics such as \"Spider Baby\". The print quality is excellent, but this alone can't hide the fact that the film is deadly dull. There's a thrilling opening sequence in which the villagers exact a terrible revenge on the Templars (& set the whole thing in motion), but everything else in the movie is slow, ponderous &, ultimately, unfulfilling. Adding insult to injury: the movie was dubbed, not subtitled, as promised on the video jacket.",
         "negative"
        ],
        [
         "33",
         "One of the most significant quotes from the entire film is pronounced halfway through by the protagonist, the mafia middle-man Titta Di Girolamo, a physically non-descript, middle-aged man originally from Salerno in Southern Italy. When we're introduced to him at the start of the film, he's been living a non-life in an elegant but sterile hotel in the Italian-speaking Canton of Switzerland for the last ten years, conducting a business we are only gradually introduced to. While this pivotal yet apparently unremarkable scene takes place employees of the the Swiss bank who normally count Di Girolamo's cash tell him that 10,000 dollars are missing from his usual suitcase full of tightly stacked banknotes. At the news, he quietly but icily threatens his coaxing bank manager of wanting to close down his account. Meanwhile he tells us, the spectators, that when you bluff, you have to bluff right through to the end without fear of being caught out or appearing ridiculous. He says: you can't bluff for a while and then halfway through, tell the truth. Having eventually done this - bluffed only halfway through and told the truth, and having accepted the consequences of life and ultimately, love - is exactly the reason behind the beginning of Titta Di Girolamo's troubles. <br /><br />This initially unsympathetic character, a scowling, taciturn, curt man on the verge of 50, a man who won't even reply in kind to chambermaids and waitresses who say hello and goodbye, becomes at one point someone the spectator cares deeply about. At one point in his non-life, Titta decides to feel concern about appearing \"ridiculous\". The first half of the film may be described as \"slow\" by some. It does indeed reveal Di Girolamo's days and nights in that hotel at an oddly disjoined, deliberate pace, revealing seemingly mundane and irrelevant details. However, scenes that may have seemed unnecessary reveal just how essential they are as this masterfully constructed and innovative film unfolds before your eyes. The existence of Titta Di Girolamo - the man with no imagination, identity or life, the unsympathetic character you unexpectedly end up loving and feeling for when you least thought you would - is also conveyed with elegantly edited sequences and very interesting use of music (one theme by the Scottish band Boards of Canada especially stood out). <br /><br />Never was the contrast between the way Hollywood and Italy treat mobsters more at odds than since the release of films such as Le Conseguenze dell'Amore or L'Imbalsamatore. Another interesting element was the way in which the film made use of the protagonist's insomnia. Not unlike The Machinist (and in a far more explicit way, the Al Pacino film Insomnia), Le Conseguenze dell'Amore uses this condition to symbolise a deeper emotional malaise that's been rammed so deep into the obscurity of the unconscious, it's almost impossible to pin-point its cause (if indeed there is one). <br /><br />The young and sympathetic hotel waitress Sofia (played by Olivia Magnani, grand-daughter of the legendary Anna) and the memory of Titta's best friend, a man whom he hasn't seen in 20 years, unexpectedly provide a tiny window onto life that Titta eventually (though tentatively at first) accepts to look through again. Though it's never explicitly spelt out, the spectator KNOWS that to a man like Titta, accepting The Consequences of Love will have unimaginable consequences. A film without a single scene of sex or violence, a film that unfolds in its own time and concedes nothing to the spectator's expectations, Le Conseguenze dell'Amore is a fine representative of that small, quiet, discreet Renaissance that has been taking place in Italian cinema since the decline of Cinecittà during the second half of the 70s. The world is waiting for Italy to produce more Il Postino-like fare, more La Vita è Bella-style films... neglecting to explore fine creations like Le Conseguenze dell'Amore, L'Imbalsamatore and others. Your loss, world.",
         "positive"
        ],
        [
         "34",
         "I watched this film not really expecting much, I got it in a pack of 5 films, all of which were pretty terrible in their own way for under a fiver so what could I expect? and you know what I was right, they were all terrible, this movie has a few (and a few is stretching it) interesting points, the occasional camcorder view is a nice touch, the drummer is very like a drummer, i.e damned annoying and, well thats about it actually, the problem is that its just so boring, in what I can only assume was an attempt to build tension, a whole lot of nothing happens and when it does its utterly tedious (I had my thumb on the fast forward button, ready to press for most of the movie, but gave it a go) and seriously is the lead singer of the band that great looking, coz they don't half mention how beautiful he is a hell of a lot, I thought he looked a bit like a meercat, all this and I haven't even mentioned the killer, I'm not even gonna go into it, its just not worth explaining. Anyway as far as I'm concerned Star and London are just about the only reason to watch this and with the exception of London (who was actually quite funny) it wasn't because of their acting talent, I've certainly seen a lot worse, but I've also seen a lot better. Best avoid unless your bored of watching paint dry.",
         "negative"
        ],
        [
         "35",
         "I bought this film at Blockbuster for $3.00, because it sounded interesting (a bit Ranma-esque, with the idea of someone dragging around a skeleton), because there was a cute girl in a mini-skirt on the back, and because there was a Restricted Viewing sticker on it. I thought it was going to be a sweet or at least sincere coming of age story with a weird indie edge. I was 100% wrong.<br /><br />Having watched it, I have to wonder how it got the restricted sticker, since there is hardly any foul language, little violence, and the closest thing to nudity (Honestly! I don't usually go around hoping for it!) is when the girl is in her nightgown and you see her panties (you see her panties a lot in this movie, because no matter what, she's wearing a miniskirt of some sort). Even the anti-religious humor is tame (and lame, caricatured, insincere, derivative, unoriginal, and worst of all not funny in the slightest--it would be better just to listen to Ray Stevens' \"Would Jesus Wear a Rolex on His Television Show\"). This would barely qualify as PG-13 (it is Not Rated), but Blockbuster refuses to let anyone under the age of 17 rent this--as if it was pornographic. Any little kid could go in there and rent the edited version of Requiem for a Dream, but they insist that Zack and Reba is worse.<br /><br />It is, but not in that way.<br /><br />In a way, this worries me--the only thing left that could offend people is the idea of the suicide at the beginning. If anybody needs to see movies with honestly portrayed suicides (not this one, but better ones like The Virgin Suicides), it's teenagers. If both of those movies were rated R purely because of the suicide aspect, then I have little chance of turning a story I've been writing into a PG-13 movie (the main characters are eleven and a half and twelve). Suicide is one of the top three leading causes of death in teenagers (I think it's number 2), so chances are that most teens have been or will be affected by it.<br /><br />Just say no to this movie, though. 2/10.",
         "negative"
        ],
        [
         "36",
         "The plot is about the death of little children. Hopper is the one who has to investigate the killings. During the movie it appears that he has some troubles with his daughter. In the end the serial killer get caught. That's it. But before you find out who dunnit, you have to see some terrible acting by all of the actors. It is unbelievable how bad these actors are, including Hopper. I could go on like this but that to much of a waste of my time. Just don't watch the movie. I've warned you.",
         "negative"
        ],
        [
         "37",
         "Ever watched a movie that lost the plot? Well, this didn't even really have one to begin with.<br /><br />Where to begin? The achingly tedious scenes of our heroine sitting around the house with actually no sense of menace or even foreboding created even during the apparently constant thunderstorms (that are strangely never actually heard in the house-great double glazing)? The house that is apparently only a few miles from a town yet is several hours walk away(?) or the third girl who serves no purpose to the plot except to provide a surprisingly quick gory murder just as the tedium becomes unbearable? Or even the beginning which suggests a spate of 20+ killings throughout the area even though it is apparent the killer never ventures far from the house? Or the bizarre ritual with the salt & pepper that pretty much sums up most of the films inherent lack of direction.<br /><br />Add a lead actress who can't act but at least is willing to do some completely irrelevant nude shower scenes and this video is truly nasty, but not in the way you hope.<br /><br />Given a following simply for being banned in the UK in the 80's (mostly because of a final surprisingly over extended murder) it offers nothing but curiosity value- and one classic 'daft' murder (don't worry-its telegraphed at least ten minutes before).<br /><br />After a walk in the woods our victim comes to a rather steep upward slope which they obviously struggle up. Halfway through they see a figure at the top dressed in black and brandishing a large scythe. What do they do? Slide down and run like the rest of us? No, of course not- they struggle to the top and stand conveniently nice and upright in front of the murder weapon.<br /><br />It really IS only a movie as they say..",
         "negative"
        ],
        [
         "38",
         "Okay, so this series kind of takes the route of 'here we go again!' Week in, week out David Morse's character helps out his ride who is in a bit of a pickle - but what's wrong with that!? David Morse is one of the greatest character actors out there, and certainly the coolest, and to have him in a series created by David Koepp - a great writer - is heaven!!<br /><br />Due to the lack of love for this show by many, I can't see it going to a season series - but you never know? The amount of rubbish that has made it beyond that baffles me - let's hope something good can make it past a first series!!!",
         "positive"
        ],
        [
         "39",
         "After sitting through this pile of dung, my husband and I wondered whether it was actually the product of an experiment to see whether a computer program could produce a movie. It was that listless and formulaic. But the U.S. propaganda thrown in your face throughout the film proves--disappointingly--that it's the work of humans. Call me a conspiracy theorist, but quotes like, \"We have to steal the Declaration of Independence to protect it\" seem like ways to justify actions like the invasion of Iraq, etc. The fact that Nicholas Cage spews lines like, \"I would never use the Declaration of Independence as a bargaining chip\" with a straight face made me and my husband wonder whether the entire cast took Valium before shooting each scene. The \"reasoning\" behind each plot turn and new \"clue\" is truly ridiculous and impossible to follow. And there's also a bonus side plot of misogyny, with Dr. Whatever-Her-Name-Was being chided by all involved for \"never shutting up.\" She's clearly in the movie only for looks, but they felt the need to slap a \"Dr.\" title on her character to give her some gravity. At one point, Cage's character says, \"Don't you ever shut up?\" and the camera pans to her looking poutily down at her hands, like she's a child. Truly grotesque. The only benefit to this movie was that it's so astonishingly bad, you do get a few laughs out of it. The really scary thing is that a majority of the people watching the movie with us seemed to enjoy it. Creepy....",
         "negative"
        ],
        [
         "40",
         "It had all the clichés of movies of this type and no substance. The plot went nowhere and at the end of the movie I felt like a sucker for watching it. The production was good; however, the script and acting were B-movie quality. The casting was poor because there were good actors mixed in with crumby actors. The good actors didn't hold their own nor did they lift up the others. <br /><br />This movie is not worthy of more words, but I will say more to meet the minimum requirement of ten lines. James Wood and Cuba Gooding, Jr. play caricatures of themselves in other movies. <br /><br />If you are looking for mindless entertainment, I still wouldn't recommend this movie.",
         "negative"
        ],
        [
         "41",
         "This movie is based on the book, \"A Many Splendored Thing\" by Han Suyin and tackles issues of race relations between Asians and Whites, a topic that comes from Han's personal experiences as an Eurasian growing up in China. That background, and the beautiful Hong Kong settings, gives this love story a unique and rather daring atmosphere for its time.<br /><br />Other than that, the story is a stereotypical romance with a memorable song that is perhaps more remembered than the movie itself. The beautiful Jennifer Jones looks the part and gives a wonderful, Oscar nominated performance as a doctor of mixed breed during the advent of Communism in mainland China. William Holden never looked better playing a romantic lead as a journalist covering war torn regions in the world. The acting is top notch, and the chemistry between the two lovers provides for some genuine moments of silver screen affection sure to melt the hearts of those who are romantically inclined.<br /><br />The cinematography really brings out fifty's Hong Kong, especially the hilltop overlooking the harbor where the two lovers spend their most intimate moments. The ending is a real tear-jerker. Some may consider sentimental romances passé, but, for those who enjoy classic Hollywood love stories, this is a shining example.",
         "positive"
        ],
        [
         "42",
         "Of all the films I have seen, this one, The Rage, has got to be one of the worst yet. The direction, LOGIC, continuity, changes in plot-script and dialog made me cry out in pain. \"How could ANYONE come up with something so crappy\"? Gary Busey is know for his \"B\" movies, but this is a sure \"W\" movie. (W=waste).<br /><br />Take for example: about two dozen FBI & local law officers surround a trailer house with a jeep wagoneer. Inside the jeep is MA and is \"confused\" as to why all the cops are about. Within seconds a huge gun battle ensues, MA being killed straight off. The cops blast away at the jeep with gary and company blasting away at them. The cops fall like dominoes and the jeep with Gary drives around in circles and are not hit by one single bullet/pellet. MA is killed and gary seems to not to have noticed-damn that guy is tough. Truly a miracle, not since the six-shooter held 300 bullets has there been such a miracle.",
         "negative"
        ],
        [
         "43",
         "I had heard good things about \"States of Grace\" and came in with an open mind. I thought that \"God's Army\" was okay, and I thought that maybe Dutcher had improved and matured as a filmmaker. The film began with some shaky acting, and I thought, \"well, maybe it will get better.\" Unfortunately, it never did. The picture starts out by introducing two elders -- Mormon missionaries -- and it seems that the audience will get to know them and grow to care about them. Instead, the story degenerates into a highly improbable series of unfortunate events highlighting blatant disobedience by the missionaries (something that undeniably exists, but rarely on the level that Dutcher portrays) and it becomes almost laughable.<br /><br />Dutcher's only success in this movie is his successful alienation of his target audience. By unrealistically and inaccurately portraying the lives of Mormon missionaries, Dutcher accomplishes nothing more than angering his predominantly Mormon audience. The film in no way reflects reality. Missions are nothing like what Dutcher shows (having served a Mormon mission myself I can attest to this fact) and gang life in California certainly contains much more explicit language than the occasional mild vulgarity.<br /><br />The conclusion, which I'm assuming was supposed to touch the audience and inspire them to believe that forgiveness is available to all, was both unbelievable (c'mon, the entire mission gathers to see this elder sent home -- and the mom and the girl are standing right next to each other!) and cheesy. Next time, Dutcher, try making a movie that SOMEONE can identify with.",
         "negative"
        ],
        [
         "44",
         "This movie struck home for me. Being 29, I remember the '80's and my father working in a factory. I figured, if I worked hard too, if I had pride and never gave up I too could have the American Dream, the house, a few kids, a car all to call my own. I've noted however, without a degree in something (unlike my father that quit at ninth grade) and a keen sense of greed and laziness, you can't get anywhere.<br /><br />I would like to know if anyone has this movie on DVD or VHS. it's made for TV, and I just saw it an hour ago. Ic an't find it anywhere! I'd love to show this to my friends, my pseudo friends, family and other relatives, see what they think and remind them that once upon a time, Americans WOULD work for the sake of feeling honor and that we had pride in what we accomplished!! I think the feeling is still there, but in a heavy downward spiral with so many things being made overseas...",
         "positive"
        ],
        [
         "45",
         "As a disclaimer, I've seen the movie 5-6 times in the last 15 years, and I only just saw the musical this week. This allowed me to judge the movie without being tainted by what was or wasn't in the musical (however, it tainted me when I watched the musical :) ) <br /><br />I actually believe Michael Douglas worked quite well in that role, along with Kasey. I think her 'Let me dance for you scene' is one of the best parts of the movie, a worthwhile addition compared to the musical. The dancers and singing in the movie are much superior to the musical, as well as the cast which is at least 10 times bigger (easier to do in the movie of course). The decors, lighting, dancing, and singing are also much superior in the movie, which should be expected, and was indeed delivered. <br /><br />The songs that were in common with the musical are better done in the movie, the new ones are quite good ones, and the whole movie just delivers more than the musical in my opinion, especially compared to a musical which has few decors. The one bad point on the movie is the obvious cuts between the actors talking, and dubbed singers during the singing portions for some of the characters, but their dancing is impeccable, and the end product was more enjoyable than the musical",
         "positive"
        ],
        [
         "46",
         "Protocol is an implausible movie whose only saving grace is that it stars Goldie Hawn along with a good cast of supporting actors. The story revolves around a ditzy cocktail waitress who becomes famous after inadvertently saving the life of an Arab dignitary. The story goes downhill halfway through the movie and Goldie's charm just doesn't save this movie. Unless you are a Goldie Hawn fan don't go out of your way to see this film.",
         "negative"
        ],
        [
         "47",
         "How this film could be classified as Drama, I have no idea. If I were John Voight and Mary Steenburgen, I would be trying to erase this from my CV. It was as historically accurate as Xena and Hercules. Abraham and Moses got melded into Noah. Lot, Abraham's nephew, Lot, turns up thousands of years before he would have been born. Canaanites wandered the earth...really? What were the scriptwriters thinking? Was it just ignorance (\"I remember something about Noah and animals, and Lot and Canaanites and all that stuff from Sunday School\") or were they trying to offend the maximum number of people on the planet as possible- from Christians, Jews and Muslims, to historians, archaeologists, geologists, psychologists, linguists ...as a matter of fact, did anyone not get offended? Anyone who had even a modicum of taste would have winced at this one!",
         "negative"
        ],
        [
         "48",
         "Preston Sturgis' THE POWER AND THE GLORY was unseen by the public for nearly twenty or thirty years until the late 1990s when it resurfaced and even showed up on television. In the meantime it had gained in notoriety because Pauline Kael's THE CITIZEN KANE BOOK had suggested that the Herman Mankiewicz - Orson Welles screenplay for KANE was based on Sturgis' screenplay here. As is mentioned in the beginning of this thread for the film on the IMDb web site, Kael overstated her case.<br /><br />There are about six narrators who take turns dealing with the life of Charles Foster Kane: the newsreel (representing Ralston - the Henry Luce clone), Thatcher's memoirs, Bernstein, Jed Leland, Susan Alexander Kane, and Raymond the butler. Each has his or her different slant on Kane, reflecting their faith or disappointment or hatred of the man. And of course each also reveals his or her own failings when they are telling their version of Kane's story. This method also leads to frequent overlapping re-tellings of the same incident.<br /><br />This is not the situation in THE POWER AND THE GLORY. Yes, like KANE it is about a legendary business leader - here it is Tom Garner (Spencer Tracy), a man who rose from the bottom to being head of the most successful railroad system in the country. But there are only two narrators - they are Garner's right hand man Henry (Ralph Morgan) and his wife (Sarah Padden). This restricts the nearly three dimensional view we get at times of Kane in Garner. Henry, when he narrates, is talking about his boss and friend, whom he respected and loved. His wife is like the voice of the skeptical public - she sees only the flaws in Henry.<br /><br />Typical example: Although he worked his way up, Tom becomes more and more anti-labor in his later years. Unions are troublemakers, and he does not care to be slowed down by their shenanigans. Henry describes Tom's confrontation with the Union in a major walk-out, and how it preoccupied him to the detriment of his home life. But Henry's wife reminds him how Tom used scabs and violence to end the strike (apparently blowing up the Union's headquarters - killing many people). So we have two views of the man but one is pure white and one is pure black.<br /><br />I'm not really knocking THE POWER AND THE GLORY for not duplicating KANE's success (few films do - including all of Orson Welles' other films), but I am aware that the story is presented well enough to hold one's interest to the end. And thanks to the performances of Tracy and Colleen Moore as his wife Sally, the tragedy of the worldly success of the pair is fully brought home.<br /><br />When they marry, Tom wants to do well (in part) to give his wife and their family the benefits he never had. But in America great business success comes at a cost. Tom gets deeply involved with running the railroad empire (he expands it and improves it constantly). But it takes him away from home too much, and he loses touch with Sally. And he also notices Eve (Helen Vinson), the younger woman who becomes his mistress. When Sally learns of his unfaithful behavior it destroys her.<br /><br />Similarly Tom too gets a full shock (which makes him a martyr in the eyes of Henry). Eve marries Tom, and presents him with a son - but it turns out to be Eve's son by Tom's son Tom Jr. (Philip Trent). The discovery of this incestuous cuckolding causes Tom to shoot himself.<br /><br />The film is not a total success - the action jumps at times unconvincingly. Yet it does make the business seem real (note the scene when Tom tells his Board of Directors about his plans to purchase a small rival train line, and he discusses the use of debentures for financing the plans). Sturgis came from a wealthy background, so he could bring in this type of detail. So on the whole it is a first rate film. No CITIZEN KANE perhaps, but of interest to movie lovers as an attempt at business realism with social commentary in Depression America.",
         "positive"
        ],
        [
         "49",
         "Average (and surprisingly tame) Fulci giallo which means it's still quite bad by normal standards, but redeemed by its solid build-up and some nice touches such as a neat time twist on the issues of visions and clairvoyance.<br /><br />The genre's well-known weaknesses are in full gear: banal dialogue, wooden acting, illogical plot points. And the finale goes on much too long, while the denouement proves to be a rather lame or shall I say: limp affair.<br /><br />Fulci's ironic handling of giallo norms is amusing, though. Yellow clues wherever you look.<br /><br />3 out of 10 limping killers",
         "negative"
        ]
       ],
       "shape": {
        "columns": 2,
        "rows": 50000
       }
      },
      "text/html": [
       "<div>\n",
       "<style scoped>\n",
       "    .dataframe tbody tr th:only-of-type {\n",
       "        vertical-align: middle;\n",
       "    }\n",
       "\n",
       "    .dataframe tbody tr th {\n",
       "        vertical-align: top;\n",
       "    }\n",
       "\n",
       "    .dataframe thead th {\n",
       "        text-align: right;\n",
       "    }\n",
       "</style>\n",
       "<table border=\"1\" class=\"dataframe\">\n",
       "  <thead>\n",
       "    <tr style=\"text-align: right;\">\n",
       "      <th></th>\n",
       "      <th>review</th>\n",
       "      <th>sentiment</th>\n",
       "    </tr>\n",
       "  </thead>\n",
       "  <tbody>\n",
       "    <tr>\n",
       "      <th>0</th>\n",
       "      <td>One of the other reviewers has mentioned that ...</td>\n",
       "      <td>positive</td>\n",
       "    </tr>\n",
       "    <tr>\n",
       "      <th>1</th>\n",
       "      <td>A wonderful little production. &lt;br /&gt;&lt;br /&gt;The...</td>\n",
       "      <td>positive</td>\n",
       "    </tr>\n",
       "    <tr>\n",
       "      <th>2</th>\n",
       "      <td>I thought this was a wonderful way to spend ti...</td>\n",
       "      <td>positive</td>\n",
       "    </tr>\n",
       "    <tr>\n",
       "      <th>3</th>\n",
       "      <td>Basically there's a family where a little boy ...</td>\n",
       "      <td>negative</td>\n",
       "    </tr>\n",
       "    <tr>\n",
       "      <th>4</th>\n",
       "      <td>Petter Mattei's \"Love in the Time of Money\" is...</td>\n",
       "      <td>positive</td>\n",
       "    </tr>\n",
       "    <tr>\n",
       "      <th>...</th>\n",
       "      <td>...</td>\n",
       "      <td>...</td>\n",
       "    </tr>\n",
       "    <tr>\n",
       "      <th>49995</th>\n",
       "      <td>I thought this movie did a down right good job...</td>\n",
       "      <td>positive</td>\n",
       "    </tr>\n",
       "    <tr>\n",
       "      <th>49996</th>\n",
       "      <td>Bad plot, bad dialogue, bad acting, idiotic di...</td>\n",
       "      <td>negative</td>\n",
       "    </tr>\n",
       "    <tr>\n",
       "      <th>49997</th>\n",
       "      <td>I am a Catholic taught in parochial elementary...</td>\n",
       "      <td>negative</td>\n",
       "    </tr>\n",
       "    <tr>\n",
       "      <th>49998</th>\n",
       "      <td>I'm going to have to disagree with the previou...</td>\n",
       "      <td>negative</td>\n",
       "    </tr>\n",
       "    <tr>\n",
       "      <th>49999</th>\n",
       "      <td>No one expects the Star Trek movies to be high...</td>\n",
       "      <td>negative</td>\n",
       "    </tr>\n",
       "  </tbody>\n",
       "</table>\n",
       "<p>50000 rows × 2 columns</p>\n",
       "</div>"
      ],
      "text/plain": [
       "                                                  review sentiment\n",
       "0      One of the other reviewers has mentioned that ...  positive\n",
       "1      A wonderful little production. <br /><br />The...  positive\n",
       "2      I thought this was a wonderful way to spend ti...  positive\n",
       "3      Basically there's a family where a little boy ...  negative\n",
       "4      Petter Mattei's \"Love in the Time of Money\" is...  positive\n",
       "...                                                  ...       ...\n",
       "49995  I thought this movie did a down right good job...  positive\n",
       "49996  Bad plot, bad dialogue, bad acting, idiotic di...  negative\n",
       "49997  I am a Catholic taught in parochial elementary...  negative\n",
       "49998  I'm going to have to disagree with the previou...  negative\n",
       "49999  No one expects the Star Trek movies to be high...  negative\n",
       "\n",
       "[50000 rows x 2 columns]"
      ]
     },
     "execution_count": 3,
     "metadata": {},
     "output_type": "execute_result"
    }
   ],
   "source": [
    "df = pd.read_csv('imdb_reviews.csv')\n",
    "df"
   ]
  },
  {
   "cell_type": "code",
   "execution_count": 4,
   "id": "07994269",
   "metadata": {},
   "outputs": [],
   "source": [
    "# Tools for pre-processing\n",
    "stop_words = set(stopwords.words('english'))\n",
    "punctuation = set(string.punctuation)\n",
    "lemmatizer = WordNetLemmatizer()"
   ]
  },
  {
   "cell_type": "code",
   "execution_count": 5,
   "id": "ad46d1b1",
   "metadata": {},
   "outputs": [],
   "source": [
    "# Function for making the tokens. Takes into account that words are not punctuation, stop words, lemmatizing AND if they are fully uppercase which may be important to know\n",
    "def making_tokens(text: str):\n",
    "    text = text.replace('<br />', \" \") # Removing line break characters so they aren't counted as tokens\n",
    "    tokens = word_tokenize(text)\n",
    "    processed = []\n",
    "    for i in tokens:\n",
    "        if i.lower() not in stop_words and i not in punctuation:\n",
    "            if i.isupper() and len(i) > 1:\n",
    "                processed.append(i.lower() + '_UPPER') # Because a word being all uppercase (like \"us\" vs \"US\") can be relevant information.\n",
    "            else:\n",
    "                processed.append(lemmatizer.lemmatize(i.lower()))\n",
    "    \n",
    "    return processed"
   ]
  },
  {
   "cell_type": "code",
   "execution_count": 6,
   "id": "9b37e3f6",
   "metadata": {},
   "outputs": [],
   "source": [
    "df['tokens'] = df['review'].apply(making_tokens)"
   ]
  },
  {
   "cell_type": "code",
   "execution_count": 7,
   "id": "e9e0c61e",
   "metadata": {},
   "outputs": [
    {
     "data": {
      "application/vnd.microsoft.datawrangler.viewer.v0+json": {
       "columns": [
        {
         "name": "index",
         "rawType": "int64",
         "type": "integer"
        },
        {
         "name": "review",
         "rawType": "object",
         "type": "string"
        },
        {
         "name": "sentiment",
         "rawType": "object",
         "type": "string"
        },
        {
         "name": "tokens",
         "rawType": "object",
         "type": "unknown"
        }
       ],
       "ref": "b7608811-24d4-412f-8dce-a1f922b04e08",
       "rows": [
        [
         "0",
         "One of the other reviewers has mentioned that after watching just 1 Oz episode you'll be hooked. They are right, as this is exactly what happened with me.<br /><br />The first thing that struck me about Oz was its brutality and unflinching scenes of violence, which set in right from the word GO. Trust me, this is not a show for the faint hearted or timid. This show pulls no punches with regards to drugs, sex or violence. Its is hardcore, in the classic use of the word.<br /><br />It is called OZ as that is the nickname given to the Oswald Maximum Security State Penitentary. It focuses mainly on Emerald City, an experimental section of the prison where all the cells have glass fronts and face inwards, so privacy is not high on the agenda. Em City is home to many..Aryans, Muslims, gangstas, Latinos, Christians, Italians, Irish and more....so scuffles, death stares, dodgy dealings and shady agreements are never far away.<br /><br />I would say the main appeal of the show is due to the fact that it goes where other shows wouldn't dare. Forget pretty pictures painted for mainstream audiences, forget charm, forget romance...OZ doesn't mess around. The first episode I ever saw struck me as so nasty it was surreal, I couldn't say I was ready for it, but as I watched more, I developed a taste for Oz, and got accustomed to the high levels of graphic violence. Not just violence, but injustice (crooked guards who'll be sold out for a nickel, inmates who'll kill on order and get away with it, well mannered, middle class inmates being turned into prison bitches due to their lack of street skills or prison experience) Watching Oz, you may become comfortable with what is uncomfortable viewing....thats if you can get in touch with your darker side.",
         "positive",
         "['one', 'reviewer', 'mentioned', 'watching', '1', 'oz', 'episode', \"'ll\", 'hooked', 'right', 'exactly', 'happened', 'first', 'thing', 'struck', 'oz', 'brutality', 'unflinching', 'scene', 'violence', 'set', 'right', 'word', 'go_UPPER', 'trust', 'show', 'faint', 'hearted', 'timid', 'show', 'pull', 'punch', 'regard', 'drug', 'sex', 'violence', 'hardcore', 'classic', 'use', 'word', 'called', 'oz_UPPER', 'nickname', 'given', 'oswald', 'maximum', 'security', 'state', 'penitentary', 'focus', 'mainly', 'emerald', 'city', 'experimental', 'section', 'prison', 'cell', 'glass', 'front', 'face', 'inwards', 'privacy', 'high', 'agenda', 'em', 'city', 'home', 'many', '..', 'aryan', 'muslim', 'gangsta', 'latino', 'christian', 'italian', 'irish', '....', 'scuffle', 'death', 'stare', 'dodgy', 'dealing', 'shady', 'agreement', 'never', 'far', 'away', 'would', 'say', 'main', 'appeal', 'show', 'due', 'fact', 'go', 'show', 'would', \"n't\", 'dare', 'forget', 'pretty', 'picture', 'painted', 'mainstream', 'audience', 'forget', 'charm', 'forget', 'romance', '...', 'oz_UPPER', \"n't\", 'mess', 'around', 'first', 'episode', 'ever', 'saw', 'struck', 'nasty', 'surreal', 'could', \"n't\", 'say', 'ready', 'watched', 'developed', 'taste', 'oz', 'got', 'accustomed', 'high', 'level', 'graphic', 'violence', 'violence', 'injustice', 'crooked', 'guard', \"'ll\", 'sold', 'nickel', 'inmate', \"'ll\", 'kill', 'order', 'get', 'away', 'well', 'mannered', 'middle', 'class', 'inmate', 'turned', 'prison', 'bitch', 'due', 'lack', 'street', 'skill', 'prison', 'experience', 'watching', 'oz', 'may', 'become', 'comfortable', 'uncomfortable', 'viewing', '....', 'thats', 'get', 'touch', 'darker', 'side']"
        ],
        [
         "1",
         "A wonderful little production. <br /><br />The filming technique is very unassuming- very old-time-BBC fashion and gives a comforting, and sometimes discomforting, sense of realism to the entire piece. <br /><br />The actors are extremely well chosen- Michael Sheen not only \"has got all the polari\" but he has all the voices down pat too! You can truly see the seamless editing guided by the references to Williams' diary entries, not only is it well worth the watching but it is a terrificly written and performed piece. A masterful production about one of the great master's of comedy and his life. <br /><br />The realism really comes home with the little things: the fantasy of the guard which, rather than use the traditional 'dream' techniques remains solid then disappears. It plays on our knowledge and our senses, particularly with the scenes concerning Orton and Halliwell and the sets (particularly of their flat with Halliwell's murals decorating every surface) are terribly well done.",
         "positive",
         "['wonderful', 'little', 'production', 'filming', 'technique', 'unassuming-', 'old-time-bbc', 'fashion', 'give', 'comforting', 'sometimes', 'discomforting', 'sense', 'realism', 'entire', 'piece', 'actor', 'extremely', 'well', 'chosen-', 'michael', 'sheen', '``', 'got', 'polari', \"''\", 'voice', 'pat', 'truly', 'see', 'seamless', 'editing', 'guided', 'reference', 'williams', 'diary', 'entry', 'well', 'worth', 'watching', 'terrificly', 'written', 'performed', 'piece', 'masterful', 'production', 'one', 'great', 'master', \"'s\", 'comedy', 'life', 'realism', 'really', 'come', 'home', 'little', 'thing', 'fantasy', 'guard', 'rather', 'use', 'traditional', \"'dream\", 'technique', 'remains', 'solid', 'disappears', 'play', 'knowledge', 'sens', 'particularly', 'scene', 'concerning', 'orton', 'halliwell', 'set', 'particularly', 'flat', 'halliwell', \"'s\", 'mural', 'decorating', 'every', 'surface', 'terribly', 'well', 'done']"
        ],
        [
         "2",
         "I thought this was a wonderful way to spend time on a too hot summer weekend, sitting in the air conditioned theater and watching a light-hearted comedy. The plot is simplistic, but the dialogue is witty and the characters are likable (even the well bread suspected serial killer). While some may be disappointed when they realize this is not Match Point 2: Risk Addiction, I thought it was proof that Woody Allen is still fully in control of the style many of us have grown to love.<br /><br />This was the most I'd laughed at one of Woody's comedies in years (dare I say a decade?). While I've never been impressed with Scarlet Johanson, in this she managed to tone down her \"sexy\" image and jumped right into a average, but spirited young woman.<br /><br />This may not be the crown jewel of his career, but it was wittier than \"Devil Wears Prada\" and more interesting than \"Superman\" a great comedy to go see with friends.",
         "positive",
         "['thought', 'wonderful', 'way', 'spend', 'time', 'hot', 'summer', 'weekend', 'sitting', 'air', 'conditioned', 'theater', 'watching', 'light-hearted', 'comedy', 'plot', 'simplistic', 'dialogue', 'witty', 'character', 'likable', 'even', 'well', 'bread', 'suspected', 'serial', 'killer', 'may', 'disappointed', 'realize', 'match', 'point', '2', 'risk', 'addiction', 'thought', 'proof', 'woody', 'allen', 'still', 'fully', 'control', 'style', 'many', 'u', 'grown', 'love', \"'d\", 'laughed', 'one', 'woody', \"'s\", 'comedy', 'year', 'dare', 'say', 'decade', \"'ve\", 'never', 'impressed', 'scarlet', 'johanson', 'managed', 'tone', '``', 'sexy', \"''\", 'image', 'jumped', 'right', 'average', 'spirited', 'young', 'woman', 'may', 'crown', 'jewel', 'career', 'wittier', '``', 'devil', 'wear', 'prada', \"''\", 'interesting', '``', 'superman', \"''\", 'great', 'comedy', 'go', 'see', 'friend']"
        ],
        [
         "3",
         "Basically there's a family where a little boy (Jake) thinks there's a zombie in his closet & his parents are fighting all the time.<br /><br />This movie is slower than a soap opera... and suddenly, Jake decides to become Rambo and kill the zombie.<br /><br />OK, first of all when you're going to make a film you must Decide if its a thriller or a drama! As a drama the movie is watchable. Parents are divorcing & arguing like in real life. And then we have Jake with his closet which totally ruins all the film! I expected to see a BOOGEYMAN similar movie, and instead i watched a drama with some meaningless thriller spots.<br /><br />3 out of 10 just for the well playing parents & descent dialogs. As for the shots with Jake: just ignore them.",
         "negative",
         "['basically', \"'s\", 'family', 'little', 'boy', 'jake', 'think', \"'s\", 'zombie', 'closet', 'parent', 'fighting', 'time', 'movie', 'slower', 'soap', 'opera', '...', 'suddenly', 'jake', 'decides', 'become', 'rambo', 'kill', 'zombie', 'ok_UPPER', 'first', \"'re\", 'going', 'make', 'film', 'must', 'decide', 'thriller', 'drama', 'drama', 'movie', 'watchable', 'parent', 'divorcing', 'arguing', 'like', 'real', 'life', 'jake', 'closet', 'totally', 'ruin', 'film', 'expected', 'see', 'boogeyman_UPPER', 'similar', 'movie', 'instead', 'watched', 'drama', 'meaningless', 'thriller', 'spot', '3', '10', 'well', 'playing', 'parent', 'descent', 'dialog', 'shot', 'jake', 'ignore']"
        ],
        [
         "4",
         "Petter Mattei's \"Love in the Time of Money\" is a visually stunning film to watch. Mr. Mattei offers us a vivid portrait about human relations. This is a movie that seems to be telling us what money, power and success do to people in the different situations we encounter. <br /><br />This being a variation on the Arthur Schnitzler's play about the same theme, the director transfers the action to the present time New York where all these different characters meet and connect. Each one is connected in one way, or another to the next person, but no one seems to know the previous point of contact. Stylishly, the film has a sophisticated luxurious look. We are taken to see how these people live and the world they live in their own habitat.<br /><br />The only thing one gets out of all these souls in the picture is the different stages of loneliness each one inhabits. A big city is not exactly the best place in which human relations find sincere fulfillment, as one discerns is the case with most of the people we encounter.<br /><br />The acting is good under Mr. Mattei's direction. Steve Buscemi, Rosario Dawson, Carol Kane, Michael Imperioli, Adrian Grenier, and the rest of the talented cast, make these characters come alive.<br /><br />We wish Mr. Mattei good luck and await anxiously for his next work.",
         "positive",
         "['petter', 'mattei', \"'s\", '``', 'love', 'time', 'money', \"''\", 'visually', 'stunning', 'film', 'watch', 'mr.', 'mattei', 'offer', 'u', 'vivid', 'portrait', 'human', 'relation', 'movie', 'seems', 'telling', 'u', 'money', 'power', 'success', 'people', 'different', 'situation', 'encounter', 'variation', 'arthur', 'schnitzler', \"'s\", 'play', 'theme', 'director', 'transfer', 'action', 'present', 'time', 'new', 'york', 'different', 'character', 'meet', 'connect', 'one', 'connected', 'one', 'way', 'another', 'next', 'person', 'one', 'seems', 'know', 'previous', 'point', 'contact', 'stylishly', 'film', 'sophisticated', 'luxurious', 'look', 'taken', 'see', 'people', 'live', 'world', 'live', 'habitat', 'thing', 'one', 'get', 'soul', 'picture', 'different', 'stage', 'loneliness', 'one', 'inhabits', 'big', 'city', 'exactly', 'best', 'place', 'human', 'relation', 'find', 'sincere', 'fulfillment', 'one', 'discerns', 'case', 'people', 'encounter', 'acting', 'good', 'mr.', 'mattei', \"'s\", 'direction', 'steve', 'buscemi', 'rosario', 'dawson', 'carol', 'kane', 'michael', 'imperioli', 'adrian', 'grenier', 'rest', 'talented', 'cast', 'make', 'character', 'come', 'alive', 'wish', 'mr.', 'mattei', 'good', 'luck', 'await', 'anxiously', 'next', 'work']"
        ],
        [
         "5",
         "Probably my all-time favorite movie, a story of selflessness, sacrifice and dedication to a noble cause, but it's not preachy or boring. It just never gets old, despite my having seen it some 15 or more times in the last 25 years. Paul Lukas' performance brings tears to my eyes, and Bette Davis, in one of her very few truly sympathetic roles, is a delight. The kids are, as grandma says, more like \"dressed-up midgets\" than children, but that only makes them more fun to watch. And the mother's slow awakening to what's happening in the world and under her own roof is believable and startling. If I had a dozen thumbs, they'd all be \"up\" for this movie.",
         "positive",
         "['probably', 'all-time', 'favorite', 'movie', 'story', 'selflessness', 'sacrifice', 'dedication', 'noble', 'cause', \"'s\", 'preachy', 'boring', 'never', 'get', 'old', 'despite', 'seen', '15', 'time', 'last', '25', 'year', 'paul', 'lukas', 'performance', 'brings', 'tear', 'eye', 'bette', 'davis', 'one', 'truly', 'sympathetic', 'role', 'delight', 'kid', 'grandma', 'say', 'like', '``', 'dressed-up', 'midget', \"''\", 'child', 'make', 'fun', 'watch', 'mother', \"'s\", 'slow', 'awakening', \"'s\", 'happening', 'world', 'roof', 'believable', 'startling', 'dozen', 'thumb', \"'d\", '``', \"''\", 'movie']"
        ],
        [
         "6",
         "I sure would like to see a resurrection of a up dated Seahunt series with the tech they have today it would bring back the kid excitement in me.I grew up on black and white TV and Seahunt with Gunsmoke were my hero's every week.You have my vote for a comeback of a new sea hunt.We need a change of pace in TV and this would work for a world of under water adventure.Oh by the way thank you for an outlet like this to view many viewpoints about TV and the many movies.So any ole way I believe I've got what I wanna say.Would be nice to read some more plus points about sea hunt.If my rhymes would be 10 lines would you let me submit,or leave me out to be in doubt and have me to quit,If this is so then I must go so lets do it.",
         "positive",
         "['sure', 'would', 'like', 'see', 'resurrection', 'dated', 'seahunt', 'series', 'tech', 'today', 'would', 'bring', 'back', 'kid', 'excitement', 'me.i', 'grew', 'black', 'white', 'tv_UPPER', 'seahunt', 'gunsmoke', 'hero', \"'s\", 'every', 'week.you', 'vote', 'comeback', 'new', 'sea', 'hunt.we', 'need', 'change', 'pace', 'tv_UPPER', 'would', 'work', 'world', 'water', 'adventure.oh', 'way', 'thank', 'outlet', 'like', 'view', 'many', 'viewpoint', 'tv_UPPER', 'many', 'movies.so', 'ole', 'way', 'believe', \"'ve\", 'got', 'wan', 'na', 'say.would', 'nice', 'read', 'plus', 'point', 'sea', 'hunt.if', 'rhyme', 'would', '10', 'line', 'would', 'let', 'submit', 'leave', 'doubt', 'quit', 'must', 'go', 'let']"
        ],
        [
         "7",
         "This show was an amazing, fresh & innovative idea in the 70's when it first aired. The first 7 or 8 years were brilliant, but things dropped off after that. By 1990, the show was not really funny anymore, and it's continued its decline further to the complete waste of time it is today.<br /><br />It's truly disgraceful how far this show has fallen. The writing is painfully bad, the performances are almost as bad - if not for the mildly entertaining respite of the guest-hosts, this show probably wouldn't still be on the air. I find it so hard to believe that the same creator that hand-selected the original cast also chose the band of hacks that followed. How can one recognize such brilliance and then see fit to replace it with such mediocrity? I felt I must give 2 stars out of respect for the original cast that made this show such a huge success. As it is now, the show is just awful. I can't believe it's still on the air.",
         "negative",
         "['show', 'amazing', 'fresh', 'innovative', 'idea', '70', \"'s\", 'first', 'aired', 'first', '7', '8', 'year', 'brilliant', 'thing', 'dropped', '1990', 'show', 'really', 'funny', 'anymore', \"'s\", 'continued', 'decline', 'complete', 'waste', 'time', 'today', \"'s\", 'truly', 'disgraceful', 'far', 'show', 'fallen', 'writing', 'painfully', 'bad', 'performance', 'almost', 'bad', 'mildly', 'entertaining', 'respite', 'guest-hosts', 'show', 'probably', 'would', \"n't\", 'still', 'air', 'find', 'hard', 'believe', 'creator', 'hand-selected', 'original', 'cast', 'also', 'chose', 'band', 'hack', 'followed', 'one', 'recognize', 'brilliance', 'see', 'fit', 'replace', 'mediocrity', 'felt', 'must', 'give', '2', 'star', 'respect', 'original', 'cast', 'made', 'show', 'huge', 'success', 'show', 'awful', 'ca', \"n't\", 'believe', \"'s\", 'still', 'air']"
        ],
        [
         "8",
         "Encouraged by the positive comments about this film on here I was looking forward to watching this film. Bad mistake. I've seen 950+ films and this is truly one of the worst of them - it's awful in almost every way: editing, pacing, storyline, 'acting,' soundtrack (the film's only song - a lame country tune - is played no less than four times). The film looks cheap and nasty and is boring in the extreme. Rarely have I been so happy to see the end credits of a film. <br /><br />The only thing that prevents me giving this a 1-score is Harvey Keitel - while this is far from his best performance he at least seems to be making a bit of an effort. One for Keitel obsessives only.",
         "negative",
         "['encouraged', 'positive', 'comment', 'film', 'looking', 'forward', 'watching', 'film', 'bad', 'mistake', \"'ve\", 'seen', '950+', 'film', 'truly', 'one', 'worst', \"'s\", 'awful', 'almost', 'every', 'way', 'editing', 'pacing', 'storyline', \"'acting\", 'soundtrack', 'film', \"'s\", 'song', 'lame', 'country', 'tune', 'played', 'less', 'four', 'time', 'film', 'look', 'cheap', 'nasty', 'boring', 'extreme', 'rarely', 'happy', 'see', 'end', 'credit', 'film', 'thing', 'prevents', 'giving', '1-score', 'harvey', 'keitel', 'far', 'best', 'performance', 'least', 'seems', 'making', 'bit', 'effort', 'one', 'keitel', 'obsessive']"
        ],
        [
         "9",
         "If you like original gut wrenching laughter you will like this movie. If you are young or old then you will love this movie, hell even my mom liked it.<br /><br />Great Camp!!!",
         "positive",
         "['like', 'original', 'gut', 'wrenching', 'laughter', 'like', 'movie', 'young', 'old', 'love', 'movie', 'hell', 'even', 'mom', 'liked', 'great', 'camp']"
        ],
        [
         "10",
         "Phil the Alien is one of those quirky films where the humour is based around the oddness of everything rather than actual punchlines.<br /><br />At first it was very odd and pretty funny but as the movie progressed I didn't find the jokes or oddness funny anymore.<br /><br />Its a low budget film (thats never a problem in itself), there were some pretty interesting characters, but eventually I just lost interest.<br /><br />I imagine this film would appeal to a stoner who is currently partaking.<br /><br />For something similar but better try \"Brother from another planet\"",
         "negative",
         "['phil', 'alien', 'one', 'quirky', 'film', 'humour', 'based', 'around', 'oddness', 'everything', 'rather', 'actual', 'punchlines', 'first', 'odd', 'pretty', 'funny', 'movie', 'progressed', \"n't\", 'find', 'joke', 'oddness', 'funny', 'anymore', 'low', 'budget', 'film', 'thats', 'never', 'problem', 'pretty', 'interesting', 'character', 'eventually', 'lost', 'interest', 'imagine', 'film', 'would', 'appeal', 'stoner', 'currently', 'partaking', 'something', 'similar', 'better', 'try', '``', 'brother', 'another', 'planet', \"''\"]"
        ],
        [
         "11",
         "I saw this movie when I was about 12 when it came out. I recall the scariest scene was the big bird eating men dangling helplessly from parachutes right out of the air. The horror. The horror.<br /><br />As a young kid going to these cheesy B films on Saturday afternoons, I still was tired of the formula for these monster type movies that usually included the hero, a beautiful woman who might be the daughter of a professor and a happy resolution when the monster died in the end. I didn't care much for the romantic angle as a 12 year old and the predictable plots. I love them now for the unintentional humor.<br /><br />But, about a year or so later, I saw Psycho when it came out and I loved that the star, Janet Leigh, was bumped off early in the film. I sat up and took notice at that point. Since screenwriters are making up the story, make it up to be as scary as possible and not from a well-worn formula. There are no rules.",
         "negative",
         "['saw', 'movie', '12', 'came', 'recall', 'scariest', 'scene', 'big', 'bird', 'eating', 'men', 'dangling', 'helplessly', 'parachute', 'right', 'air', 'horror', 'horror', 'young', 'kid', 'going', 'cheesy', 'b', 'film', 'saturday', 'afternoon', 'still', 'tired', 'formula', 'monster', 'type', 'movie', 'usually', 'included', 'hero', 'beautiful', 'woman', 'might', 'daughter', 'professor', 'happy', 'resolution', 'monster', 'died', 'end', \"n't\", 'care', 'much', 'romantic', 'angle', '12', 'year', 'old', 'predictable', 'plot', 'love', 'unintentional', 'humor', 'year', 'later', 'saw', 'psycho', 'came', 'loved', 'star', 'janet', 'leigh', 'bumped', 'early', 'film', 'sat', 'took', 'notice', 'point', 'since', 'screenwriter', 'making', 'story', 'make', 'scary', 'possible', 'well-worn', 'formula', 'rule']"
        ],
        [
         "12",
         "So im not a big fan of Boll's work but then again not many are. I enjoyed his movie Postal (maybe im the only one). Boll apparently bought the rights to use Far Cry long ago even before the game itself was even finsished. <br /><br />People who have enjoyed killing mercs and infiltrating secret research labs located on a tropical island should be warned, that this is not Far Cry... This is something Mr Boll have schemed together along with his legion of schmucks.. Feeling loneley on the set Mr Boll invites three of his countrymen to play with. These players go by the names of Til Schweiger, Udo Kier and Ralf Moeller.<br /><br />Three names that actually have made them selfs pretty big in the movie biz. So the tale goes like this, Jack Carver played by Til Schweiger (yes Carver is German all hail the bratwurst eating dudes!!) However I find that Tils acting in this movie is pretty badass.. People have complained about how he's not really staying true to the whole Carver agenda but we only saw carver in a first person perspective so we don't really know what he looked like when he was kicking a**.. <br /><br />However, the storyline in this film is beyond demented. We see the evil mad scientist Dr. Krieger played by Udo Kier, making Genetically-Mutated-soldiers or GMS as they are called. Performing his top-secret research on an island that reminds me of \"SPOILER\" Vancouver for some reason. Thats right no palm trees here. Instead we got some nice rich lumberjack-woods. We haven't even gone FAR before I started to CRY (mehehe) I cannot go on any more.. If you wanna stay true to Bolls shenanigans then go and see this movie you will not be disappointed it delivers the true Boll experience, meaning most of it will suck.<br /><br />There are some things worth mentioning that would imply that Boll did a good work on some areas of the film such as some nice boat and fighting scenes. Until the whole cromed/albino GMS squad enters the scene and everything just makes me laugh.. The movie Far Cry reeks of scheisse (that's poop for you simpletons) from a fa,r if you wanna take a wiff go ahead.. BTW Carver gets a very annoying sidekick who makes you wanna shoot him the first three minutes he's on screen.",
         "negative",
         "['im', 'big', 'fan', 'boll', \"'s\", 'work', 'many', 'enjoyed', 'movie', 'postal', 'maybe', 'im', 'one', 'boll', 'apparently', 'bought', 'right', 'use', 'far', 'cry', 'long', 'ago', 'even', 'game', 'even', 'finsished', 'people', 'enjoyed', 'killing', 'mercs', 'infiltrating', 'secret', 'research', 'lab', 'located', 'tropical', 'island', 'warned', 'far', 'cry', '...', 'something', 'mr', 'boll', 'schemed', 'together', 'along', 'legion', 'schmuck', '..', 'feeling', 'loneley', 'set', 'mr', 'boll', 'invite', 'three', 'countryman', 'play', 'player', 'go', 'name', 'til', 'schweiger', 'udo', 'kier', 'ralf', 'moeller', 'three', 'name', 'actually', 'made', 'self', 'pretty', 'big', 'movie', 'biz', 'tale', 'go', 'like', 'jack', 'carver', 'played', 'til', 'schweiger', 'yes', 'carver', 'german', 'hail', 'bratwurst', 'eating', 'dude', 'however', 'find', 'tils', 'acting', 'movie', 'pretty', 'badass', '..', 'people', 'complained', \"'s\", 'really', 'staying', 'true', 'whole', 'carver', 'agenda', 'saw', 'carver', 'first', 'person', 'perspective', \"n't\", 'really', 'know', 'looked', 'like', 'kicking', '..', 'however', 'storyline', 'film', 'beyond', 'demented', 'see', 'evil', 'mad', 'scientist', 'dr.', 'krieger', 'played', 'udo', 'kier', 'making', 'genetically-mutated-soldiers', 'gms_UPPER', 'called', 'performing', 'top-secret', 'research', 'island', 'reminds', '``', 'spoiler_UPPER', \"''\", 'vancouver', 'reason', 'thats', 'right', 'palm', 'tree', 'instead', 'got', 'nice', 'rich', 'lumberjack-woods', \"n't\", 'even', 'gone', 'far_UPPER', 'started', 'cry_UPPER', 'mehehe', 'go', '..', 'wan', 'na', 'stay', 'true', 'boll', 'shenanigan', 'go', 'see', 'movie', 'disappointed', 'delivers', 'true', 'boll', 'experience', 'meaning', 'suck', 'thing', 'worth', 'mentioning', 'would', 'imply', 'boll', 'good', 'work', 'area', 'film', 'nice', 'boat', 'fighting', 'scene', 'whole', 'cromed/albino', 'gms_UPPER', 'squad', 'enters', 'scene', 'everything', 'make', 'laugh', '..', 'movie', 'far', 'cry', 'reek', 'scheisse', \"'s\", 'poop', 'simpleton', 'fa', 'r', 'wan', 'na', 'take', 'wiff', 'go', 'ahead', '..', 'btw_UPPER', 'carver', 'get', 'annoying', 'sidekick', 'make', 'wan', 'na', 'shoot', 'first', 'three', 'minute', \"'s\", 'screen']"
        ],
        [
         "13",
         "The cast played Shakespeare.<br /><br />Shakespeare lost.<br /><br />I appreciate that this is trying to bring Shakespeare to the masses, but why ruin something so good.<br /><br />Is it because 'The Scottish Play' is my favorite Shakespeare? I do not know. What I do know is that a certain Rev Bowdler (hence bowdlerization) tried to do something similar in the Victorian era.<br /><br />In other words, you cannot improve perfection.<br /><br />I have no more to write but as I have to write at least ten lines of text (and English composition was never my forte I will just have to keep going and say that this movie, as the saying goes, just does not cut it.",
         "negative",
         "['cast', 'played', 'shakespeare', 'shakespeare', 'lost', 'appreciate', 'trying', 'bring', 'shakespeare', 'mass', 'ruin', 'something', 'good', \"'the\", 'scottish', 'play', 'favorite', 'shakespeare', 'know', 'know', 'certain', 'rev', 'bowdler', 'hence', 'bowdlerization', 'tried', 'something', 'similar', 'victorian', 'era', 'word', 'improve', 'perfection', 'write', 'write', 'least', 'ten', 'line', 'text', 'english', 'composition', 'never', 'forte', 'keep', 'going', 'say', 'movie', 'saying', 'go', 'cut']"
        ],
        [
         "14",
         "This a fantastic movie of three prisoners who become famous. One of the actors is george clooney and I'm not a fan but this roll is not bad. Another good thing about the movie is the soundtrack (The man of constant sorrow). I recommand this movie to everybody. Greetings Bart",
         "positive",
         "['fantastic', 'movie', 'three', 'prisoner', 'become', 'famous', 'one', 'actor', 'george', 'clooney', \"'m\", 'fan', 'roll', 'bad', 'another', 'good', 'thing', 'movie', 'soundtrack', 'man', 'constant', 'sorrow', 'recommand', 'movie', 'everybody', 'greeting', 'bart']"
        ],
        [
         "15",
         "Kind of drawn in by the erotic scenes, only to realize this was one of the most amateurish and unbelievable bits of film I've ever seen. Sort of like a high school film project. What was Rosanna Arquette thinking?? And what was with all those stock characters in that bizarre supposed Midwest town? Pretty hard to get involved with this one. No lessons to be learned from it, no brilliant insights, just stilted and quite ridiculous (but lots of skin, if that intrigues you) videotaped nonsense....What was with the bisexual relationship, out of nowhere, after all the heterosexual encounters. And what was with that absurd dance, with everybody playing their stereotyped roles? Give this one a pass, it's like a million other miles of bad, wasted film, money that could have been spent on starving children or Aids in Africa.....",
         "negative",
         "['kind', 'drawn', 'erotic', 'scene', 'realize', 'one', 'amateurish', 'unbelievable', 'bit', 'film', \"'ve\", 'ever', 'seen', 'sort', 'like', 'high', 'school', 'film', 'project', 'rosanna', 'arquette', 'thinking', 'stock', 'character', 'bizarre', 'supposed', 'midwest', 'town', 'pretty', 'hard', 'get', 'involved', 'one', 'lesson', 'learned', 'brilliant', 'insight', 'stilted', 'quite', 'ridiculous', 'lot', 'skin', 'intrigue', 'videotaped', 'nonsense', '....', 'bisexual', 'relationship', 'nowhere', 'heterosexual', 'encounter', 'absurd', 'dance', 'everybody', 'playing', 'stereotyped', 'role', 'give', 'one', 'pas', \"'s\", 'like', 'million', 'mile', 'bad', 'wasted', 'film', 'money', 'could', 'spent', 'starving', 'child', 'aid', 'africa', '.....']"
        ],
        [
         "16",
         "Some films just simply should not be remade. This is one of them. In and of itself it is not a bad film. But it fails to capture the flavor and the terror of the 1963 film of the same title. Liam Neeson was excellent as he always is, and most of the cast holds up, with the exception of Owen Wilson, who just did not bring the right feel to the character of Luke. But the major fault with this version is that it strayed too far from the Shirley Jackson story in it's attempts to be grandiose and lost some of the thrill of the earlier film in a trade off for snazzier special effects. Again I will say that in and of itself it is not a bad film. But you will enjoy the friction of terror in the older version much more.",
         "positive",
         "['film', 'simply', 'remade', 'one', 'bad', 'film', 'fails', 'capture', 'flavor', 'terror', '1963', 'film', 'title', 'liam', 'neeson', 'excellent', 'always', 'cast', 'hold', 'exception', 'owen', 'wilson', 'bring', 'right', 'feel', 'character', 'luke', 'major', 'fault', 'version', 'strayed', 'far', 'shirley', 'jackson', 'story', \"'s\", 'attempt', 'grandiose', 'lost', 'thrill', 'earlier', 'film', 'trade', 'snazzier', 'special', 'effect', 'say', 'bad', 'film', 'enjoy', 'friction', 'terror', 'older', 'version', 'much']"
        ],
        [
         "17",
         "This movie made it into one of my top 10 most awful movies. Horrible. <br /><br />There wasn't a continuous minute where there wasn't a fight with one monster or another. There was no chance for any character development, they were too busy running from one sword fight to another. I had no emotional attachment (except to the big bad machine that wanted to destroy them) <br /><br />Scenes were blatantly stolen from other movies, LOTR, Star Wars and Matrix. <br /><br />Examples<br /><br />>The ghost scene at the end was stolen from the final scene of the old Star Wars with Yoda, Obee One and Vader. <br /><br />>The spider machine in the beginning was exactly like Frodo being attacked by the spider in Return of the Kings. (Elijah Wood is the victim in both films) and wait......it hypnotizes (stings) its victim and wraps them up.....uh hello????<br /><br />>And the whole machine vs. humans theme WAS the Matrix..or Terminator.....<br /><br />There are more examples but why waste the time? And will someone tell me what was with the Nazi's?!?! Nazi's???? <br /><br />There was a juvenile story line rushed to a juvenile conclusion. The movie could not decide if it was a children's movie or an adult movie and wasn't much of either. <br /><br />Just awful. A real disappointment to say the least. Save your money.",
         "negative",
         "['movie', 'made', 'one', 'top', '10', 'awful', 'movie', 'horrible', \"n't\", 'continuous', 'minute', \"n't\", 'fight', 'one', 'monster', 'another', 'chance', 'character', 'development', 'busy', 'running', 'one', 'sword', 'fight', 'another', 'emotional', 'attachment', 'except', 'big', 'bad', 'machine', 'wanted', 'destroy', 'scene', 'blatantly', 'stolen', 'movie', 'lotr_UPPER', 'star', 'war', 'matrix', 'example', 'ghost', 'scene', 'end', 'stolen', 'final', 'scene', 'old', 'star', 'war', 'yoda', 'obee', 'one', 'vader', 'spider', 'machine', 'beginning', 'exactly', 'like', 'frodo', 'attacked', 'spider', 'return', 'king', 'elijah', 'wood', 'victim', 'film', 'wait', '......', 'hypnotizes', 'sting', 'victim', 'wrap', '.....', 'uh', 'hello', 'whole', 'machine', 'vs.', 'human', 'theme', 'matrix', '..', 'terminator', '.....', 'example', 'waste', 'time', 'someone', 'tell', 'nazi', \"'s\", 'nazi', \"'s\", 'juvenile', 'story', 'line', 'rushed', 'juvenile', 'conclusion', 'movie', 'could', 'decide', 'child', \"'s\", 'movie', 'adult', 'movie', \"n't\", 'much', 'either', 'awful', 'real', 'disappointment', 'say', 'least', 'save', 'money']"
        ],
        [
         "18",
         "I remember this film,it was the first film i had watched at the cinema the picture was dark in places i was very nervous it was back in 74/75 my Dad took me my brother & sister to Newbury cinema in Newbury Berkshire England. I recall the tigers and the lots of snow in the film also the appearance of Grizzly Adams actor Dan Haggery i think one of the tigers gets shot and dies. If anyone knows where to find this on DVD etc please let me know.The cinema now has been turned in a fitness club which is a very big shame as the nearest cinema now is 20 miles away, would love to hear from others who have seen this film or any other like it.",
         "positive",
         "['remember', 'film', 'first', 'film', 'watched', 'cinema', 'picture', 'dark', 'place', 'nervous', 'back', '74/75', 'dad', 'took', 'brother', 'sister', 'newbury', 'cinema', 'newbury', 'berkshire', 'england', 'recall', 'tiger', 'lot', 'snow', 'film', 'also', 'appearance', 'grizzly', 'adam', 'actor', 'dan', 'haggery', 'think', 'one', 'tiger', 'get', 'shot', 'dy', 'anyone', 'know', 'find', 'dvd_UPPER', 'etc', 'please', 'let', 'know.the', 'cinema', 'turned', 'fitness', 'club', 'big', 'shame', 'nearest', 'cinema', '20', 'mile', 'away', 'would', 'love', 'hear', 'others', 'seen', 'film', 'like']"
        ],
        [
         "19",
         "An awful film! It must have been up against some real stinkers to be nominated for the Golden Globe. They've taken the story of the first famous female Renaissance painter and mangled it beyond recognition. My complaint is not that they've taken liberties with the facts; if the story were good, that would perfectly fine. But it's simply bizarre -- by all accounts the true story of this artist would have made for a far better film, so why did they come up with this dishwater-dull script? I suppose there weren't enough naked people in the factual version. It's hurriedly capped off in the end with a summary of the artist's life -- we could have saved ourselves a couple of hours if they'd favored the rest of the film with same brevity.",
         "negative",
         "['awful', 'film', 'must', 'real', 'stinker', 'nominated', 'golden', 'globe', \"'ve\", 'taken', 'story', 'first', 'famous', 'female', 'renaissance', 'painter', 'mangled', 'beyond', 'recognition', 'complaint', \"'ve\", 'taken', 'liberty', 'fact', 'story', 'good', 'would', 'perfectly', 'fine', \"'s\", 'simply', 'bizarre', '--', 'account', 'true', 'story', 'artist', 'would', 'made', 'far', 'better', 'film', 'come', 'dishwater-dull', 'script', 'suppose', \"n't\", 'enough', 'naked', 'people', 'factual', 'version', \"'s\", 'hurriedly', 'capped', 'end', 'summary', 'artist', \"'s\", 'life', '--', 'could', 'saved', 'couple', 'hour', \"'d\", 'favored', 'rest', 'film', 'brevity']"
        ],
        [
         "20",
         "After the success of Die Hard and it's sequels it's no surprise really that in the 1990s, a glut of 'Die Hard on a .....' movies cashed in on the wrong guy, wrong place, wrong time concept. That is what they did with Cliffhanger, Die Hard on a mountain just in time to rescue Sly 'Stop or My Mom Will Shoot' Stallone's career.<br /><br />Cliffhanger is one big nit-pickers dream, especially to those who are expert at mountain climbing, base-jumping, aviation, facial expressions, acting skills. All in all it's full of excuses to dismiss the film as one overblown pile of junk. Stallone even managed to get out-acted by a horse! However, if you an forget all the nonsense, it's actually a very lovable and undeniably entertaining romp that delivers as plenty of thrills, and unintentionally, plenty of laughs.<br /><br />You've got to love John Lithgows sneery evilness, his tick every box band of baddies, and best of all, the permanently harassed and hapless 'turncoat' agent, Rex Linn as Travers.<br /><br />He may of been Henry in 'Portrait of a Serial Killer' but Michael Rooker is noteworthy for a cringe-worthy performance as Hal, he insists on constantly shrieking in painful disbelief at his captors 'that man never hurt anybody' And whilst he surely can't be, it really does look like Ralph Waite's Frank character is grinning as the girl plummets to her death.<br /><br />Mention too must go to former 'London's Burning' actor Craig Fairbrass as the Brit bad guy, who comes a cropper whilst using Hal as a Human Football, yes, you can't help enjoy that bit, Hal needed a good kicking.<br /><br />So forget your better judgement, who cares if 'that could never happen', lower your acting expectations, turn up the volume and enjoy! And if you're looking for Qaulen, he's the one wearing the helicopter.",
         "positive",
         "['success', 'die', 'hard', \"'s\", 'sequel', \"'s\", 'surprise', 'really', '1990s', 'glut', \"'die\", 'hard', '.....', 'movie', 'cashed', 'wrong', 'guy', 'wrong', 'place', 'wrong', 'time', 'concept', 'cliffhanger', 'die', 'hard', 'mountain', 'time', 'rescue', 'sly', \"'stop\", 'mom', 'shoot', 'stallone', \"'s\", 'career', 'cliffhanger', 'one', 'big', 'nit-pickers', 'dream', 'especially', 'expert', 'mountain', 'climbing', 'base-jumping', 'aviation', 'facial', 'expression', 'acting', 'skill', \"'s\", 'full', 'excuse', 'dismiss', 'film', 'one', 'overblown', 'pile', 'junk', 'stallone', 'even', 'managed', 'get', 'out-acted', 'horse', 'however', 'forget', 'nonsense', \"'s\", 'actually', 'lovable', 'undeniably', 'entertaining', 'romp', 'delivers', 'plenty', 'thrill', 'unintentionally', 'plenty', 'laugh', \"'ve\", 'got', 'love', 'john', 'lithgows', 'sneery', 'evilness', 'tick', 'every', 'box', 'band', 'baddie', 'best', 'permanently', 'harassed', 'hapless', \"'turncoat\", 'agent', 'rex', 'linn', 'travers', 'may', 'henry', \"'portrait\", 'serial', 'killer', 'michael', 'rooker', 'noteworthy', 'cringe-worthy', 'performance', 'hal', 'insists', 'constantly', 'shrieking', 'painful', 'disbelief', 'captor', \"'that\", 'man', 'never', 'hurt', 'anybody', 'whilst', 'surely', 'ca', \"n't\", 'really', 'look', 'like', 'ralph', 'waite', \"'s\", 'frank', 'character', 'grinning', 'girl', 'plummet', 'death', 'mention', 'must', 'go', 'former', \"'london\", \"'s\", 'burning', 'actor', 'craig', 'fairbrass', 'brit', 'bad', 'guy', 'come', 'cropper', 'whilst', 'using', 'hal', 'human', 'football', 'yes', 'ca', \"n't\", 'help', 'enjoy', 'bit', 'hal', 'needed', 'good', 'kicking', 'forget', 'better', 'judgement', 'care', \"'that\", 'could', 'never', 'happen', 'lower', 'acting', 'expectation', 'turn', 'volume', 'enjoy', \"'re\", 'looking', 'qaulen', \"'s\", 'one', 'wearing', 'helicopter']"
        ],
        [
         "21",
         "I had the terrible misfortune of having to view this \"b-movie\" in it's entirety.<br /><br />All I have to say is--- save your time and money!!! This has got to be the worst b-movie of all time, it shouldn't even be called a b-movie, more like an f-movie! Because it fails in all aspects that make a good movie: the story is not interesting at all, all of the actors are paper-thin and not at all believable, it has bad direction and the action sequences are so fake it's almost funny.......almost.<br /><br />The movie is just packed full of crappy one-liners that no respectable person could find amusing in the least little bit.<br /><br />This movie is supposed to be geared towards men, but all the women in it are SO utterly unattractive, especially that old wrinkled thing that comes in towards the end. They try to appear sexy in those weird, horrible costumes and they fail miserably!!!<br /><br />Even some of the most ridiculous b-movies will still give you some laughs, but this is just too painful to watch!!",
         "negative",
         "['terrible', 'misfortune', 'view', '``', 'b-movie', \"''\", \"'s\", 'entirety', 'say', '--', 'save', 'time', 'money', 'got', 'worst', 'b-movie', 'time', \"n't\", 'even', 'called', 'b-movie', 'like', 'f-movie', 'fails', 'aspect', 'make', 'good', 'movie', 'story', 'interesting', 'actor', 'paper-thin', 'believable', 'bad', 'direction', 'action', 'sequence', 'fake', \"'s\", 'almost', 'funny', '.......', 'almost', 'movie', 'packed', 'full', 'crappy', 'one-liner', 'respectable', 'person', 'could', 'find', 'amusing', 'least', 'little', 'bit', 'movie', 'supposed', 'geared', 'towards', 'men', 'woman', 'utterly', 'unattractive', 'especially', 'old', 'wrinkled', 'thing', 'come', 'towards', 'end', 'try', 'appear', 'sexy', 'weird', 'horrible', 'costume', 'fail', 'miserably', 'even', 'ridiculous', 'b-movies', 'still', 'give', 'laugh', 'painful', 'watch']"
        ],
        [
         "22",
         "What an absolutely stunning movie, if you have 2.5 hrs to kill, watch it, you won't regret it, it's too much fun! Rajnikanth carries the movie on his shoulders and although there isn't anything more other than him, I still liked it. The music by A.R.Rehman takes time to grow on you but after you heard it a few times, you really start liking it.",
         "positive",
         "['absolutely', 'stunning', 'movie', '2.5', 'hr', 'kill', 'watch', 'wo', \"n't\", 'regret', \"'s\", 'much', 'fun', 'rajnikanth', 'carry', 'movie', 'shoulder', 'although', \"n't\", 'anything', 'still', 'liked', 'music', 'a.r.rehman', 'take', 'time', 'grow', 'heard', 'time', 'really', 'start', 'liking']"
        ],
        [
         "23",
         "First of all, let's get a few things straight here: a) I AM an anime fan- always has been as a matter of fact (I used to watch Speed Racer all the time in Preschool). b) I DO like several B-Movies because they're hilarious. c) I like the Godzilla movies- a lot.<br /><br />Moving on, when the movie first comes on, it seems like it's going to be your usual B-movie, down to the crappy FX, but all a sudden- BOOM! the anime comes on! This is when the movie goes WWWAAAAAYYYYY downhill.<br /><br />The animation is VERY bad & cheap, even worse than what I remember from SPEED RACER, for crissakes! In fact, it's so cheap, one of the few scenes from the movie I \"vividly\" remember is when a bunch of kids run out of a school... & it's the same kids over & over again! The FX are terrible, too; the dinosaurs look worse than Godzilla. In addition, the transition to live action to animation is unorganized, the dialogue & voices(especially the English dub that I viewed) was horrid & I was begging my dad to take the tape out of the DVD/ VHS player; The only thing that kept me surviving was cracking out jokes & comments like the robots & Joel/Mike on MST3K (you pick the season). Honestly, this is the only way to barely enjoy this movie & survive it at the same time.<br /><br />Heck, I'm planning to show this to another fellow otaku pal of mine on Halloween for a B-Movie night. Because it's stupid, pretty painful to watch & unintentionally hilarious at the same time, I'm giving this movie a 3/10, an improvement from the 0.5/10 I was originally going to give it.<br /><br />(According to my grading scale: 3/10 means Pretty much both boring & bad. As fun as counting to three unless you find a way to make fun of it, then it will become as fun as counting to 15.)",
         "negative",
         "['first', 'let', \"'s\", 'get', 'thing', 'straight', 'anime', 'fan-', 'always', 'matter', 'fact', 'used', 'watch', 'speed', 'racer', 'time', 'preschool', 'b', 'like', 'several', 'b-movies', \"'re\", 'hilarious', 'c', 'like', 'godzilla', 'movies-', 'lot', 'moving', 'movie', 'first', 'come', 'seems', 'like', \"'s\", 'going', 'usual', 'b-movie', 'crappy', 'fx_UPPER', 'sudden-', 'boom_UPPER', 'anime', 'come', 'movie', 'go', 'wwwaaaaayyyyy_UPPER', 'downhill', 'animation', 'bad', 'cheap', 'even', 'worse', 'remember', 'speed_UPPER', 'racer_UPPER', 'crissakes', 'fact', \"'s\", 'cheap', 'one', 'scene', 'movie', '``', 'vividly', \"''\", 'remember', 'bunch', 'kid', 'run', 'school', '...', \"'s\", 'kid', 'fx_UPPER', 'terrible', 'dinosaur', 'look', 'worse', 'godzilla', 'addition', 'transition', 'live', 'action', 'animation', 'unorganized', 'dialogue', 'voice', 'especially', 'english', 'dub', 'viewed', 'horrid', 'begging', 'dad', 'take', 'tape', 'dvd/_UPPER', 'vhs_UPPER', 'player', 'thing', 'kept', 'surviving', 'cracking', 'joke', 'comment', 'like', 'robot', 'joel/mike', 'mst3k_UPPER', 'pick', 'season', 'honestly', 'way', 'barely', 'enjoy', 'movie', 'survive', 'time', 'heck', \"'m\", 'planning', 'show', 'another', 'fellow', 'otaku', 'pal', 'mine', 'halloween', 'b-movie', 'night', \"'s\", 'stupid', 'pretty', 'painful', 'watch', 'unintentionally', 'hilarious', 'time', \"'m\", 'giving', 'movie', '3/10', 'improvement', '0.5/10', 'originally', 'going', 'give', 'according', 'grading', 'scale', '3/10', 'mean', 'pretty', 'much', 'boring', 'bad', 'fun', 'counting', 'three', 'unless', 'find', 'way', 'make', 'fun', 'become', 'fun', 'counting', '15']"
        ],
        [
         "24",
         "This was the worst movie I saw at WorldFest and it also received the least amount of applause afterwards! I can only think it is receiving such recognition based on the amount of known actors in the film. It's great to see J.Beals but she's only in the movie for a few minutes. M.Parker is a much better actress than the part allowed for. The rest of the acting is hard to judge because the movie is so ridiculous and predictable. The main character is totally unsympathetic and therefore a bore to watch. There is no real emotional depth to the story. A movie revolving about an actor who can't get work doesn't feel very original to me. Nor does the development of the cop. It feels like one of many straight-to-video movies I saw back in the 90s ... And not even a good one in those standards.<br /><br />",
         "negative",
         "['worst', 'movie', 'saw', 'worldfest', 'also', 'received', 'least', 'amount', 'applause', 'afterwards', 'think', 'receiving', 'recognition', 'based', 'amount', 'known', 'actor', 'film', \"'s\", 'great', 'see', 'j.beals', \"'s\", 'movie', 'minute', 'm.parker', 'much', 'better', 'actress', 'part', 'allowed', 'rest', 'acting', 'hard', 'judge', 'movie', 'ridiculous', 'predictable', 'main', 'character', 'totally', 'unsympathetic', 'therefore', 'bore', 'watch', 'real', 'emotional', 'depth', 'story', 'movie', 'revolving', 'actor', 'ca', \"n't\", 'get', 'work', \"n't\", 'feel', 'original', 'development', 'cop', 'feel', 'like', 'one', 'many', 'straight-to-video', 'movie', 'saw', 'back', '90', '...', 'even', 'good', 'one', 'standard']"
        ],
        [
         "25",
         "The Karen Carpenter Story shows a little more about singer Karen Carpenter's complex life. Though it fails in giving accurate facts, and details.<br /><br />Cynthia Gibb (portrays Karen) was not a fine election. She is a good actress , but plays a very naive and sort of dumb Karen Carpenter. I think that the role needed a stronger character. Someone with a stronger personality.<br /><br />Louise Fletcher role as Agnes Carpenter is terrific, she does a great job as Karen's mother.<br /><br />It has great songs, which could have been included in a soundtrack album. Unfortunately they weren't, though this movie was on the top of the ratings in USA and other several countries",
         "positive",
         "['karen', 'carpenter', 'story', 'show', 'little', 'singer', 'karen', 'carpenter', \"'s\", 'complex', 'life', 'though', 'fails', 'giving', 'accurate', 'fact', 'detail', 'cynthia', 'gibb', 'portrays', 'karen', 'fine', 'election', 'good', 'actress', 'play', 'naive', 'sort', 'dumb', 'karen', 'carpenter', 'think', 'role', 'needed', 'stronger', 'character', 'someone', 'stronger', 'personality', 'louise', 'fletcher', 'role', 'agnes', 'carpenter', 'terrific', 'great', 'job', 'karen', \"'s\", 'mother', 'great', 'song', 'could', 'included', 'soundtrack', 'album', 'unfortunately', \"n't\", 'though', 'movie', 'top', 'rating', 'usa_UPPER', 'several', 'country']"
        ],
        [
         "26",
         "\"The Cell\" is an exotic masterpiece, a dizzying trip into not only the vast mind of a serial killer, but also into one of a very talented director. This is conclusive evidence of what can be achieved if human beings unleash their uninhibited imaginations. This is boldness at work, pushing aside thoughts to fall into formulas and cliches and creating something truly magnificent. This is the best movie of the year to date.<br /><br />I've read numerous complaints about this film, anywhere from all style and no substance to poorly cast characters and bad acting. To negatively criticize this film is to miss the point. This movie may be a landmark, a tradition where future movies will hopefully follow. \"The Cell\" has just opened the door to another world of imagination. So can we slam the door in its face and tell it and its director Tarsem Singh that we don't want any more? Personally, I would more than welcome another movie by Tarsem, and would love to see someone try to challenge him.<br /><br />We've all heard talk about going inside the mind of a serial killer, and yes, I do agree that the \"genre\" is a bit overworked. The 90s were full of movies trying to depict what makes serial killers tick; some of them worked, but most failed. But \"The Cell\" does not blaze down the same trail, we are given a new twist, we are physically transported into the mind and presented with nothing less than a fascinating journey of the most mysterious subject matter ever studied.<br /><br />I like how the movie does not bog us down with too much scientific jargon trying to explain how Jennifer Lopez actually gets to enter the brain of another. Instead, she just lies down on a laboratory table and is wrapped with what looks like really long Twizzlers and jaunted into another entity. \"The Cell\" wants to let you \"see\" what it's all about and not \"how\" it's all about, and I guess that's what some people don't like. True, I do like explanations with my movies, but when a movie ventures onto new ground you must let it do what it desires and simply take it in.<br /><br />I noticed how the film was very dark when it showed reality, maybe to contrast the bright visuals when inside the brain of another. Nonetheless, the set design was simply astonishing. I wouldn't be surprised if this film took home a few Oscars in cinematography, best costumes, best director and the like. If it were up to me it'd at least get nominated for best picture.<br /><br />I've noticed that I've kind of been repeating myself. Not because there's nothing else to say, but because I can't stress enough how fantastic I thought \"The Cell\" was. If you walk into the movie with a very open mind and to have it taken over with wonders and an eye-popping feast then you are assured a good time. I guess this film was just a little too much for some people, writing it off as \"weird\" or \"crazy\". I am very much into psychology and the imagination of the human mind, so it was right down my alley. Leaving the theater, I heard one audience member say \"Whoever made that movie sure did a lot of good drugs.\" If so, I want what he was smoking.<br /><br />**** (out of 4)",
         "positive",
         "['``', 'cell', \"''\", 'exotic', 'masterpiece', 'dizzying', 'trip', 'vast', 'mind', 'serial', 'killer', 'also', 'one', 'talented', 'director', 'conclusive', 'evidence', 'achieved', 'human', 'being', 'unleash', 'uninhibited', 'imagination', 'boldness', 'work', 'pushing', 'aside', 'thought', 'fall', 'formula', 'cliche', 'creating', 'something', 'truly', 'magnificent', 'best', 'movie', 'year', 'date', \"'ve\", 'read', 'numerous', 'complaint', 'film', 'anywhere', 'style', 'substance', 'poorly', 'cast', 'character', 'bad', 'acting', 'negatively', 'criticize', 'film', 'miss', 'point', 'movie', 'may', 'landmark', 'tradition', 'future', 'movie', 'hopefully', 'follow', '``', 'cell', \"''\", 'opened', 'door', 'another', 'world', 'imagination', 'slam', 'door', 'face', 'tell', 'director', 'tarsem', 'singh', \"n't\", 'want', 'personally', 'would', 'welcome', 'another', 'movie', 'tarsem', 'would', 'love', 'see', 'someone', 'try', 'challenge', \"'ve\", 'heard', 'talk', 'going', 'inside', 'mind', 'serial', 'killer', 'yes', 'agree', '``', 'genre', \"''\", 'bit', 'overworked', '90', 'full', 'movie', 'trying', 'depict', 'make', 'serial', 'killer', 'tick', 'worked', 'failed', '``', 'cell', \"''\", 'blaze', 'trail', 'given', 'new', 'twist', 'physically', 'transported', 'mind', 'presented', 'nothing', 'less', 'fascinating', 'journey', 'mysterious', 'subject', 'matter', 'ever', 'studied', 'like', 'movie', 'bog', 'u', 'much', 'scientific', 'jargon', 'trying', 'explain', 'jennifer', 'lopez', 'actually', 'get', 'enter', 'brain', 'another', 'instead', 'lie', 'laboratory', 'table', 'wrapped', 'look', 'like', 'really', 'long', 'twizzlers', 'jaunted', 'another', 'entity', '``', 'cell', \"''\", 'want', 'let', '``', 'see', \"''\", \"'s\", '``', \"''\", \"'s\", 'guess', \"'s\", 'people', \"n't\", 'like', 'true', 'like', 'explanation', 'movie', 'movie', 'venture', 'onto', 'new', 'ground', 'must', 'let', 'desire', 'simply', 'take', 'noticed', 'film', 'dark', 'showed', 'reality', 'maybe', 'contrast', 'bright', 'visuals', 'inside', 'brain', 'another', 'nonetheless', 'set', 'design', 'simply', 'astonishing', 'would', \"n't\", 'surprised', 'film', 'took', 'home', 'oscar', 'cinematography', 'best', 'costume', 'best', 'director', 'like', \"'d\", 'least', 'get', 'nominated', 'best', 'picture', \"'ve\", 'noticed', \"'ve\", 'kind', 'repeating', \"'s\", 'nothing', 'else', 'say', 'ca', \"n't\", 'stress', 'enough', 'fantastic', 'thought', '``', 'cell', \"''\", 'walk', 'movie', 'open', 'mind', 'taken', 'wonder', 'eye-popping', 'feast', 'assured', 'good', 'time', 'guess', 'film', 'little', 'much', 'people', 'writing', '``', 'weird', \"''\", '``', 'crazy', \"''\", 'much', 'psychology', 'imagination', 'human', 'mind', 'right', 'alley', 'leaving', 'theater', 'heard', 'one', 'audience', 'member', 'say', '``', 'whoever', 'made', 'movie', 'sure', 'lot', 'good', 'drug', \"''\", 'want', 'smoking', '4']"
        ],
        [
         "27",
         "This film tried to be too many things all at once: stinging political satire, Hollywood blockbuster, sappy romantic comedy, family values promo... the list goes on and on. It failed miserably at all of them, but there was enough interest to keep me from turning it off until the end.<br /><br />Although I appreciate the spirit behind WAR, INC., it depresses me to see such a clumsy effort, especially when it will be taken by its targets to reflect the lack of the existence of a serious critique, rather than simply the poor writing, direction, and production of this particular film.<br /><br />There is a critique to be made about the corporatization of war. But poking fun at it in this way diminishes the true atrocity of what is happening. Reminds me a bit of THREE KINGS, which similarly trivializes a genuine cause for concern.",
         "negative",
         "['film', 'tried', 'many', 'thing', 'stinging', 'political', 'satire', 'hollywood', 'blockbuster', 'sappy', 'romantic', 'comedy', 'family', 'value', 'promo', '...', 'list', 'go', 'failed', 'miserably', 'enough', 'interest', 'keep', 'turning', 'end', 'although', 'appreciate', 'spirit', 'behind', 'war_UPPER', 'inc._UPPER', 'depresses', 'see', 'clumsy', 'effort', 'especially', 'taken', 'target', 'reflect', 'lack', 'existence', 'serious', 'critique', 'rather', 'simply', 'poor', 'writing', 'direction', 'production', 'particular', 'film', 'critique', 'made', 'corporatization', 'war', 'poking', 'fun', 'way', 'diminishes', 'true', 'atrocity', 'happening', 'reminds', 'bit', 'three_UPPER', 'kings_UPPER', 'similarly', 'trivializes', 'genuine', 'cause', 'concern']"
        ],
        [
         "28",
         "This movie was so frustrating. Everything seemed energetic and I was totally prepared to have a good time. I at least thought I'd be able to stand it. But, I was wrong. First, the weird looping? It was like watching \"America's Funniest Home Videos\". The damn parents. I hated them so much. The stereo-typical Latino family? I need to speak with the person responsible for this. We need to have a talk. That little girl who was always hanging on someone? I just hated her and had to mention it. Now, the final scene transcends, I must say. It's so gloriously bad and full of badness that it is a movie of its own. What crappy dancing. Horrible and beautiful at once.",
         "negative",
         "['movie', 'frustrating', 'everything', 'seemed', 'energetic', 'totally', 'prepared', 'good', 'time', 'least', 'thought', \"'d\", 'able', 'stand', 'wrong', 'first', 'weird', 'looping', 'like', 'watching', '``', 'america', \"'s\", 'funniest', 'home', 'video', \"''\", 'damn', 'parent', 'hated', 'much', 'stereo-typical', 'latino', 'family', 'need', 'speak', 'person', 'responsible', 'need', 'talk', 'little', 'girl', 'always', 'hanging', 'someone', 'hated', 'mention', 'final', 'scene', 'transcends', 'must', 'say', \"'s\", 'gloriously', 'bad', 'full', 'badness', 'movie', 'crappy', 'dancing', 'horrible', 'beautiful']"
        ],
        [
         "29",
         "'War movie' is a Hollywood genre that has been done and redone so many times that clichéd dialogue, rehashed plot and over-the-top action sequences seem unavoidable for any conflict dealing with large-scale combat. Once in a while, however, a war movie comes along that goes against the grain and brings a truly original and compelling story to life on the silver screen. The Civil War-era \"Cold Mountain,\" starring Jude Law, Nicole Kidman and Renée Zellweger is such a film.<br /><br />Then again, calling Cold Mountain\" a war movie is not entirely accurate. True enough, the film opens with a (quite literally) quick-and-dirty battle sequence that puts \"Glory\" director Edward Zwick shame. However, \"Cold Mountain\" is not so much about the Civil War itself as it is about the period and the people of the times. The story centers around disgruntled Confederate soldier Inman, played by Jude Law, who becomes disgusted with the gruesome war and homesick for the beautiful hamlet of Cold Mountain, North Carolina and the equally beautiful southern belle he left behind, Ada Monroe, played by Nicole Kidman. At first glance, this setup appears formulaic as the romantic interest back home gives the audience enough sympathy to root for the reluctant soldier's tribulations on the battlefield. Indeed, the earlier segments of the film are relatively unimpressive and even somewhat contrived.<br /><br />\"Cold Mountain\" soon takes a drastic turn, though, as the intrepid hero Inman turns out to be a deserter (incidentally saving the audience from the potentially confusing scenario of wanting to root for the Confederates) and begins a long odyssey homeward. Meanwhile, back at the farm, Ada's cultured ways prove of little use in the fields; soon she is transformed into something of a wilderbeast. Coming to Ada's rescue is the course, tough-as-nails Ruby Thewes, played by Renée Zellweger, who helps Ada put the farm back together and, perhaps more importantly, cope with the loneliness and isolation the war seems to have brought upon Ada.<br /><br />Within these two settings, a vivid, compelling and, at times, very disturbing portrait of the war-torn South unfolds. The characters with whom Inman and Ada interact are surprisingly complex, enhanced by wonderful performances of Brendan Gleeson as Ruby's deadbeat father, Ray Winstone as an unrepentant southern \"lawman,\" and Natalie Portman as a deeply troubled and isolated young mother. All have been greatly affected and changed by \"the war of Northern aggression,\" mostly for the worse. The dark, pervading anti-war message, accented by an effective, haunting score and chillingly beautiful shots of Virginia and North Carolina, is communicated to the audience not so much by gruesome battle scenes as by the scarred land and traumatized people for which the war was fought. Though the weapons and tactics of war itself have changed much in the past century, it's hellish effect on the land is timelessly relevant.<br /><br />Director Anthony Minghella manages to maintain this gloomy mood for most of the film, but the atmosphere is unfortunately denigrated by a rather tepid climax that does little justice to the wonderfully formed characters. The love story between Inman and Ada is awkwardly tacked onto the beginning and end of the film, though the inherently distant, abstracted and even absurd nature of their relationship in a way fits the dismal nature of the rest of the plot.<br /><br />Make no mistake, \"Cold Mountain\" has neither the traits of a feel-good romance nor an inspiring war drama. It is a unique vision of an era that is sure not only to entertain but also to truly absorb the audience into the lives of a people torn apart by a war and entirely desperate to be rid of its terrible repercussions altogether.",
         "positive",
         "[\"'war\", 'movie', 'hollywood', 'genre', 'done', 'redone', 'many', 'time', 'clichéd', 'dialogue', 'rehashed', 'plot', 'over-the-top', 'action', 'sequence', 'seem', 'unavoidable', 'conflict', 'dealing', 'large-scale', 'combat', 'however', 'war', 'movie', 'come', 'along', 'go', 'grain', 'brings', 'truly', 'original', 'compelling', 'story', 'life', 'silver', 'screen', 'civil', 'war-era', '``', 'cold', 'mountain', \"''\", 'starring', 'jude', 'law', 'nicole', 'kidman', 'renée', 'zellweger', 'film', 'calling', 'cold', 'mountain', \"''\", 'war', 'movie', 'entirely', 'accurate', 'true', 'enough', 'film', 'open', 'quite', 'literally', 'quick-and-dirty', 'battle', 'sequence', 'put', '``', 'glory', \"''\", 'director', 'edward', 'zwick', 'shame', 'however', '``', 'cold', 'mountain', \"''\", 'much', 'civil', 'war', 'period', 'people', 'time', 'story', 'center', 'around', 'disgruntled', 'confederate', 'soldier', 'inman', 'played', 'jude', 'law', 'becomes', 'disgusted', 'gruesome', 'war', 'homesick', 'beautiful', 'hamlet', 'cold', 'mountain', 'north', 'carolina', 'equally', 'beautiful', 'southern', 'belle', 'left', 'behind', 'ada', 'monroe', 'played', 'nicole', 'kidman', 'first', 'glance', 'setup', 'appears', 'formulaic', 'romantic', 'interest', 'back', 'home', 'give', 'audience', 'enough', 'sympathy', 'root', 'reluctant', 'soldier', \"'s\", 'tribulation', 'battlefield', 'indeed', 'earlier', 'segment', 'film', 'relatively', 'unimpressive', 'even', 'somewhat', 'contrived', '``', 'cold', 'mountain', \"''\", 'soon', 'take', 'drastic', 'turn', 'though', 'intrepid', 'hero', 'inman', 'turn', 'deserter', 'incidentally', 'saving', 'audience', 'potentially', 'confusing', 'scenario', 'wanting', 'root', 'confederate', 'begin', 'long', 'odyssey', 'homeward', 'meanwhile', 'back', 'farm', 'ada', \"'s\", 'cultured', 'way', 'prove', 'little', 'use', 'field', 'soon', 'transformed', 'something', 'wilderbeast', 'coming', 'ada', \"'s\", 'rescue', 'course', 'tough-as-nails', 'ruby', 'thewes', 'played', 'renée', 'zellweger', 'help', 'ada', 'put', 'farm', 'back', 'together', 'perhaps', 'importantly', 'cope', 'loneliness', 'isolation', 'war', 'seems', 'brought', 'upon', 'ada', 'within', 'two', 'setting', 'vivid', 'compelling', 'time', 'disturbing', 'portrait', 'war-torn', 'south', 'unfolds', 'character', 'inman', 'ada', 'interact', 'surprisingly', 'complex', 'enhanced', 'wonderful', 'performance', 'brendan', 'gleeson', 'ruby', \"'s\", 'deadbeat', 'father', 'ray', 'winstone', 'unrepentant', 'southern', '``', 'lawman', \"''\", 'natalie', 'portman', 'deeply', 'troubled', 'isolated', 'young', 'mother', 'greatly', 'affected', 'changed', '``', 'war', 'northern', 'aggression', \"''\", 'mostly', 'worse', 'dark', 'pervading', 'anti-war', 'message', 'accented', 'effective', 'haunting', 'score', 'chillingly', 'beautiful', 'shot', 'virginia', 'north', 'carolina', 'communicated', 'audience', 'much', 'gruesome', 'battle', 'scene', 'scarred', 'land', 'traumatized', 'people', 'war', 'fought', 'though', 'weapon', 'tactic', 'war', 'changed', 'much', 'past', 'century', \"'s\", 'hellish', 'effect', 'land', 'timelessly', 'relevant', 'director', 'anthony', 'minghella', 'manages', 'maintain', 'gloomy', 'mood', 'film', 'atmosphere', 'unfortunately', 'denigrated', 'rather', 'tepid', 'climax', 'little', 'justice', 'wonderfully', 'formed', 'character', 'love', 'story', 'inman', 'ada', 'awkwardly', 'tacked', 'onto', 'beginning', 'end', 'film', 'though', 'inherently', 'distant', 'abstracted', 'even', 'absurd', 'nature', 'relationship', 'way', 'fit', 'dismal', 'nature', 'rest', 'plot', 'make', 'mistake', '``', 'cold', 'mountain', \"''\", 'neither', 'trait', 'feel-good', 'romance', 'inspiring', 'war', 'drama', 'unique', 'vision', 'era', 'sure', 'entertain', 'also', 'truly', 'absorb', 'audience', 'life', 'people', 'torn', 'apart', 'war', 'entirely', 'desperate', 'rid', 'terrible', 'repercussion', 'altogether']"
        ],
        [
         "30",
         "Taut and organically gripping, Edward Dmytryk's Crossfire is a distinctive suspense thriller, an unlikely \"message\" movie using the look and devices of the noir cycle.<br /><br />Bivouacked in Washington, DC, a company of soldiers cope with their restlessness by hanging out in bars. Three of them end up at a stranger's apartment where Robert Ryan, drunk and belligerent, beats their host (Sam Levene) to death because he happens to be Jewish. Police detective Robert Young investigates with the help of Robert Mitchum, who's assigned to Ryan's outfit. Suspicion falls on the second of the three (George Cooper), who has vanished. Ryan slays the third buddy (Steve Brodie) to insure his silence before Young closes in.<br /><br />Abetted by a superior script by John Paxton, Dmytryk draws precise performances from his three starring Bobs. Ryan, naturally, does his prototypical Angry White Male (and to the hilt), while Mitchum underplays with his characteristic alert nonchalance (his role, however, is not central); Young may never have been better. Gloria Grahame gives her first fully-fledged rendition of the smart-mouthed, vulnerable tramp, and, as a sad sack who's leeched into her life, Paul Kelly haunts us in a small, peripheral role that he makes memorable.<br /><br />The politically engaged Dmytryk perhaps inevitably succumbs to sermonizing, but it's pretty much confined to Young's reminiscence of how his Irish grandfather died at the hands of bigots a century earlier (thus, incidentally, stretching chronology to the limit). At least there's no attempt to render an explanation, however glib, of why Ryan hates Jews (and hillbillies and...).<br /><br />Curiously, Crossfire survives even the major change wrought upon it -- the novel it's based on (Richard Brooks' The Brick Foxhole) dealt with a gay-bashing murder. But homosexuality in 1947 was still Beyond The Pale. News of the Holocaust had, however, begun to emerge from the ashes of Europe, so Hollywood felt emboldened to register its protest against anti-Semitism (the studios always quaked at the prospect of offending any potential ticket buyer).<br /><br />But while the change from homophobia to anti-Semitism works in general, the specifics don't fit so smoothly. The victim's chatting up a lonesome, drunk young soldier then inviting him back home looks odd, even though (or especially since) there's a girlfriend in tow. It raises the question whether this scenario was retained inadvertently or left in as a discreet tip-off to the original engine generating Ryan's murderous rage.",
         "positive",
         "['taut', 'organically', 'gripping', 'edward', 'dmytryk', \"'s\", 'crossfire', 'distinctive', 'suspense', 'thriller', 'unlikely', '``', 'message', \"''\", 'movie', 'using', 'look', 'device', 'noir', 'cycle', 'bivouacked', 'washington', 'dc_UPPER', 'company', 'soldier', 'cope', 'restlessness', 'hanging', 'bar', 'three', 'end', 'stranger', \"'s\", 'apartment', 'robert', 'ryan', 'drunk', 'belligerent', 'beat', 'host', 'sam', 'levene', 'death', 'happens', 'jewish', 'police', 'detective', 'robert', 'young', 'investigates', 'help', 'robert', 'mitchum', \"'s\", 'assigned', 'ryan', \"'s\", 'outfit', 'suspicion', 'fall', 'second', 'three', 'george', 'cooper', 'vanished', 'ryan', 'slays', 'third', 'buddy', 'steve', 'brodie', 'insure', 'silence', 'young', 'close', 'abetted', 'superior', 'script', 'john', 'paxton', 'dmytryk', 'draw', 'precise', 'performance', 'three', 'starring', 'bob', 'ryan', 'naturally', 'prototypical', 'angry', 'white', 'male', 'hilt', 'mitchum', 'underplays', 'characteristic', 'alert', 'nonchalance', 'role', 'however', 'central', 'young', 'may', 'never', 'better', 'gloria', 'grahame', 'give', 'first', 'fully-fledged', 'rendition', 'smart-mouthed', 'vulnerable', 'tramp', 'sad', 'sack', \"'s\", 'leeched', 'life', 'paul', 'kelly', 'haunt', 'u', 'small', 'peripheral', 'role', 'make', 'memorable', 'politically', 'engaged', 'dmytryk', 'perhaps', 'inevitably', 'succumbs', 'sermonizing', \"'s\", 'pretty', 'much', 'confined', 'young', \"'s\", 'reminiscence', 'irish', 'grandfather', 'died', 'hand', 'bigot', 'century', 'earlier', 'thus', 'incidentally', 'stretching', 'chronology', 'limit', 'least', \"'s\", 'attempt', 'render', 'explanation', 'however', 'glib', 'ryan', 'hate', 'jew', 'hillbilly', '...', 'curiously', 'crossfire', 'survives', 'even', 'major', 'change', 'wrought', 'upon', '--', 'novel', \"'s\", 'based', 'richard', 'brook', 'brick', 'foxhole', 'dealt', 'gay-bashing', 'murder', 'homosexuality', '1947', 'still', 'beyond', 'pale', 'news', 'holocaust', 'however', 'begun', 'emerge', 'ash', 'europe', 'hollywood', 'felt', 'emboldened', 'register', 'protest', 'anti-semitism', 'studio', 'always', 'quaked', 'prospect', 'offending', 'potential', 'ticket', 'buyer', 'change', 'homophobia', 'anti-semitism', 'work', 'general', 'specific', \"n't\", 'fit', 'smoothly', 'victim', \"'s\", 'chatting', 'lonesome', 'drunk', 'young', 'soldier', 'inviting', 'back', 'home', 'look', 'odd', 'even', 'though', 'especially', 'since', \"'s\", 'girlfriend', 'tow', 'raise', 'question', 'whether', 'scenario', 'retained', 'inadvertently', 'left', 'discreet', 'tip-off', 'original', 'engine', 'generating', 'ryan', \"'s\", 'murderous', 'rage']"
        ],
        [
         "31",
         "\"Ardh Satya\" is one of the finest film ever made in Indian Cinema. Directed by the great director Govind Nihalani, this one is the most successful Hard Hitting Parallel Cinema which also turned out to be a Commercial Success. Even today, Ardh Satya is an inspiration for all leading directors of India.<br /><br />The film tells the Real-life Scenario of Mumbai Police of the 70s. Unlike any Police of other cities in India, Mumbai Police encompasses a Different system altogether. Govind Nihalani creates a very practical Outlay with real life approach of Mumbai Police Environment.<br /><br />Amongst various Police officers & colleagues, the film describes the story of Anand Velankar, a young hot-blooded Cop coming from a poor family. His father is a harsh Police Constable. Anand himself suffers from his father's ideologies & incidences of his father's Atrocities on his mother. Anand's approach towards immediate action against crime, is an inert craving for his own Job satisfaction. The film is here revolved in a Plot wherein Anand's constant efforts against crime are trampled by his seniors.This leads to frustrations, as he cannot achieve the desired Job-satisfaction. Resulting from the frustrations, his anger is expressed in excessive violence in the remand rooms & bars, also turning him to an alcoholic.<br /><br />The Spirit within him is still alive, as he constantly fights the system. He is aware of the system of the Metro, where the Police & Politicians are a inertly associated by far end. His compromise towards unethical practice is negative. Finally he gets suspended.<br /><br />The Direction is a master piece & thoroughly hard core. One of the best memorable scenes is when Anand breaks in the Underworld gangster Rama Shetty's house to arrest him, followed by short conversation which is fantastic. At many scenes, the film has Hair-raising moments.<br /><br />The Practical approach of Script is a major Punch. Alcoholism, Corruption, Political Influence, Courage, Deceptions all are integral part of Mumbai police even today. Those aspects are dealt brilliantly.<br /><br />Finally, the films belongs to the One man show, Om Puri portraying Anand Velankar traversing through all his emotions absolutely brilliantly.",
         "positive",
         "['``', 'ardh', 'satya', \"''\", 'one', 'finest', 'film', 'ever', 'made', 'indian', 'cinema', 'directed', 'great', 'director', 'govind', 'nihalani', 'one', 'successful', 'hard', 'hitting', 'parallel', 'cinema', 'also', 'turned', 'commercial', 'success', 'even', 'today', 'ardh', 'satya', 'inspiration', 'leading', 'director', 'india', 'film', 'tell', 'real-life', 'scenario', 'mumbai', 'police', '70', 'unlike', 'police', 'city', 'india', 'mumbai', 'police', 'encompasses', 'different', 'system', 'altogether', 'govind', 'nihalani', 'creates', 'practical', 'outlay', 'real', 'life', 'approach', 'mumbai', 'police', 'environment', 'amongst', 'various', 'police', 'officer', 'colleague', 'film', 'describes', 'story', 'anand', 'velankar', 'young', 'hot-blooded', 'cop', 'coming', 'poor', 'family', 'father', 'harsh', 'police', 'constable', 'anand', 'suffers', 'father', \"'s\", 'ideology', 'incidence', 'father', \"'s\", 'atrocity', 'mother', 'anand', \"'s\", 'approach', 'towards', 'immediate', 'action', 'crime', 'inert', 'craving', 'job', 'satisfaction', 'film', 'revolved', 'plot', 'wherein', 'anand', \"'s\", 'constant', 'effort', 'crime', 'trampled', 'seniors.this', 'lead', 'frustration', 'achieve', 'desired', 'job-satisfaction', 'resulting', 'frustration', 'anger', 'expressed', 'excessive', 'violence', 'remand', 'room', 'bar', 'also', 'turning', 'alcoholic', 'spirit', 'within', 'still', 'alive', 'constantly', 'fight', 'system', 'aware', 'system', 'metro', 'police', 'politician', 'inertly', 'associated', 'far', 'end', 'compromise', 'towards', 'unethical', 'practice', 'negative', 'finally', 'get', 'suspended', 'direction', 'master', 'piece', 'thoroughly', 'hard', 'core', 'one', 'best', 'memorable', 'scene', 'anand', 'break', 'underworld', 'gangster', 'rama', 'shetty', \"'s\", 'house', 'arrest', 'followed', 'short', 'conversation', 'fantastic', 'many', 'scene', 'film', 'hair-raising', 'moment', 'practical', 'approach', 'script', 'major', 'punch', 'alcoholism', 'corruption', 'political', 'influence', 'courage', 'deception', 'integral', 'part', 'mumbai', 'police', 'even', 'today', 'aspect', 'dealt', 'brilliantly', 'finally', 'film', 'belongs', 'one', 'man', 'show', 'om', 'puri', 'portraying', 'anand', 'velankar', 'traversing', 'emotion', 'absolutely', 'brilliantly']"
        ],
        [
         "32",
         "My first exposure to the Templarios & not a good one. I was excited to find this title among the offerings from Anchor Bay Video, which has brought us other cult classics such as \"Spider Baby\". The print quality is excellent, but this alone can't hide the fact that the film is deadly dull. There's a thrilling opening sequence in which the villagers exact a terrible revenge on the Templars (& set the whole thing in motion), but everything else in the movie is slow, ponderous &, ultimately, unfulfilling. Adding insult to injury: the movie was dubbed, not subtitled, as promised on the video jacket.",
         "negative",
         "['first', 'exposure', 'templarios', 'good', 'one', 'excited', 'find', 'title', 'among', 'offering', 'anchor', 'bay', 'video', 'brought', 'u', 'cult', 'classic', '``', 'spider', 'baby', \"''\", 'print', 'quality', 'excellent', 'alone', 'ca', \"n't\", 'hide', 'fact', 'film', 'deadly', 'dull', \"'s\", 'thrilling', 'opening', 'sequence', 'villager', 'exact', 'terrible', 'revenge', 'templar', 'set', 'whole', 'thing', 'motion', 'everything', 'else', 'movie', 'slow', 'ponderous', 'ultimately', 'unfulfilling', 'adding', 'insult', 'injury', 'movie', 'dubbed', 'subtitled', 'promised', 'video', 'jacket']"
        ],
        [
         "33",
         "One of the most significant quotes from the entire film is pronounced halfway through by the protagonist, the mafia middle-man Titta Di Girolamo, a physically non-descript, middle-aged man originally from Salerno in Southern Italy. When we're introduced to him at the start of the film, he's been living a non-life in an elegant but sterile hotel in the Italian-speaking Canton of Switzerland for the last ten years, conducting a business we are only gradually introduced to. While this pivotal yet apparently unremarkable scene takes place employees of the the Swiss bank who normally count Di Girolamo's cash tell him that 10,000 dollars are missing from his usual suitcase full of tightly stacked banknotes. At the news, he quietly but icily threatens his coaxing bank manager of wanting to close down his account. Meanwhile he tells us, the spectators, that when you bluff, you have to bluff right through to the end without fear of being caught out or appearing ridiculous. He says: you can't bluff for a while and then halfway through, tell the truth. Having eventually done this - bluffed only halfway through and told the truth, and having accepted the consequences of life and ultimately, love - is exactly the reason behind the beginning of Titta Di Girolamo's troubles. <br /><br />This initially unsympathetic character, a scowling, taciturn, curt man on the verge of 50, a man who won't even reply in kind to chambermaids and waitresses who say hello and goodbye, becomes at one point someone the spectator cares deeply about. At one point in his non-life, Titta decides to feel concern about appearing \"ridiculous\". The first half of the film may be described as \"slow\" by some. It does indeed reveal Di Girolamo's days and nights in that hotel at an oddly disjoined, deliberate pace, revealing seemingly mundane and irrelevant details. However, scenes that may have seemed unnecessary reveal just how essential they are as this masterfully constructed and innovative film unfolds before your eyes. The existence of Titta Di Girolamo - the man with no imagination, identity or life, the unsympathetic character you unexpectedly end up loving and feeling for when you least thought you would - is also conveyed with elegantly edited sequences and very interesting use of music (one theme by the Scottish band Boards of Canada especially stood out). <br /><br />Never was the contrast between the way Hollywood and Italy treat mobsters more at odds than since the release of films such as Le Conseguenze dell'Amore or L'Imbalsamatore. Another interesting element was the way in which the film made use of the protagonist's insomnia. Not unlike The Machinist (and in a far more explicit way, the Al Pacino film Insomnia), Le Conseguenze dell'Amore uses this condition to symbolise a deeper emotional malaise that's been rammed so deep into the obscurity of the unconscious, it's almost impossible to pin-point its cause (if indeed there is one). <br /><br />The young and sympathetic hotel waitress Sofia (played by Olivia Magnani, grand-daughter of the legendary Anna) and the memory of Titta's best friend, a man whom he hasn't seen in 20 years, unexpectedly provide a tiny window onto life that Titta eventually (though tentatively at first) accepts to look through again. Though it's never explicitly spelt out, the spectator KNOWS that to a man like Titta, accepting The Consequences of Love will have unimaginable consequences. A film without a single scene of sex or violence, a film that unfolds in its own time and concedes nothing to the spectator's expectations, Le Conseguenze dell'Amore is a fine representative of that small, quiet, discreet Renaissance that has been taking place in Italian cinema since the decline of Cinecittà during the second half of the 70s. The world is waiting for Italy to produce more Il Postino-like fare, more La Vita è Bella-style films... neglecting to explore fine creations like Le Conseguenze dell'Amore, L'Imbalsamatore and others. Your loss, world.",
         "positive",
         "['one', 'significant', 'quote', 'entire', 'film', 'pronounced', 'halfway', 'protagonist', 'mafia', 'middle-man', 'titta', 'di', 'girolamo', 'physically', 'non-descript', 'middle-aged', 'man', 'originally', 'salerno', 'southern', 'italy', \"'re\", 'introduced', 'start', 'film', \"'s\", 'living', 'non-life', 'elegant', 'sterile', 'hotel', 'italian-speaking', 'canton', 'switzerland', 'last', 'ten', 'year', 'conducting', 'business', 'gradually', 'introduced', 'pivotal', 'yet', 'apparently', 'unremarkable', 'scene', 'take', 'place', 'employee', 'swiss', 'bank', 'normally', 'count', 'di', 'girolamo', \"'s\", 'cash', 'tell', '10,000', 'dollar', 'missing', 'usual', 'suitcase', 'full', 'tightly', 'stacked', 'banknote', 'news', 'quietly', 'icily', 'threatens', 'coaxing', 'bank', 'manager', 'wanting', 'close', 'account', 'meanwhile', 'tell', 'u', 'spectator', 'bluff', 'bluff', 'right', 'end', 'without', 'fear', 'caught', 'appearing', 'ridiculous', 'say', 'ca', \"n't\", 'bluff', 'halfway', 'tell', 'truth', 'eventually', 'done', 'bluffed', 'halfway', 'told', 'truth', 'accepted', 'consequence', 'life', 'ultimately', 'love', 'exactly', 'reason', 'behind', 'beginning', 'titta', 'di', 'girolamo', \"'s\", 'trouble', 'initially', 'unsympathetic', 'character', 'scowling', 'taciturn', 'curt', 'man', 'verge', '50', 'man', 'wo', \"n't\", 'even', 'reply', 'kind', 'chambermaid', 'waitress', 'say', 'hello', 'goodbye', 'becomes', 'one', 'point', 'someone', 'spectator', 'care', 'deeply', 'one', 'point', 'non-life', 'titta', 'decides', 'feel', 'concern', 'appearing', '``', 'ridiculous', \"''\", 'first', 'half', 'film', 'may', 'described', '``', 'slow', \"''\", 'indeed', 'reveal', 'di', 'girolamo', \"'s\", 'day', 'night', 'hotel', 'oddly', 'disjoined', 'deliberate', 'pace', 'revealing', 'seemingly', 'mundane', 'irrelevant', 'detail', 'however', 'scene', 'may', 'seemed', 'unnecessary', 'reveal', 'essential', 'masterfully', 'constructed', 'innovative', 'film', 'unfolds', 'eye', 'existence', 'titta', 'di', 'girolamo', 'man', 'imagination', 'identity', 'life', 'unsympathetic', 'character', 'unexpectedly', 'end', 'loving', 'feeling', 'least', 'thought', 'would', 'also', 'conveyed', 'elegantly', 'edited', 'sequence', 'interesting', 'use', 'music', 'one', 'theme', 'scottish', 'band', 'board', 'canada', 'especially', 'stood', 'never', 'contrast', 'way', 'hollywood', 'italy', 'treat', 'mobster', 'odds', 'since', 'release', 'film', 'le', 'conseguenze', \"dell'amore\", \"l'imbalsamatore\", 'another', 'interesting', 'element', 'way', 'film', 'made', 'use', 'protagonist', \"'s\", 'insomnia', 'unlike', 'machinist', 'far', 'explicit', 'way', 'al', 'pacino', 'film', 'insomnia', 'le', 'conseguenze', \"dell'amore\", 'us', 'condition', 'symbolise', 'deeper', 'emotional', 'malaise', \"'s\", 'rammed', 'deep', 'obscurity', 'unconscious', \"'s\", 'almost', 'impossible', 'pin-point', 'cause', 'indeed', 'one', 'young', 'sympathetic', 'hotel', 'waitress', 'sofia', 'played', 'olivia', 'magnani', 'grand-daughter', 'legendary', 'anna', 'memory', 'titta', \"'s\", 'best', 'friend', 'man', \"n't\", 'seen', '20', 'year', 'unexpectedly', 'provide', 'tiny', 'window', 'onto', 'life', 'titta', 'eventually', 'though', 'tentatively', 'first', 'accepts', 'look', 'though', \"'s\", 'never', 'explicitly', 'spelt', 'spectator', 'knows_UPPER', 'man', 'like', 'titta', 'accepting', 'consequence', 'love', 'unimaginable', 'consequence', 'film', 'without', 'single', 'scene', 'sex', 'violence', 'film', 'unfolds', 'time', 'concedes', 'nothing', 'spectator', \"'s\", 'expectation', 'le', 'conseguenze', \"dell'amore\", 'fine', 'representative', 'small', 'quiet', 'discreet', 'renaissance', 'taking', 'place', 'italian', 'cinema', 'since', 'decline', 'cinecittà', 'second', 'half', '70', 'world', 'waiting', 'italy', 'produce', 'il', 'postino-like', 'fare', 'la', 'vita', 'è', 'bella-style', 'film', '...', 'neglecting', 'explore', 'fine', 'creation', 'like', 'le', 'conseguenze', \"dell'amore\", \"l'imbalsamatore\", 'others', 'loss', 'world']"
        ],
        [
         "34",
         "I watched this film not really expecting much, I got it in a pack of 5 films, all of which were pretty terrible in their own way for under a fiver so what could I expect? and you know what I was right, they were all terrible, this movie has a few (and a few is stretching it) interesting points, the occasional camcorder view is a nice touch, the drummer is very like a drummer, i.e damned annoying and, well thats about it actually, the problem is that its just so boring, in what I can only assume was an attempt to build tension, a whole lot of nothing happens and when it does its utterly tedious (I had my thumb on the fast forward button, ready to press for most of the movie, but gave it a go) and seriously is the lead singer of the band that great looking, coz they don't half mention how beautiful he is a hell of a lot, I thought he looked a bit like a meercat, all this and I haven't even mentioned the killer, I'm not even gonna go into it, its just not worth explaining. Anyway as far as I'm concerned Star and London are just about the only reason to watch this and with the exception of London (who was actually quite funny) it wasn't because of their acting talent, I've certainly seen a lot worse, but I've also seen a lot better. Best avoid unless your bored of watching paint dry.",
         "negative",
         "['watched', 'film', 'really', 'expecting', 'much', 'got', 'pack', '5', 'film', 'pretty', 'terrible', 'way', 'fiver', 'could', 'expect', 'know', 'right', 'terrible', 'movie', 'stretching', 'interesting', 'point', 'occasional', 'camcorder', 'view', 'nice', 'touch', 'drummer', 'like', 'drummer', 'i.e', 'damned', 'annoying', 'well', 'thats', 'actually', 'problem', 'boring', 'assume', 'attempt', 'build', 'tension', 'whole', 'lot', 'nothing', 'happens', 'utterly', 'tedious', 'thumb', 'fast', 'forward', 'button', 'ready', 'press', 'movie', 'gave', 'go', 'seriously', 'lead', 'singer', 'band', 'great', 'looking', 'coz', \"n't\", 'half', 'mention', 'beautiful', 'hell', 'lot', 'thought', 'looked', 'bit', 'like', 'meercat', \"n't\", 'even', 'mentioned', 'killer', \"'m\", 'even', 'gon', 'na', 'go', 'worth', 'explaining', 'anyway', 'far', \"'m\", 'concerned', 'star', 'london', 'reason', 'watch', 'exception', 'london', 'actually', 'quite', 'funny', \"n't\", 'acting', 'talent', \"'ve\", 'certainly', 'seen', 'lot', 'worse', \"'ve\", 'also', 'seen', 'lot', 'better', 'best', 'avoid', 'unless', 'bored', 'watching', 'paint', 'dry']"
        ],
        [
         "35",
         "I bought this film at Blockbuster for $3.00, because it sounded interesting (a bit Ranma-esque, with the idea of someone dragging around a skeleton), because there was a cute girl in a mini-skirt on the back, and because there was a Restricted Viewing sticker on it. I thought it was going to be a sweet or at least sincere coming of age story with a weird indie edge. I was 100% wrong.<br /><br />Having watched it, I have to wonder how it got the restricted sticker, since there is hardly any foul language, little violence, and the closest thing to nudity (Honestly! I don't usually go around hoping for it!) is when the girl is in her nightgown and you see her panties (you see her panties a lot in this movie, because no matter what, she's wearing a miniskirt of some sort). Even the anti-religious humor is tame (and lame, caricatured, insincere, derivative, unoriginal, and worst of all not funny in the slightest--it would be better just to listen to Ray Stevens' \"Would Jesus Wear a Rolex on His Television Show\"). This would barely qualify as PG-13 (it is Not Rated), but Blockbuster refuses to let anyone under the age of 17 rent this--as if it was pornographic. Any little kid could go in there and rent the edited version of Requiem for a Dream, but they insist that Zack and Reba is worse.<br /><br />It is, but not in that way.<br /><br />In a way, this worries me--the only thing left that could offend people is the idea of the suicide at the beginning. If anybody needs to see movies with honestly portrayed suicides (not this one, but better ones like The Virgin Suicides), it's teenagers. If both of those movies were rated R purely because of the suicide aspect, then I have little chance of turning a story I've been writing into a PG-13 movie (the main characters are eleven and a half and twelve). Suicide is one of the top three leading causes of death in teenagers (I think it's number 2), so chances are that most teens have been or will be affected by it.<br /><br />Just say no to this movie, though. 2/10.",
         "negative",
         "['bought', 'film', 'blockbuster', '3.00', 'sounded', 'interesting', 'bit', 'ranma-esque', 'idea', 'someone', 'dragging', 'around', 'skeleton', 'cute', 'girl', 'mini-skirt', 'back', 'restricted', 'viewing', 'sticker', 'thought', 'going', 'sweet', 'least', 'sincere', 'coming', 'age', 'story', 'weird', 'indie', 'edge', '100', 'wrong', 'watched', 'wonder', 'got', 'restricted', 'sticker', 'since', 'hardly', 'foul', 'language', 'little', 'violence', 'closest', 'thing', 'nudity', 'honestly', \"n't\", 'usually', 'go', 'around', 'hoping', 'girl', 'nightgown', 'see', 'panty', 'see', 'panty', 'lot', 'movie', 'matter', \"'s\", 'wearing', 'miniskirt', 'sort', 'even', 'anti-religious', 'humor', 'tame', 'lame', 'caricatured', 'insincere', 'derivative', 'unoriginal', 'worst', 'funny', 'slightest', '--', 'would', 'better', 'listen', 'ray', 'stevens', '``', 'would', 'jesus', 'wear', 'rolex', 'television', 'show', \"''\", 'would', 'barely', 'qualify', 'pg-13_UPPER', 'rated', 'blockbuster', 'refuse', 'let', 'anyone', 'age', '17', 'rent', '--', 'pornographic', 'little', 'kid', 'could', 'go', 'rent', 'edited', 'version', 'requiem', 'dream', 'insist', 'zack', 'reba', 'worse', 'way', 'way', 'worry', '--', 'thing', 'left', 'could', 'offend', 'people', 'idea', 'suicide', 'beginning', 'anybody', 'need', 'see', 'movie', 'honestly', 'portrayed', 'suicide', 'one', 'better', 'one', 'like', 'virgin', 'suicide', \"'s\", 'teenager', 'movie', 'rated', 'r', 'purely', 'suicide', 'aspect', 'little', 'chance', 'turning', 'story', \"'ve\", 'writing', 'pg-13_UPPER', 'movie', 'main', 'character', 'eleven', 'half', 'twelve', 'suicide', 'one', 'top', 'three', 'leading', 'cause', 'death', 'teenager', 'think', \"'s\", 'number', '2', 'chance', 'teen', 'affected', 'say', 'movie', 'though', '2/10']"
        ],
        [
         "36",
         "The plot is about the death of little children. Hopper is the one who has to investigate the killings. During the movie it appears that he has some troubles with his daughter. In the end the serial killer get caught. That's it. But before you find out who dunnit, you have to see some terrible acting by all of the actors. It is unbelievable how bad these actors are, including Hopper. I could go on like this but that to much of a waste of my time. Just don't watch the movie. I've warned you.",
         "negative",
         "['plot', 'death', 'little', 'child', 'hopper', 'one', 'investigate', 'killing', 'movie', 'appears', 'trouble', 'daughter', 'end', 'serial', 'killer', 'get', 'caught', \"'s\", 'find', 'dunnit', 'see', 'terrible', 'acting', 'actor', 'unbelievable', 'bad', 'actor', 'including', 'hopper', 'could', 'go', 'like', 'much', 'waste', 'time', \"n't\", 'watch', 'movie', \"'ve\", 'warned']"
        ],
        [
         "37",
         "Ever watched a movie that lost the plot? Well, this didn't even really have one to begin with.<br /><br />Where to begin? The achingly tedious scenes of our heroine sitting around the house with actually no sense of menace or even foreboding created even during the apparently constant thunderstorms (that are strangely never actually heard in the house-great double glazing)? The house that is apparently only a few miles from a town yet is several hours walk away(?) or the third girl who serves no purpose to the plot except to provide a surprisingly quick gory murder just as the tedium becomes unbearable? Or even the beginning which suggests a spate of 20+ killings throughout the area even though it is apparent the killer never ventures far from the house? Or the bizarre ritual with the salt & pepper that pretty much sums up most of the films inherent lack of direction.<br /><br />Add a lead actress who can't act but at least is willing to do some completely irrelevant nude shower scenes and this video is truly nasty, but not in the way you hope.<br /><br />Given a following simply for being banned in the UK in the 80's (mostly because of a final surprisingly over extended murder) it offers nothing but curiosity value- and one classic 'daft' murder (don't worry-its telegraphed at least ten minutes before).<br /><br />After a walk in the woods our victim comes to a rather steep upward slope which they obviously struggle up. Halfway through they see a figure at the top dressed in black and brandishing a large scythe. What do they do? Slide down and run like the rest of us? No, of course not- they struggle to the top and stand conveniently nice and upright in front of the murder weapon.<br /><br />It really IS only a movie as they say..",
         "negative",
         "['ever', 'watched', 'movie', 'lost', 'plot', 'well', \"n't\", 'even', 'really', 'one', 'begin', 'begin', 'achingly', 'tedious', 'scene', 'heroine', 'sitting', 'around', 'house', 'actually', 'sense', 'menace', 'even', 'foreboding', 'created', 'even', 'apparently', 'constant', 'thunderstorm', 'strangely', 'never', 'actually', 'heard', 'house-great', 'double', 'glazing', 'house', 'apparently', 'mile', 'town', 'yet', 'several', 'hour', 'walk', 'away', 'third', 'girl', 'serf', 'purpose', 'plot', 'except', 'provide', 'surprisingly', 'quick', 'gory', 'murder', 'tedium', 'becomes', 'unbearable', 'even', 'beginning', 'suggests', 'spate', '20+', 'killing', 'throughout', 'area', 'even', 'though', 'apparent', 'killer', 'never', 'venture', 'far', 'house', 'bizarre', 'ritual', 'salt', 'pepper', 'pretty', 'much', 'sum', 'film', 'inherent', 'lack', 'direction', 'add', 'lead', 'actress', 'ca', \"n't\", 'act', 'least', 'willing', 'completely', 'irrelevant', 'nude', 'shower', 'scene', 'video', 'truly', 'nasty', 'way', 'hope', 'given', 'following', 'simply', 'banned', 'uk_UPPER', '80', \"'s\", 'mostly', 'final', 'surprisingly', 'extended', 'murder', 'offer', 'nothing', 'curiosity', 'value-', 'one', 'classic', \"'daft\", 'murder', \"n't\", 'worry-its', 'telegraphed', 'least', 'ten', 'minute', 'walk', 'wood', 'victim', 'come', 'rather', 'steep', 'upward', 'slope', 'obviously', 'struggle', 'halfway', 'see', 'figure', 'top', 'dressed', 'black', 'brandishing', 'large', 'scythe', 'slide', 'run', 'like', 'rest', 'u', 'course', 'not-', 'struggle', 'top', 'stand', 'conveniently', 'nice', 'upright', 'front', 'murder', 'weapon', 'really', 'movie', 'say', '..']"
        ],
        [
         "38",
         "Okay, so this series kind of takes the route of 'here we go again!' Week in, week out David Morse's character helps out his ride who is in a bit of a pickle - but what's wrong with that!? David Morse is one of the greatest character actors out there, and certainly the coolest, and to have him in a series created by David Koepp - a great writer - is heaven!!<br /><br />Due to the lack of love for this show by many, I can't see it going to a season series - but you never know? The amount of rubbish that has made it beyond that baffles me - let's hope something good can make it past a first series!!!",
         "positive",
         "['okay', 'series', 'kind', 'take', 'route', \"'here\", 'go', 'week', 'week', 'david', 'morse', \"'s\", 'character', 'help', 'ride', 'bit', 'pickle', \"'s\", 'wrong', 'david', 'morse', 'one', 'greatest', 'character', 'actor', 'certainly', 'coolest', 'series', 'created', 'david', 'koepp', 'great', 'writer', 'heaven', 'due', 'lack', 'love', 'show', 'many', 'ca', \"n't\", 'see', 'going', 'season', 'series', 'never', 'know', 'amount', 'rubbish', 'made', 'beyond', 'baffle', 'let', \"'s\", 'hope', 'something', 'good', 'make', 'past', 'first', 'series']"
        ],
        [
         "39",
         "After sitting through this pile of dung, my husband and I wondered whether it was actually the product of an experiment to see whether a computer program could produce a movie. It was that listless and formulaic. But the U.S. propaganda thrown in your face throughout the film proves--disappointingly--that it's the work of humans. Call me a conspiracy theorist, but quotes like, \"We have to steal the Declaration of Independence to protect it\" seem like ways to justify actions like the invasion of Iraq, etc. The fact that Nicholas Cage spews lines like, \"I would never use the Declaration of Independence as a bargaining chip\" with a straight face made me and my husband wonder whether the entire cast took Valium before shooting each scene. The \"reasoning\" behind each plot turn and new \"clue\" is truly ridiculous and impossible to follow. And there's also a bonus side plot of misogyny, with Dr. Whatever-Her-Name-Was being chided by all involved for \"never shutting up.\" She's clearly in the movie only for looks, but they felt the need to slap a \"Dr.\" title on her character to give her some gravity. At one point, Cage's character says, \"Don't you ever shut up?\" and the camera pans to her looking poutily down at her hands, like she's a child. Truly grotesque. The only benefit to this movie was that it's so astonishingly bad, you do get a few laughs out of it. The really scary thing is that a majority of the people watching the movie with us seemed to enjoy it. Creepy....",
         "negative",
         "['sitting', 'pile', 'dung', 'husband', 'wondered', 'whether', 'actually', 'product', 'experiment', 'see', 'whether', 'computer', 'program', 'could', 'produce', 'movie', 'listless', 'formulaic', 'u.s._UPPER', 'propaganda', 'thrown', 'face', 'throughout', 'film', 'prof', '--', 'disappointingly', '--', \"'s\", 'work', 'human', 'call', 'conspiracy', 'theorist', 'quote', 'like', '``', 'steal', 'declaration', 'independence', 'protect', \"''\", 'seem', 'like', 'way', 'justify', 'action', 'like', 'invasion', 'iraq', 'etc', 'fact', 'nicholas', 'cage', 'spews', 'line', 'like', '``', 'would', 'never', 'use', 'declaration', 'independence', 'bargaining', 'chip', \"''\", 'straight', 'face', 'made', 'husband', 'wonder', 'whether', 'entire', 'cast', 'took', 'valium', 'shooting', 'scene', '``', 'reasoning', \"''\", 'behind', 'plot', 'turn', 'new', '``', 'clue', \"''\", 'truly', 'ridiculous', 'impossible', 'follow', \"'s\", 'also', 'bonus', 'side', 'plot', 'misogyny', 'dr.', 'whatever-her-name-was', 'chided', 'involved', '``', 'never', 'shutting', \"''\", \"'s\", 'clearly', 'movie', 'look', 'felt', 'need', 'slap', '``', 'dr.', \"''\", 'title', 'character', 'give', 'gravity', 'one', 'point', 'cage', \"'s\", 'character', 'say', '``', \"n't\", 'ever', 'shut', \"''\", 'camera', 'pan', 'looking', 'poutily', 'hand', 'like', \"'s\", 'child', 'truly', 'grotesque', 'benefit', 'movie', \"'s\", 'astonishingly', 'bad', 'get', 'laugh', 'really', 'scary', 'thing', 'majority', 'people', 'watching', 'movie', 'u', 'seemed', 'enjoy', 'creepy', '....']"
        ],
        [
         "40",
         "It had all the clichés of movies of this type and no substance. The plot went nowhere and at the end of the movie I felt like a sucker for watching it. The production was good; however, the script and acting were B-movie quality. The casting was poor because there were good actors mixed in with crumby actors. The good actors didn't hold their own nor did they lift up the others. <br /><br />This movie is not worthy of more words, but I will say more to meet the minimum requirement of ten lines. James Wood and Cuba Gooding, Jr. play caricatures of themselves in other movies. <br /><br />If you are looking for mindless entertainment, I still wouldn't recommend this movie.",
         "negative",
         "['clichés', 'movie', 'type', 'substance', 'plot', 'went', 'nowhere', 'end', 'movie', 'felt', 'like', 'sucker', 'watching', 'production', 'good', 'however', 'script', 'acting', 'b-movie', 'quality', 'casting', 'poor', 'good', 'actor', 'mixed', 'crumby', 'actor', 'good', 'actor', \"n't\", 'hold', 'lift', 'others', 'movie', 'worthy', 'word', 'say', 'meet', 'minimum', 'requirement', 'ten', 'line', 'james', 'wood', 'cuba', 'gooding', 'jr.', 'play', 'caricature', 'movie', 'looking', 'mindless', 'entertainment', 'still', 'would', \"n't\", 'recommend', 'movie']"
        ],
        [
         "41",
         "This movie is based on the book, \"A Many Splendored Thing\" by Han Suyin and tackles issues of race relations between Asians and Whites, a topic that comes from Han's personal experiences as an Eurasian growing up in China. That background, and the beautiful Hong Kong settings, gives this love story a unique and rather daring atmosphere for its time.<br /><br />Other than that, the story is a stereotypical romance with a memorable song that is perhaps more remembered than the movie itself. The beautiful Jennifer Jones looks the part and gives a wonderful, Oscar nominated performance as a doctor of mixed breed during the advent of Communism in mainland China. William Holden never looked better playing a romantic lead as a journalist covering war torn regions in the world. The acting is top notch, and the chemistry between the two lovers provides for some genuine moments of silver screen affection sure to melt the hearts of those who are romantically inclined.<br /><br />The cinematography really brings out fifty's Hong Kong, especially the hilltop overlooking the harbor where the two lovers spend their most intimate moments. The ending is a real tear-jerker. Some may consider sentimental romances passé, but, for those who enjoy classic Hollywood love stories, this is a shining example.",
         "positive",
         "['movie', 'based', 'book', '``', 'many', 'splendored', 'thing', \"''\", 'han', 'suyin', 'tackle', 'issue', 'race', 'relation', 'asian', 'white', 'topic', 'come', 'han', \"'s\", 'personal', 'experience', 'eurasian', 'growing', 'china', 'background', 'beautiful', 'hong', 'kong', 'setting', 'give', 'love', 'story', 'unique', 'rather', 'daring', 'atmosphere', 'time', 'story', 'stereotypical', 'romance', 'memorable', 'song', 'perhaps', 'remembered', 'movie', 'beautiful', 'jennifer', 'jones', 'look', 'part', 'give', 'wonderful', 'oscar', 'nominated', 'performance', 'doctor', 'mixed', 'breed', 'advent', 'communism', 'mainland', 'china', 'william', 'holden', 'never', 'looked', 'better', 'playing', 'romantic', 'lead', 'journalist', 'covering', 'war', 'torn', 'region', 'world', 'acting', 'top', 'notch', 'chemistry', 'two', 'lover', 'provides', 'genuine', 'moment', 'silver', 'screen', 'affection', 'sure', 'melt', 'heart', 'romantically', 'inclined', 'cinematography', 'really', 'brings', 'fifty', \"'s\", 'hong', 'kong', 'especially', 'hilltop', 'overlooking', 'harbor', 'two', 'lover', 'spend', 'intimate', 'moment', 'ending', 'real', 'tear-jerker', 'may', 'consider', 'sentimental', 'romance', 'passé', 'enjoy', 'classic', 'hollywood', 'love', 'story', 'shining', 'example']"
        ],
        [
         "42",
         "Of all the films I have seen, this one, The Rage, has got to be one of the worst yet. The direction, LOGIC, continuity, changes in plot-script and dialog made me cry out in pain. \"How could ANYONE come up with something so crappy\"? Gary Busey is know for his \"B\" movies, but this is a sure \"W\" movie. (W=waste).<br /><br />Take for example: about two dozen FBI & local law officers surround a trailer house with a jeep wagoneer. Inside the jeep is MA and is \"confused\" as to why all the cops are about. Within seconds a huge gun battle ensues, MA being killed straight off. The cops blast away at the jeep with gary and company blasting away at them. The cops fall like dominoes and the jeep with Gary drives around in circles and are not hit by one single bullet/pellet. MA is killed and gary seems to not to have noticed-damn that guy is tough. Truly a miracle, not since the six-shooter held 300 bullets has there been such a miracle.",
         "negative",
         "['film', 'seen', 'one', 'rage', 'got', 'one', 'worst', 'yet', 'direction', 'logic_UPPER', 'continuity', 'change', 'plot-script', 'dialog', 'made', 'cry', 'pain', '``', 'could', 'anyone_UPPER', 'come', 'something', 'crappy', \"''\", 'gary', 'busey', 'know', '``', 'b', \"''\", 'movie', 'sure', '``', 'w', \"''\", 'movie', 'w=waste', 'take', 'example', 'two', 'dozen', 'fbi_UPPER', 'local', 'law', 'officer', 'surround', 'trailer', 'house', 'jeep', 'wagoneer', 'inside', 'jeep', '``', 'confused', \"''\", 'cop', 'within', 'second', 'huge', 'gun', 'battle', 'ensues', 'killed', 'straight', 'cop', 'blast', 'away', 'jeep', 'gary', 'company', 'blasting', 'away', 'cop', 'fall', 'like', 'domino', 'jeep', 'gary', 'drive', 'around', 'circle', 'hit', 'one', 'single', 'bullet/pellet', 'killed', 'gary', 'seems', 'noticed-damn', 'guy', 'tough', 'truly', 'miracle', 'since', 'six-shooter', 'held', '300', 'bullet', 'miracle']"
        ],
        [
         "43",
         "I had heard good things about \"States of Grace\" and came in with an open mind. I thought that \"God's Army\" was okay, and I thought that maybe Dutcher had improved and matured as a filmmaker. The film began with some shaky acting, and I thought, \"well, maybe it will get better.\" Unfortunately, it never did. The picture starts out by introducing two elders -- Mormon missionaries -- and it seems that the audience will get to know them and grow to care about them. Instead, the story degenerates into a highly improbable series of unfortunate events highlighting blatant disobedience by the missionaries (something that undeniably exists, but rarely on the level that Dutcher portrays) and it becomes almost laughable.<br /><br />Dutcher's only success in this movie is his successful alienation of his target audience. By unrealistically and inaccurately portraying the lives of Mormon missionaries, Dutcher accomplishes nothing more than angering his predominantly Mormon audience. The film in no way reflects reality. Missions are nothing like what Dutcher shows (having served a Mormon mission myself I can attest to this fact) and gang life in California certainly contains much more explicit language than the occasional mild vulgarity.<br /><br />The conclusion, which I'm assuming was supposed to touch the audience and inspire them to believe that forgiveness is available to all, was both unbelievable (c'mon, the entire mission gathers to see this elder sent home -- and the mom and the girl are standing right next to each other!) and cheesy. Next time, Dutcher, try making a movie that SOMEONE can identify with.",
         "negative",
         "['heard', 'good', 'thing', '``', 'state', 'grace', \"''\", 'came', 'open', 'mind', 'thought', '``', 'god', \"'s\", 'army', \"''\", 'okay', 'thought', 'maybe', 'dutcher', 'improved', 'matured', 'filmmaker', 'film', 'began', 'shaky', 'acting', 'thought', '``', 'well', 'maybe', 'get', 'better', \"''\", 'unfortunately', 'never', 'picture', 'start', 'introducing', 'two', 'elder', '--', 'mormon', 'missionary', '--', 'seems', 'audience', 'get', 'know', 'grow', 'care', 'instead', 'story', 'degenerate', 'highly', 'improbable', 'series', 'unfortunate', 'event', 'highlighting', 'blatant', 'disobedience', 'missionary', 'something', 'undeniably', 'exists', 'rarely', 'level', 'dutcher', 'portrays', 'becomes', 'almost', 'laughable', 'dutcher', \"'s\", 'success', 'movie', 'successful', 'alienation', 'target', 'audience', 'unrealistically', 'inaccurately', 'portraying', 'life', 'mormon', 'missionary', 'dutcher', 'accomplishes', 'nothing', 'angering', 'predominantly', 'mormon', 'audience', 'film', 'way', 'reflects', 'reality', 'mission', 'nothing', 'like', 'dutcher', 'show', 'served', 'mormon', 'mission', 'attest', 'fact', 'gang', 'life', 'california', 'certainly', 'contains', 'much', 'explicit', 'language', 'occasional', 'mild', 'vulgarity', 'conclusion', \"'m\", 'assuming', 'supposed', 'touch', 'audience', 'inspire', 'believe', 'forgiveness', 'available', 'unbelievable', \"c'mon\", 'entire', 'mission', 'gather', 'see', 'elder', 'sent', 'home', '--', 'mom', 'girl', 'standing', 'right', 'next', 'cheesy', 'next', 'time', 'dutcher', 'try', 'making', 'movie', 'someone_UPPER', 'identify']"
        ],
        [
         "44",
         "This movie struck home for me. Being 29, I remember the '80's and my father working in a factory. I figured, if I worked hard too, if I had pride and never gave up I too could have the American Dream, the house, a few kids, a car all to call my own. I've noted however, without a degree in something (unlike my father that quit at ninth grade) and a keen sense of greed and laziness, you can't get anywhere.<br /><br />I would like to know if anyone has this movie on DVD or VHS. it's made for TV, and I just saw it an hour ago. Ic an't find it anywhere! I'd love to show this to my friends, my pseudo friends, family and other relatives, see what they think and remind them that once upon a time, Americans WOULD work for the sake of feeling honor and that we had pride in what we accomplished!! I think the feeling is still there, but in a heavy downward spiral with so many things being made overseas...",
         "positive",
         "['movie', 'struck', 'home', '29', 'remember', \"'80\", \"'s\", 'father', 'working', 'factory', 'figured', 'worked', 'hard', 'pride', 'never', 'gave', 'could', 'american', 'dream', 'house', 'kid', 'car', 'call', \"'ve\", 'noted', 'however', 'without', 'degree', 'something', 'unlike', 'father', 'quit', 'ninth', 'grade', 'keen', 'sense', 'greed', 'laziness', 'ca', \"n't\", 'get', 'anywhere', 'would', 'like', 'know', 'anyone', 'movie', 'dvd_UPPER', 'vhs_UPPER', \"'s\", 'made', 'tv_UPPER', 'saw', 'hour', 'ago', 'ic', \"n't\", 'find', 'anywhere', \"'d\", 'love', 'show', 'friend', 'pseudo', 'friend', 'family', 'relative', 'see', 'think', 'remind', 'upon', 'time', 'american', 'would_UPPER', 'work', 'sake', 'feeling', 'honor', 'pride', 'accomplished', 'think', 'feeling', 'still', 'heavy', 'downward', 'spiral', 'many', 'thing', 'made', 'overseas', '...']"
        ],
        [
         "45",
         "As a disclaimer, I've seen the movie 5-6 times in the last 15 years, and I only just saw the musical this week. This allowed me to judge the movie without being tainted by what was or wasn't in the musical (however, it tainted me when I watched the musical :) ) <br /><br />I actually believe Michael Douglas worked quite well in that role, along with Kasey. I think her 'Let me dance for you scene' is one of the best parts of the movie, a worthwhile addition compared to the musical. The dancers and singing in the movie are much superior to the musical, as well as the cast which is at least 10 times bigger (easier to do in the movie of course). The decors, lighting, dancing, and singing are also much superior in the movie, which should be expected, and was indeed delivered. <br /><br />The songs that were in common with the musical are better done in the movie, the new ones are quite good ones, and the whole movie just delivers more than the musical in my opinion, especially compared to a musical which has few decors. The one bad point on the movie is the obvious cuts between the actors talking, and dubbed singers during the singing portions for some of the characters, but their dancing is impeccable, and the end product was more enjoyable than the musical",
         "positive",
         "['disclaimer', \"'ve\", 'seen', 'movie', '5-6', 'time', 'last', '15', 'year', 'saw', 'musical', 'week', 'allowed', 'judge', 'movie', 'without', 'tainted', \"n't\", 'musical', 'however', 'tainted', 'watched', 'musical', 'actually', 'believe', 'michael', 'douglas', 'worked', 'quite', 'well', 'role', 'along', 'kasey', 'think', \"'let\", 'dance', 'scene', 'one', 'best', 'part', 'movie', 'worthwhile', 'addition', 'compared', 'musical', 'dancer', 'singing', 'movie', 'much', 'superior', 'musical', 'well', 'cast', 'least', '10', 'time', 'bigger', 'easier', 'movie', 'course', 'decor', 'lighting', 'dancing', 'singing', 'also', 'much', 'superior', 'movie', 'expected', 'indeed', 'delivered', 'song', 'common', 'musical', 'better', 'done', 'movie', 'new', 'one', 'quite', 'good', 'one', 'whole', 'movie', 'delivers', 'musical', 'opinion', 'especially', 'compared', 'musical', 'decor', 'one', 'bad', 'point', 'movie', 'obvious', 'cut', 'actor', 'talking', 'dubbed', 'singer', 'singing', 'portion', 'character', 'dancing', 'impeccable', 'end', 'product', 'enjoyable', 'musical']"
        ],
        [
         "46",
         "Protocol is an implausible movie whose only saving grace is that it stars Goldie Hawn along with a good cast of supporting actors. The story revolves around a ditzy cocktail waitress who becomes famous after inadvertently saving the life of an Arab dignitary. The story goes downhill halfway through the movie and Goldie's charm just doesn't save this movie. Unless you are a Goldie Hawn fan don't go out of your way to see this film.",
         "negative",
         "['protocol', 'implausible', 'movie', 'whose', 'saving', 'grace', 'star', 'goldie', 'hawn', 'along', 'good', 'cast', 'supporting', 'actor', 'story', 'revolves', 'around', 'ditzy', 'cocktail', 'waitress', 'becomes', 'famous', 'inadvertently', 'saving', 'life', 'arab', 'dignitary', 'story', 'go', 'downhill', 'halfway', 'movie', 'goldie', \"'s\", 'charm', \"n't\", 'save', 'movie', 'unless', 'goldie', 'hawn', 'fan', \"n't\", 'go', 'way', 'see', 'film']"
        ],
        [
         "47",
         "How this film could be classified as Drama, I have no idea. If I were John Voight and Mary Steenburgen, I would be trying to erase this from my CV. It was as historically accurate as Xena and Hercules. Abraham and Moses got melded into Noah. Lot, Abraham's nephew, Lot, turns up thousands of years before he would have been born. Canaanites wandered the earth...really? What were the scriptwriters thinking? Was it just ignorance (\"I remember something about Noah and animals, and Lot and Canaanites and all that stuff from Sunday School\") or were they trying to offend the maximum number of people on the planet as possible- from Christians, Jews and Muslims, to historians, archaeologists, geologists, psychologists, linguists ...as a matter of fact, did anyone not get offended? Anyone who had even a modicum of taste would have winced at this one!",
         "negative",
         "['film', 'could', 'classified', 'drama', 'idea', 'john', 'voight', 'mary', 'steenburgen', 'would', 'trying', 'erase', 'cv_UPPER', 'historically', 'accurate', 'xena', 'hercules', 'abraham', 'moses', 'got', 'melded', 'noah', 'lot', 'abraham', \"'s\", 'nephew', 'lot', 'turn', 'thousand', 'year', 'would', 'born', 'canaanite', 'wandered', 'earth', '...', 'really', 'scriptwriter', 'thinking', 'ignorance', '``', 'remember', 'something', 'noah', 'animal', 'lot', 'canaanite', 'stuff', 'sunday', 'school', \"''\", 'trying', 'offend', 'maximum', 'number', 'people', 'planet', 'possible-', 'christian', 'jew', 'muslim', 'historian', 'archaeologist', 'geologist', 'psychologist', 'linguist', '...', 'matter', 'fact', 'anyone', 'get', 'offended', 'anyone', 'even', 'modicum', 'taste', 'would', 'winced', 'one']"
        ],
        [
         "48",
         "Preston Sturgis' THE POWER AND THE GLORY was unseen by the public for nearly twenty or thirty years until the late 1990s when it resurfaced and even showed up on television. In the meantime it had gained in notoriety because Pauline Kael's THE CITIZEN KANE BOOK had suggested that the Herman Mankiewicz - Orson Welles screenplay for KANE was based on Sturgis' screenplay here. As is mentioned in the beginning of this thread for the film on the IMDb web site, Kael overstated her case.<br /><br />There are about six narrators who take turns dealing with the life of Charles Foster Kane: the newsreel (representing Ralston - the Henry Luce clone), Thatcher's memoirs, Bernstein, Jed Leland, Susan Alexander Kane, and Raymond the butler. Each has his or her different slant on Kane, reflecting their faith or disappointment or hatred of the man. And of course each also reveals his or her own failings when they are telling their version of Kane's story. This method also leads to frequent overlapping re-tellings of the same incident.<br /><br />This is not the situation in THE POWER AND THE GLORY. Yes, like KANE it is about a legendary business leader - here it is Tom Garner (Spencer Tracy), a man who rose from the bottom to being head of the most successful railroad system in the country. But there are only two narrators - they are Garner's right hand man Henry (Ralph Morgan) and his wife (Sarah Padden). This restricts the nearly three dimensional view we get at times of Kane in Garner. Henry, when he narrates, is talking about his boss and friend, whom he respected and loved. His wife is like the voice of the skeptical public - she sees only the flaws in Henry.<br /><br />Typical example: Although he worked his way up, Tom becomes more and more anti-labor in his later years. Unions are troublemakers, and he does not care to be slowed down by their shenanigans. Henry describes Tom's confrontation with the Union in a major walk-out, and how it preoccupied him to the detriment of his home life. But Henry's wife reminds him how Tom used scabs and violence to end the strike (apparently blowing up the Union's headquarters - killing many people). So we have two views of the man but one is pure white and one is pure black.<br /><br />I'm not really knocking THE POWER AND THE GLORY for not duplicating KANE's success (few films do - including all of Orson Welles' other films), but I am aware that the story is presented well enough to hold one's interest to the end. And thanks to the performances of Tracy and Colleen Moore as his wife Sally, the tragedy of the worldly success of the pair is fully brought home.<br /><br />When they marry, Tom wants to do well (in part) to give his wife and their family the benefits he never had. But in America great business success comes at a cost. Tom gets deeply involved with running the railroad empire (he expands it and improves it constantly). But it takes him away from home too much, and he loses touch with Sally. And he also notices Eve (Helen Vinson), the younger woman who becomes his mistress. When Sally learns of his unfaithful behavior it destroys her.<br /><br />Similarly Tom too gets a full shock (which makes him a martyr in the eyes of Henry). Eve marries Tom, and presents him with a son - but it turns out to be Eve's son by Tom's son Tom Jr. (Philip Trent). The discovery of this incestuous cuckolding causes Tom to shoot himself.<br /><br />The film is not a total success - the action jumps at times unconvincingly. Yet it does make the business seem real (note the scene when Tom tells his Board of Directors about his plans to purchase a small rival train line, and he discusses the use of debentures for financing the plans). Sturgis came from a wealthy background, so he could bring in this type of detail. So on the whole it is a first rate film. No CITIZEN KANE perhaps, but of interest to movie lovers as an attempt at business realism with social commentary in Depression America.",
         "positive",
         "['preston', 'sturgis', 'power_UPPER', 'glory_UPPER', 'unseen', 'public', 'nearly', 'twenty', 'thirty', 'year', 'late', '1990s', 'resurfaced', 'even', 'showed', 'television', 'meantime', 'gained', 'notoriety', 'pauline', 'kael', \"'s\", 'citizen_UPPER', 'kane_UPPER', 'book_UPPER', 'suggested', 'herman', 'mankiewicz', 'orson', 'welles', 'screenplay', 'kane_UPPER', 'based', 'sturgis', 'screenplay', 'mentioned', 'beginning', 'thread', 'film', 'imdb', 'web', 'site', 'kael', 'overstated', 'case', 'six', 'narrator', 'take', 'turn', 'dealing', 'life', 'charles', 'foster', 'kane', 'newsreel', 'representing', 'ralston', 'henry', 'luce', 'clone', 'thatcher', \"'s\", 'memoir', 'bernstein', 'jed', 'leland', 'susan', 'alexander', 'kane', 'raymond', 'butler', 'different', 'slant', 'kane', 'reflecting', 'faith', 'disappointment', 'hatred', 'man', 'course', 'also', 'reveals', 'failing', 'telling', 'version', 'kane', \"'s\", 'story', 'method', 'also', 'lead', 'frequent', 'overlapping', 're-tellings', 'incident', 'situation', 'power_UPPER', 'glory_UPPER', 'yes', 'like', 'kane_UPPER', 'legendary', 'business', 'leader', 'tom', 'garner', 'spencer', 'tracy', 'man', 'rose', 'bottom', 'head', 'successful', 'railroad', 'system', 'country', 'two', 'narrator', 'garner', \"'s\", 'right', 'hand', 'man', 'henry', 'ralph', 'morgan', 'wife', 'sarah', 'padden', 'restricts', 'nearly', 'three', 'dimensional', 'view', 'get', 'time', 'kane', 'garner', 'henry', 'narrates', 'talking', 'bos', 'friend', 'respected', 'loved', 'wife', 'like', 'voice', 'skeptical', 'public', 'see', 'flaw', 'henry', 'typical', 'example', 'although', 'worked', 'way', 'tom', 'becomes', 'anti-labor', 'later', 'year', 'union', 'troublemaker', 'care', 'slowed', 'shenanigan', 'henry', 'describes', 'tom', \"'s\", 'confrontation', 'union', 'major', 'walk-out', 'preoccupied', 'detriment', 'home', 'life', 'henry', \"'s\", 'wife', 'reminds', 'tom', 'used', 'scab', 'violence', 'end', 'strike', 'apparently', 'blowing', 'union', \"'s\", 'headquarters', 'killing', 'many', 'people', 'two', 'view', 'man', 'one', 'pure', 'white', 'one', 'pure', 'black', \"'m\", 'really', 'knocking', 'power_UPPER', 'glory_UPPER', 'duplicating', 'kane_UPPER', \"'s\", 'success', 'film', 'including', 'orson', 'welles', 'film', 'aware', 'story', 'presented', 'well', 'enough', 'hold', 'one', \"'s\", 'interest', 'end', 'thanks', 'performance', 'tracy', 'colleen', 'moore', 'wife', 'sally', 'tragedy', 'worldly', 'success', 'pair', 'fully', 'brought', 'home', 'marry', 'tom', 'want', 'well', 'part', 'give', 'wife', 'family', 'benefit', 'never', 'america', 'great', 'business', 'success', 'come', 'cost', 'tom', 'get', 'deeply', 'involved', 'running', 'railroad', 'empire', 'expands', 'improves', 'constantly', 'take', 'away', 'home', 'much', 'loses', 'touch', 'sally', 'also', 'notice', 'eve', 'helen', 'vinson', 'younger', 'woman', 'becomes', 'mistress', 'sally', 'learns', 'unfaithful', 'behavior', 'destroys', 'similarly', 'tom', 'get', 'full', 'shock', 'make', 'martyr', 'eye', 'henry', 'eve', 'marries', 'tom', 'present', 'son', 'turn', 'eve', \"'s\", 'son', 'tom', \"'s\", 'son', 'tom', 'jr.', 'philip', 'trent', 'discovery', 'incestuous', 'cuckolding', 'cause', 'tom', 'shoot', 'film', 'total', 'success', 'action', 'jump', 'time', 'unconvincingly', 'yet', 'make', 'business', 'seem', 'real', 'note', 'scene', 'tom', 'tell', 'board', 'director', 'plan', 'purchase', 'small', 'rival', 'train', 'line', 'discusses', 'use', 'debenture', 'financing', 'plan', 'sturgis', 'came', 'wealthy', 'background', 'could', 'bring', 'type', 'detail', 'whole', 'first', 'rate', 'film', 'citizen_UPPER', 'kane_UPPER', 'perhaps', 'interest', 'movie', 'lover', 'attempt', 'business', 'realism', 'social', 'commentary', 'depression', 'america']"
        ],
        [
         "49",
         "Average (and surprisingly tame) Fulci giallo which means it's still quite bad by normal standards, but redeemed by its solid build-up and some nice touches such as a neat time twist on the issues of visions and clairvoyance.<br /><br />The genre's well-known weaknesses are in full gear: banal dialogue, wooden acting, illogical plot points. And the finale goes on much too long, while the denouement proves to be a rather lame or shall I say: limp affair.<br /><br />Fulci's ironic handling of giallo norms is amusing, though. Yellow clues wherever you look.<br /><br />3 out of 10 limping killers",
         "negative",
         "['average', 'surprisingly', 'tame', 'fulci', 'giallo', 'mean', \"'s\", 'still', 'quite', 'bad', 'normal', 'standard', 'redeemed', 'solid', 'build-up', 'nice', 'touch', 'neat', 'time', 'twist', 'issue', 'vision', 'clairvoyance', 'genre', \"'s\", 'well-known', 'weakness', 'full', 'gear', 'banal', 'dialogue', 'wooden', 'acting', 'illogical', 'plot', 'point', 'finale', 'go', 'much', 'long', 'denouement', 'prof', 'rather', 'lame', 'shall', 'say', 'limp', 'affair', 'fulci', \"'s\", 'ironic', 'handling', 'giallo', 'norm', 'amusing', 'though', 'yellow', 'clue', 'wherever', 'look', '3', '10', 'limping', 'killer']"
        ]
       ],
       "shape": {
        "columns": 3,
        "rows": 50000
       }
      },
      "text/html": [
       "<div>\n",
       "<style scoped>\n",
       "    .dataframe tbody tr th:only-of-type {\n",
       "        vertical-align: middle;\n",
       "    }\n",
       "\n",
       "    .dataframe tbody tr th {\n",
       "        vertical-align: top;\n",
       "    }\n",
       "\n",
       "    .dataframe thead th {\n",
       "        text-align: right;\n",
       "    }\n",
       "</style>\n",
       "<table border=\"1\" class=\"dataframe\">\n",
       "  <thead>\n",
       "    <tr style=\"text-align: right;\">\n",
       "      <th></th>\n",
       "      <th>review</th>\n",
       "      <th>sentiment</th>\n",
       "      <th>tokens</th>\n",
       "    </tr>\n",
       "  </thead>\n",
       "  <tbody>\n",
       "    <tr>\n",
       "      <th>0</th>\n",
       "      <td>One of the other reviewers has mentioned that ...</td>\n",
       "      <td>positive</td>\n",
       "      <td>[one, reviewer, mentioned, watching, 1, oz, ep...</td>\n",
       "    </tr>\n",
       "    <tr>\n",
       "      <th>1</th>\n",
       "      <td>A wonderful little production. &lt;br /&gt;&lt;br /&gt;The...</td>\n",
       "      <td>positive</td>\n",
       "      <td>[wonderful, little, production, filming, techn...</td>\n",
       "    </tr>\n",
       "    <tr>\n",
       "      <th>2</th>\n",
       "      <td>I thought this was a wonderful way to spend ti...</td>\n",
       "      <td>positive</td>\n",
       "      <td>[thought, wonderful, way, spend, time, hot, su...</td>\n",
       "    </tr>\n",
       "    <tr>\n",
       "      <th>3</th>\n",
       "      <td>Basically there's a family where a little boy ...</td>\n",
       "      <td>negative</td>\n",
       "      <td>[basically, 's, family, little, boy, jake, thi...</td>\n",
       "    </tr>\n",
       "    <tr>\n",
       "      <th>4</th>\n",
       "      <td>Petter Mattei's \"Love in the Time of Money\" is...</td>\n",
       "      <td>positive</td>\n",
       "      <td>[petter, mattei, 's, ``, love, time, money, ''...</td>\n",
       "    </tr>\n",
       "    <tr>\n",
       "      <th>...</th>\n",
       "      <td>...</td>\n",
       "      <td>...</td>\n",
       "      <td>...</td>\n",
       "    </tr>\n",
       "    <tr>\n",
       "      <th>49995</th>\n",
       "      <td>I thought this movie did a down right good job...</td>\n",
       "      <td>positive</td>\n",
       "      <td>[thought, movie, right, good, job, n't, creati...</td>\n",
       "    </tr>\n",
       "    <tr>\n",
       "      <th>49996</th>\n",
       "      <td>Bad plot, bad dialogue, bad acting, idiotic di...</td>\n",
       "      <td>negative</td>\n",
       "      <td>[bad, plot, bad, dialogue, bad, acting, idioti...</td>\n",
       "    </tr>\n",
       "    <tr>\n",
       "      <th>49997</th>\n",
       "      <td>I am a Catholic taught in parochial elementary...</td>\n",
       "      <td>negative</td>\n",
       "      <td>[catholic, taught, parochial, elementary, scho...</td>\n",
       "    </tr>\n",
       "    <tr>\n",
       "      <th>49998</th>\n",
       "      <td>I'm going to have to disagree with the previou...</td>\n",
       "      <td>negative</td>\n",
       "      <td>['m, going, disagree, previous, comment, side,...</td>\n",
       "    </tr>\n",
       "    <tr>\n",
       "      <th>49999</th>\n",
       "      <td>No one expects the Star Trek movies to be high...</td>\n",
       "      <td>negative</td>\n",
       "      <td>[one, expects, star, trek, movie, high, art, f...</td>\n",
       "    </tr>\n",
       "  </tbody>\n",
       "</table>\n",
       "<p>50000 rows × 3 columns</p>\n",
       "</div>"
      ],
      "text/plain": [
       "                                                  review sentiment  \\\n",
       "0      One of the other reviewers has mentioned that ...  positive   \n",
       "1      A wonderful little production. <br /><br />The...  positive   \n",
       "2      I thought this was a wonderful way to spend ti...  positive   \n",
       "3      Basically there's a family where a little boy ...  negative   \n",
       "4      Petter Mattei's \"Love in the Time of Money\" is...  positive   \n",
       "...                                                  ...       ...   \n",
       "49995  I thought this movie did a down right good job...  positive   \n",
       "49996  Bad plot, bad dialogue, bad acting, idiotic di...  negative   \n",
       "49997  I am a Catholic taught in parochial elementary...  negative   \n",
       "49998  I'm going to have to disagree with the previou...  negative   \n",
       "49999  No one expects the Star Trek movies to be high...  negative   \n",
       "\n",
       "                                                  tokens  \n",
       "0      [one, reviewer, mentioned, watching, 1, oz, ep...  \n",
       "1      [wonderful, little, production, filming, techn...  \n",
       "2      [thought, wonderful, way, spend, time, hot, su...  \n",
       "3      [basically, 's, family, little, boy, jake, thi...  \n",
       "4      [petter, mattei, 's, ``, love, time, money, ''...  \n",
       "...                                                  ...  \n",
       "49995  [thought, movie, right, good, job, n't, creati...  \n",
       "49996  [bad, plot, bad, dialogue, bad, acting, idioti...  \n",
       "49997  [catholic, taught, parochial, elementary, scho...  \n",
       "49998  ['m, going, disagree, previous, comment, side,...  \n",
       "49999  [one, expects, star, trek, movie, high, art, f...  \n",
       "\n",
       "[50000 rows x 3 columns]"
      ]
     },
     "execution_count": 7,
     "metadata": {},
     "output_type": "execute_result"
    }
   ],
   "source": [
    "df"
   ]
  },
  {
   "cell_type": "code",
   "execution_count": 8,
   "id": "4cd914a9",
   "metadata": {},
   "outputs": [
    {
     "name": "stdout",
     "output_type": "stream",
     "text": [
      "Train dataset size: 25000 reviews\n",
      "Dev dataset size: 12500 reviews\n",
      "Test dataset size: 12500 reviews\n"
     ]
    }
   ],
   "source": [
    "# Since the original dataset is said to have 25,000 train and 25,000 test reviews, the splits will be 50-25-25 for train-dev-test respectively\n",
    "\n",
    "x = df['tokens']\n",
    "y = df['sentiment']\n",
    "\n",
    "X_train, X_temp, Y_train, Y_temp = train_test_split(x, y, test_size=0.5, random_state=42)\n",
    "\n",
    "X_dev, X_test, Y_dev, Y_test = train_test_split(X_temp, Y_temp, test_size=0.5, random_state=42)\n",
    "\n",
    "print(f\"Train dataset size: {X_train.shape[0]} reviews\")\n",
    "print(f\"Dev dataset size: {X_dev.shape[0]} reviews\")\n",
    "print(f\"Test dataset size: {X_test.shape[0]} reviews\")"
   ]
  },
  {
   "cell_type": "code",
   "execution_count": 9,
   "id": "79725ece",
   "metadata": {},
   "outputs": [],
   "source": [
    "# Turns the lists of tokens into singular strings of words, to work with in the models\n",
    "X_train_text = X_train.apply(lambda x: \" \".join(x))\n",
    "X_dev_text = X_dev.apply(lambda x: \" \".join(x))\n",
    "X_test_text = X_test.apply(lambda x: \" \".join(x))"
   ]
  },
  {
   "cell_type": "markdown",
   "id": "a7e4afd9",
   "metadata": {},
   "source": [
    "# <font color= #bbc28d> **Feature Extraction** </font>"
   ]
  },
  {
   "cell_type": "code",
   "execution_count": 10,
   "id": "0aea40bc",
   "metadata": {},
   "outputs": [],
   "source": [
    "# CountVectorizer\n",
    "vectorizer = CountVectorizer(ngram_range=(1,3), max_features=5000)\n",
    "X_train_vectorized = vectorizer.fit_transform(X_train_text)\n",
    "\n",
    "X_dev_vectorized = vectorizer.transform(X_dev_text)\n",
    "X_test_vectorized = vectorizer.transform(X_test_text)"
   ]
  },
  {
   "cell_type": "code",
   "execution_count": 11,
   "id": "49ab263f",
   "metadata": {},
   "outputs": [
    {
     "name": "stdout",
     "output_type": "stream",
     "text": [
      "['act', 'act like', 'actor', 'actor film', 'actor movie', 'african', 'air', 'also', 'although', 'always', 'awful', 'bad', 'baker', 'based', 'best', 'book', 'boring', 'campy', 'character', 'charm', 'cheesy', 'cia_upper', 'compared', 'completely', 'computer', 'constantly', 'contact', 'could', 'creature', 'dangerous', 'daughter', 'day', 'deeply', 'dialogue', 'diamond', 'direction', 'disappointed', 'disaster', 'discover', 'eccentric', 'effect', 'end', 'enjoyable', 'enough', 'escape', 'especially', 'even', 'film', 'film plot', 'former', 'freak', 'function', 'go', 'horror', 'hudson', 'in', 'in law', 'including', 'joe', 'john', 'jones', 'king', 'lacked', 'large', 'laura', 'law', 'life', 'like', 'looking', 'lost', 'michael', 'mine', 'missile', 'morality', 'movie', 'movie also', 'movie even', 'nothing', 'novel', 'often', 'one', 'one worst', 'pathetic', 'picture', 'plain', 'plot', 'powerful', 'problem', 'production', 'prof', 'punch', 'pure', 'quality', 'quest', 'reminded', 'ridiculous', 'rocky', 'role', 'save', 'say', 'selling', 'sends', 'sent', 'simple', 'small', 'small role', 'smart', 'sometimes', 'son', 'sorry', 'source', 'special', 'stan', 'star', 'style', 'surface', 'tale', 'talented', 'talking', 'team', 'think', 'thought', 'tim', 'to', 'turn', 'tv_upper', 'type', 'unconvincing', 'usual', 'want', 'weapon', 'well', 'went', 'wonder', 'worst']\n"
     ]
    }
   ],
   "source": [
    "ngrams = vectorizer.get_feature_names_out()\n",
    "#print(ngrams[:50])\n",
    "\n",
    "row = X_train_vectorized[0].toarray().ravel()\n",
    "present_ngrams = [ngrams[i] for i in range(len(ngrams)) if row[i] > 0]\n",
    "print(present_ngrams)\n"
   ]
  },
  {
   "cell_type": "markdown",
   "id": "fa52105f",
   "metadata": {},
   "source": [
    "# <font color= #bbc28d> **1. Logistic Regression** </font>"
   ]
  },
  {
   "cell_type": "code",
   "execution_count": 12,
   "id": "8d44b788",
   "metadata": {},
   "outputs": [
    {
     "data": {
      "text/html": [
       "<style>#sk-container-id-1 {\n",
       "  /* Definition of color scheme common for light and dark mode */\n",
       "  --sklearn-color-text: black;\n",
       "  --sklearn-color-line: gray;\n",
       "  /* Definition of color scheme for unfitted estimators */\n",
       "  --sklearn-color-unfitted-level-0: #fff5e6;\n",
       "  --sklearn-color-unfitted-level-1: #f6e4d2;\n",
       "  --sklearn-color-unfitted-level-2: #ffe0b3;\n",
       "  --sklearn-color-unfitted-level-3: chocolate;\n",
       "  /* Definition of color scheme for fitted estimators */\n",
       "  --sklearn-color-fitted-level-0: #f0f8ff;\n",
       "  --sklearn-color-fitted-level-1: #d4ebff;\n",
       "  --sklearn-color-fitted-level-2: #b3dbfd;\n",
       "  --sklearn-color-fitted-level-3: cornflowerblue;\n",
       "\n",
       "  /* Specific color for light theme */\n",
       "  --sklearn-color-text-on-default-background: var(--sg-text-color, var(--theme-code-foreground, var(--jp-content-font-color1, black)));\n",
       "  --sklearn-color-background: var(--sg-background-color, var(--theme-background, var(--jp-layout-color0, white)));\n",
       "  --sklearn-color-border-box: var(--sg-text-color, var(--theme-code-foreground, var(--jp-content-font-color1, black)));\n",
       "  --sklearn-color-icon: #696969;\n",
       "\n",
       "  @media (prefers-color-scheme: dark) {\n",
       "    /* Redefinition of color scheme for dark theme */\n",
       "    --sklearn-color-text-on-default-background: var(--sg-text-color, var(--theme-code-foreground, var(--jp-content-font-color1, white)));\n",
       "    --sklearn-color-background: var(--sg-background-color, var(--theme-background, var(--jp-layout-color0, #111)));\n",
       "    --sklearn-color-border-box: var(--sg-text-color, var(--theme-code-foreground, var(--jp-content-font-color1, white)));\n",
       "    --sklearn-color-icon: #878787;\n",
       "  }\n",
       "}\n",
       "\n",
       "#sk-container-id-1 {\n",
       "  color: var(--sklearn-color-text);\n",
       "}\n",
       "\n",
       "#sk-container-id-1 pre {\n",
       "  padding: 0;\n",
       "}\n",
       "\n",
       "#sk-container-id-1 input.sk-hidden--visually {\n",
       "  border: 0;\n",
       "  clip: rect(1px 1px 1px 1px);\n",
       "  clip: rect(1px, 1px, 1px, 1px);\n",
       "  height: 1px;\n",
       "  margin: -1px;\n",
       "  overflow: hidden;\n",
       "  padding: 0;\n",
       "  position: absolute;\n",
       "  width: 1px;\n",
       "}\n",
       "\n",
       "#sk-container-id-1 div.sk-dashed-wrapped {\n",
       "  border: 1px dashed var(--sklearn-color-line);\n",
       "  margin: 0 0.4em 0.5em 0.4em;\n",
       "  box-sizing: border-box;\n",
       "  padding-bottom: 0.4em;\n",
       "  background-color: var(--sklearn-color-background);\n",
       "}\n",
       "\n",
       "#sk-container-id-1 div.sk-container {\n",
       "  /* jupyter's `normalize.less` sets `[hidden] { display: none; }`\n",
       "     but bootstrap.min.css set `[hidden] { display: none !important; }`\n",
       "     so we also need the `!important` here to be able to override the\n",
       "     default hidden behavior on the sphinx rendered scikit-learn.org.\n",
       "     See: https://github.com/scikit-learn/scikit-learn/issues/21755 */\n",
       "  display: inline-block !important;\n",
       "  position: relative;\n",
       "}\n",
       "\n",
       "#sk-container-id-1 div.sk-text-repr-fallback {\n",
       "  display: none;\n",
       "}\n",
       "\n",
       "div.sk-parallel-item,\n",
       "div.sk-serial,\n",
       "div.sk-item {\n",
       "  /* draw centered vertical line to link estimators */\n",
       "  background-image: linear-gradient(var(--sklearn-color-text-on-default-background), var(--sklearn-color-text-on-default-background));\n",
       "  background-size: 2px 100%;\n",
       "  background-repeat: no-repeat;\n",
       "  background-position: center center;\n",
       "}\n",
       "\n",
       "/* Parallel-specific style estimator block */\n",
       "\n",
       "#sk-container-id-1 div.sk-parallel-item::after {\n",
       "  content: \"\";\n",
       "  width: 100%;\n",
       "  border-bottom: 2px solid var(--sklearn-color-text-on-default-background);\n",
       "  flex-grow: 1;\n",
       "}\n",
       "\n",
       "#sk-container-id-1 div.sk-parallel {\n",
       "  display: flex;\n",
       "  align-items: stretch;\n",
       "  justify-content: center;\n",
       "  background-color: var(--sklearn-color-background);\n",
       "  position: relative;\n",
       "}\n",
       "\n",
       "#sk-container-id-1 div.sk-parallel-item {\n",
       "  display: flex;\n",
       "  flex-direction: column;\n",
       "}\n",
       "\n",
       "#sk-container-id-1 div.sk-parallel-item:first-child::after {\n",
       "  align-self: flex-end;\n",
       "  width: 50%;\n",
       "}\n",
       "\n",
       "#sk-container-id-1 div.sk-parallel-item:last-child::after {\n",
       "  align-self: flex-start;\n",
       "  width: 50%;\n",
       "}\n",
       "\n",
       "#sk-container-id-1 div.sk-parallel-item:only-child::after {\n",
       "  width: 0;\n",
       "}\n",
       "\n",
       "/* Serial-specific style estimator block */\n",
       "\n",
       "#sk-container-id-1 div.sk-serial {\n",
       "  display: flex;\n",
       "  flex-direction: column;\n",
       "  align-items: center;\n",
       "  background-color: var(--sklearn-color-background);\n",
       "  padding-right: 1em;\n",
       "  padding-left: 1em;\n",
       "}\n",
       "\n",
       "\n",
       "/* Toggleable style: style used for estimator/Pipeline/ColumnTransformer box that is\n",
       "clickable and can be expanded/collapsed.\n",
       "- Pipeline and ColumnTransformer use this feature and define the default style\n",
       "- Estimators will overwrite some part of the style using the `sk-estimator` class\n",
       "*/\n",
       "\n",
       "/* Pipeline and ColumnTransformer style (default) */\n",
       "\n",
       "#sk-container-id-1 div.sk-toggleable {\n",
       "  /* Default theme specific background. It is overwritten whether we have a\n",
       "  specific estimator or a Pipeline/ColumnTransformer */\n",
       "  background-color: var(--sklearn-color-background);\n",
       "}\n",
       "\n",
       "/* Toggleable label */\n",
       "#sk-container-id-1 label.sk-toggleable__label {\n",
       "  cursor: pointer;\n",
       "  display: block;\n",
       "  width: 100%;\n",
       "  margin-bottom: 0;\n",
       "  padding: 0.5em;\n",
       "  box-sizing: border-box;\n",
       "  text-align: center;\n",
       "}\n",
       "\n",
       "#sk-container-id-1 label.sk-toggleable__label-arrow:before {\n",
       "  /* Arrow on the left of the label */\n",
       "  content: \"▸\";\n",
       "  float: left;\n",
       "  margin-right: 0.25em;\n",
       "  color: var(--sklearn-color-icon);\n",
       "}\n",
       "\n",
       "#sk-container-id-1 label.sk-toggleable__label-arrow:hover:before {\n",
       "  color: var(--sklearn-color-text);\n",
       "}\n",
       "\n",
       "/* Toggleable content - dropdown */\n",
       "\n",
       "#sk-container-id-1 div.sk-toggleable__content {\n",
       "  max-height: 0;\n",
       "  max-width: 0;\n",
       "  overflow: hidden;\n",
       "  text-align: left;\n",
       "  /* unfitted */\n",
       "  background-color: var(--sklearn-color-unfitted-level-0);\n",
       "}\n",
       "\n",
       "#sk-container-id-1 div.sk-toggleable__content.fitted {\n",
       "  /* fitted */\n",
       "  background-color: var(--sklearn-color-fitted-level-0);\n",
       "}\n",
       "\n",
       "#sk-container-id-1 div.sk-toggleable__content pre {\n",
       "  margin: 0.2em;\n",
       "  border-radius: 0.25em;\n",
       "  color: var(--sklearn-color-text);\n",
       "  /* unfitted */\n",
       "  background-color: var(--sklearn-color-unfitted-level-0);\n",
       "}\n",
       "\n",
       "#sk-container-id-1 div.sk-toggleable__content.fitted pre {\n",
       "  /* unfitted */\n",
       "  background-color: var(--sklearn-color-fitted-level-0);\n",
       "}\n",
       "\n",
       "#sk-container-id-1 input.sk-toggleable__control:checked~div.sk-toggleable__content {\n",
       "  /* Expand drop-down */\n",
       "  max-height: 200px;\n",
       "  max-width: 100%;\n",
       "  overflow: auto;\n",
       "}\n",
       "\n",
       "#sk-container-id-1 input.sk-toggleable__control:checked~label.sk-toggleable__label-arrow:before {\n",
       "  content: \"▾\";\n",
       "}\n",
       "\n",
       "/* Pipeline/ColumnTransformer-specific style */\n",
       "\n",
       "#sk-container-id-1 div.sk-label input.sk-toggleable__control:checked~label.sk-toggleable__label {\n",
       "  color: var(--sklearn-color-text);\n",
       "  background-color: var(--sklearn-color-unfitted-level-2);\n",
       "}\n",
       "\n",
       "#sk-container-id-1 div.sk-label.fitted input.sk-toggleable__control:checked~label.sk-toggleable__label {\n",
       "  background-color: var(--sklearn-color-fitted-level-2);\n",
       "}\n",
       "\n",
       "/* Estimator-specific style */\n",
       "\n",
       "/* Colorize estimator box */\n",
       "#sk-container-id-1 div.sk-estimator input.sk-toggleable__control:checked~label.sk-toggleable__label {\n",
       "  /* unfitted */\n",
       "  background-color: var(--sklearn-color-unfitted-level-2);\n",
       "}\n",
       "\n",
       "#sk-container-id-1 div.sk-estimator.fitted input.sk-toggleable__control:checked~label.sk-toggleable__label {\n",
       "  /* fitted */\n",
       "  background-color: var(--sklearn-color-fitted-level-2);\n",
       "}\n",
       "\n",
       "#sk-container-id-1 div.sk-label label.sk-toggleable__label,\n",
       "#sk-container-id-1 div.sk-label label {\n",
       "  /* The background is the default theme color */\n",
       "  color: var(--sklearn-color-text-on-default-background);\n",
       "}\n",
       "\n",
       "/* On hover, darken the color of the background */\n",
       "#sk-container-id-1 div.sk-label:hover label.sk-toggleable__label {\n",
       "  color: var(--sklearn-color-text);\n",
       "  background-color: var(--sklearn-color-unfitted-level-2);\n",
       "}\n",
       "\n",
       "/* Label box, darken color on hover, fitted */\n",
       "#sk-container-id-1 div.sk-label.fitted:hover label.sk-toggleable__label.fitted {\n",
       "  color: var(--sklearn-color-text);\n",
       "  background-color: var(--sklearn-color-fitted-level-2);\n",
       "}\n",
       "\n",
       "/* Estimator label */\n",
       "\n",
       "#sk-container-id-1 div.sk-label label {\n",
       "  font-family: monospace;\n",
       "  font-weight: bold;\n",
       "  display: inline-block;\n",
       "  line-height: 1.2em;\n",
       "}\n",
       "\n",
       "#sk-container-id-1 div.sk-label-container {\n",
       "  text-align: center;\n",
       "}\n",
       "\n",
       "/* Estimator-specific */\n",
       "#sk-container-id-1 div.sk-estimator {\n",
       "  font-family: monospace;\n",
       "  border: 1px dotted var(--sklearn-color-border-box);\n",
       "  border-radius: 0.25em;\n",
       "  box-sizing: border-box;\n",
       "  margin-bottom: 0.5em;\n",
       "  /* unfitted */\n",
       "  background-color: var(--sklearn-color-unfitted-level-0);\n",
       "}\n",
       "\n",
       "#sk-container-id-1 div.sk-estimator.fitted {\n",
       "  /* fitted */\n",
       "  background-color: var(--sklearn-color-fitted-level-0);\n",
       "}\n",
       "\n",
       "/* on hover */\n",
       "#sk-container-id-1 div.sk-estimator:hover {\n",
       "  /* unfitted */\n",
       "  background-color: var(--sklearn-color-unfitted-level-2);\n",
       "}\n",
       "\n",
       "#sk-container-id-1 div.sk-estimator.fitted:hover {\n",
       "  /* fitted */\n",
       "  background-color: var(--sklearn-color-fitted-level-2);\n",
       "}\n",
       "\n",
       "/* Specification for estimator info (e.g. \"i\" and \"?\") */\n",
       "\n",
       "/* Common style for \"i\" and \"?\" */\n",
       "\n",
       ".sk-estimator-doc-link,\n",
       "a:link.sk-estimator-doc-link,\n",
       "a:visited.sk-estimator-doc-link {\n",
       "  float: right;\n",
       "  font-size: smaller;\n",
       "  line-height: 1em;\n",
       "  font-family: monospace;\n",
       "  background-color: var(--sklearn-color-background);\n",
       "  border-radius: 1em;\n",
       "  height: 1em;\n",
       "  width: 1em;\n",
       "  text-decoration: none !important;\n",
       "  margin-left: 1ex;\n",
       "  /* unfitted */\n",
       "  border: var(--sklearn-color-unfitted-level-1) 1pt solid;\n",
       "  color: var(--sklearn-color-unfitted-level-1);\n",
       "}\n",
       "\n",
       ".sk-estimator-doc-link.fitted,\n",
       "a:link.sk-estimator-doc-link.fitted,\n",
       "a:visited.sk-estimator-doc-link.fitted {\n",
       "  /* fitted */\n",
       "  border: var(--sklearn-color-fitted-level-1) 1pt solid;\n",
       "  color: var(--sklearn-color-fitted-level-1);\n",
       "}\n",
       "\n",
       "/* On hover */\n",
       "div.sk-estimator:hover .sk-estimator-doc-link:hover,\n",
       ".sk-estimator-doc-link:hover,\n",
       "div.sk-label-container:hover .sk-estimator-doc-link:hover,\n",
       ".sk-estimator-doc-link:hover {\n",
       "  /* unfitted */\n",
       "  background-color: var(--sklearn-color-unfitted-level-3);\n",
       "  color: var(--sklearn-color-background);\n",
       "  text-decoration: none;\n",
       "}\n",
       "\n",
       "div.sk-estimator.fitted:hover .sk-estimator-doc-link.fitted:hover,\n",
       ".sk-estimator-doc-link.fitted:hover,\n",
       "div.sk-label-container:hover .sk-estimator-doc-link.fitted:hover,\n",
       ".sk-estimator-doc-link.fitted:hover {\n",
       "  /* fitted */\n",
       "  background-color: var(--sklearn-color-fitted-level-3);\n",
       "  color: var(--sklearn-color-background);\n",
       "  text-decoration: none;\n",
       "}\n",
       "\n",
       "/* Span, style for the box shown on hovering the info icon */\n",
       ".sk-estimator-doc-link span {\n",
       "  display: none;\n",
       "  z-index: 9999;\n",
       "  position: relative;\n",
       "  font-weight: normal;\n",
       "  right: .2ex;\n",
       "  padding: .5ex;\n",
       "  margin: .5ex;\n",
       "  width: min-content;\n",
       "  min-width: 20ex;\n",
       "  max-width: 50ex;\n",
       "  color: var(--sklearn-color-text);\n",
       "  box-shadow: 2pt 2pt 4pt #999;\n",
       "  /* unfitted */\n",
       "  background: var(--sklearn-color-unfitted-level-0);\n",
       "  border: .5pt solid var(--sklearn-color-unfitted-level-3);\n",
       "}\n",
       "\n",
       ".sk-estimator-doc-link.fitted span {\n",
       "  /* fitted */\n",
       "  background: var(--sklearn-color-fitted-level-0);\n",
       "  border: var(--sklearn-color-fitted-level-3);\n",
       "}\n",
       "\n",
       ".sk-estimator-doc-link:hover span {\n",
       "  display: block;\n",
       "}\n",
       "\n",
       "/* \"?\"-specific style due to the `<a>` HTML tag */\n",
       "\n",
       "#sk-container-id-1 a.estimator_doc_link {\n",
       "  float: right;\n",
       "  font-size: 1rem;\n",
       "  line-height: 1em;\n",
       "  font-family: monospace;\n",
       "  background-color: var(--sklearn-color-background);\n",
       "  border-radius: 1rem;\n",
       "  height: 1rem;\n",
       "  width: 1rem;\n",
       "  text-decoration: none;\n",
       "  /* unfitted */\n",
       "  color: var(--sklearn-color-unfitted-level-1);\n",
       "  border: var(--sklearn-color-unfitted-level-1) 1pt solid;\n",
       "}\n",
       "\n",
       "#sk-container-id-1 a.estimator_doc_link.fitted {\n",
       "  /* fitted */\n",
       "  border: var(--sklearn-color-fitted-level-1) 1pt solid;\n",
       "  color: var(--sklearn-color-fitted-level-1);\n",
       "}\n",
       "\n",
       "/* On hover */\n",
       "#sk-container-id-1 a.estimator_doc_link:hover {\n",
       "  /* unfitted */\n",
       "  background-color: var(--sklearn-color-unfitted-level-3);\n",
       "  color: var(--sklearn-color-background);\n",
       "  text-decoration: none;\n",
       "}\n",
       "\n",
       "#sk-container-id-1 a.estimator_doc_link.fitted:hover {\n",
       "  /* fitted */\n",
       "  background-color: var(--sklearn-color-fitted-level-3);\n",
       "}\n",
       "</style><div id=\"sk-container-id-1\" class=\"sk-top-container\"><div class=\"sk-text-repr-fallback\"><pre>LogisticRegression(max_iter=1000)</pre><b>In a Jupyter environment, please rerun this cell to show the HTML representation or trust the notebook. <br />On GitHub, the HTML representation is unable to render, please try loading this page with nbviewer.org.</b></div><div class=\"sk-container\" hidden><div class=\"sk-item\"><div class=\"sk-estimator fitted sk-toggleable\"><input class=\"sk-toggleable__control sk-hidden--visually\" id=\"sk-estimator-id-1\" type=\"checkbox\" checked><label for=\"sk-estimator-id-1\" class=\"sk-toggleable__label fitted sk-toggleable__label-arrow fitted\">&nbsp;&nbsp;LogisticRegression<a class=\"sk-estimator-doc-link fitted\" rel=\"noreferrer\" target=\"_blank\" href=\"https://scikit-learn.org/1.5/modules/generated/sklearn.linear_model.LogisticRegression.html\">?<span>Documentation for LogisticRegression</span></a><span class=\"sk-estimator-doc-link fitted\">i<span>Fitted</span></span></label><div class=\"sk-toggleable__content fitted\"><pre>LogisticRegression(max_iter=1000)</pre></div> </div></div></div></div>"
      ],
      "text/plain": [
       "LogisticRegression(max_iter=1000)"
      ]
     },
     "execution_count": 12,
     "metadata": {},
     "output_type": "execute_result"
    }
   ],
   "source": [
    "# LOGISITC REGRESSION\n",
    "\n",
    "lr = LogisticRegression(max_iter=1000)\n",
    "lr.fit(X_train_vectorized, Y_train)"
   ]
  },
  {
   "cell_type": "code",
   "execution_count": 13,
   "id": "7d951628",
   "metadata": {},
   "outputs": [
    {
     "data": {
      "image/png": "[encoded data removed]",
      "text/plain": [
       "<Figure size 640x480 with 2 Axes>"
      ]
     },
     "metadata": {},
     "output_type": "display_data"
    }
   ],
   "source": [
    "Y_dev_pred = lr.predict(X_dev_vectorized)\n",
    "\n",
    "cm = confusion_matrix(Y_dev, Y_dev_pred)\n",
    "disp = ConfusionMatrixDisplay(cm, display_labels=lr.classes_)\n",
    "disp.plot()\n",
    "plt.xticks(rotation = 75)\n",
    "plt.title(\"Confusion Matrix, Test Set\")\n",
    "plt.show()"
   ]
  },
  {
   "cell_type": "code",
   "execution_count": 14,
   "id": "8bb8a4b9",
   "metadata": {},
   "outputs": [
    {
     "name": "stdout",
     "output_type": "stream",
     "text": [
      "              precision    recall  f1-score   support\n",
      "\n",
      "    negative    0.86773   0.85965   0.86367      6334\n",
      "    positive    0.85719   0.86539   0.86127      6166\n",
      "\n",
      "    accuracy                        0.86248     12500\n",
      "   macro avg    0.86246   0.86252   0.86247     12500\n",
      "weighted avg    0.86253   0.86248   0.86249     12500\n",
      "\n"
     ]
    }
   ],
   "source": [
    "print(classification_report(Y_dev, Y_dev_pred, digits=5))"
   ]
  },
  {
   "cell_type": "markdown",
   "id": "088099f0",
   "metadata": {},
   "source": [
    "# <font color= #bbc28d> **2. Naive Bayes** </font>"
   ]
  },
  {
   "cell_type": "markdown",
   "id": "b04c4c27",
   "metadata": {},
   "source": [
    "# <font color= #bbc28d> **3. Support Vector Classifier** </font>"
   ]
  },
  {
   "cell_type": "markdown",
   "id": "28c831b9",
   "metadata": {},
   "source": [
    "Linear Kernel "
   ]
  },
  {
   "cell_type": "code",
   "execution_count": null,
   "id": "95a163fe",
   "metadata": {},
   "outputs": [],
   "source": []
  },
  {
   "cell_type": "markdown",
   "id": "12d34e49",
   "metadata": {},
   "source": [
    "RBF Kernel"
   ]
  }
 ],
 "metadata": {
  "kernelspec": {
   "display_name": "iteso",
   "language": "python",
   "name": "python3"
  },
  "language_info": {
   "codemirror_mode": {
    "name": "ipython",
    "version": 3
   },
   "file_extension": ".py",
   "mimetype": "text/x-python",
   "name": "python",
   "nbconvert_exporter": "python",
   "pygments_lexer": "ipython3",
   "version": "3.10.14"
  }
 },
 "nbformat": 4,
 "nbformat_minor": 5
}
