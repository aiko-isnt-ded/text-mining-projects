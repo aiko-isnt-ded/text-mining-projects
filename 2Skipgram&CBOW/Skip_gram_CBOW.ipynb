{
 "cells": [
  {
   "cell_type": "markdown",
   "id": "9e0c83e0",
   "metadata": {},
   "source": [
    "___\n",
    "<img style=\"float: right; margin: 15px 15px 15px 15px;\" src=\"https://communist.red/wp-content/uploads/2017/08/Anarchist_flag.png\" width=\"300px\" height=\"180px\" />\n",
    "\n",
    "\n",
    "# <font color= #bbc28d> **Skip-gram & CBOW Word Embeddings** </font>\n",
    "#### <font color= #2E9AFE> `Lab 2 – Text Mining`</font>\n",
    "- <Strong> Sofía Maldonado, Diana Valdivia & Viviana Toledo </Strong>\n",
    "- <Strong> Fecha </Strong>: 20/10/2025 \n",
    "\n",
    "___\n",
    "\n",
    "<p style=\"text-align:right;\"> Imagen recuperada de: https://communist.red/wp-content/uploads/2017/08/Anarchist_flag.png</p>"
   ]
  },
  {
   "cell_type": "code",
   "execution_count": 45,
   "id": "78feaa8a",
   "metadata": {},
   "outputs": [],
   "source": [
    "# General Libraries\n",
    "import numpy as np\n",
    "import pandas as pd\n",
    "import random\n",
    "\n",
    "# Text Processing \n",
    "import re\n",
    "from collections import Counter\n",
    "import spacy\n",
    "\n",
    "# Modeling\n",
    "import torch\n",
    "import torch.nn as nn\n",
    "import torch.nn.functional as F\n",
    "from torch.utils.data import DataLoader, TensorDataset\n",
    "\n",
    "# Evaluation\n",
    "from sklearn.metrics.pairwise import cosine_similarity\n",
    "\n",
    "#Visualization\n",
    "from sklearn.manifold import TSNE\n",
    "from umap import UMAP\n",
    "import matplotlib.pyplot as plt\n",
    "import plotly.express as px\n",
    "import plotly.subplots as sp\n",
    "import plotly.graph_objects as go"
   ]
  },
  {
   "cell_type": "markdown",
   "id": "9f544d1a",
   "metadata": {},
   "source": [
    "# <font color= #bbc28d> **Introduction** </font>"
   ]
  },
  {
   "cell_type": "markdown",
   "id": "7bac9847",
   "metadata": {},
   "source": [
    "Natural Language Processing encompasses all the tasks related to making computers understand human language, of which, word embeddings are a useful tool for achieving this goal. Word embeddings are a numerical representation of words, which allows computers to encode language into vectors which can be visualized in different dimensions.\n",
    "\n",
    "A common representation that word embeddings use is one-hot encoding, which vectorizes each word using binary numbers in a `vector of dimensionality 1 x corpus length`, for example:  \n",
    "\n",
    "<div style=\"background-color: white; text-align: center; padding: 1em; margin-bottom: 0.5em;\">\n",
    "<img src=\"https://www.baeldung.com/wp-content/ql-cache/quicklatex.com-40dd0ac8f7ba6930347fc88ac01ef5b8_l3.svg\" style=\"display: inline-block;\"/>\n",
    "\n",
    "<div style=\"background-color: white; text-align: center; padding: 0.5em;\">\n",
    "    <img src=\"https://www.baeldung.com/wp-content/ql-cache/quicklatex.com-aca3b72bad8941a430b71c9946bf01b3_l3.svg\" style=\"display: inline-block;\"/>\n",
    "</div>"
   ]
  },
  {
   "cell_type": "markdown",
   "id": "3f1baed6",
   "metadata": {},
   "source": [
    "However, such encoding can quickly scale up with large vocabularies, resulting in a curse of dimensionality. Additionally, the embeddings are susceptible to changes in the corpora size, and the vectors dont encapsulate word meaning. The one-hot encoding 'indexes' words, but is unable to capture semantic and syntantic information; the values in the vectors must somehow quantify the meaning of the words they represent.\n",
    "\n",
    "To solve this problem, Word2Vec was introduced, a technique which generates embeddings based on word similarity, allowing them to be close to each other in a vectorized space in terms of cosine distance. There are two main algorithms to obtain a Word2Vec implementation: Continuous Bag of Words (CBOW) and Skip-Gram, which make use of neural network models.\n",
    "\n",
    "In this notebook, we will explore both models and implement them on a corpus about Anarchy on Wikipedia."
   ]
  },
  {
   "cell_type": "markdown",
   "id": "0f943278",
   "metadata": {},
   "source": [
    "# <font color= #bbc28d> **Preprocessing** </font>"
   ]
  },
  {
   "cell_type": "code",
   "execution_count": 9,
   "id": "024d6fd5",
   "metadata": {},
   "outputs": [],
   "source": [
    "# Read Wikipedia file \n",
    "with open(r\"text8\", \"r\", encoding=\"utf-8\") as f:\n",
    "    text = f.read()"
   ]
  },
  {
   "cell_type": "markdown",
   "id": "5b7cf258",
   "metadata": {},
   "source": [
    "The preprocessing task involves:\n",
    "\n",
    "- Normalization of Corpus (ensuring words are in lowercase)\n",
    "\n",
    "- Word extraction\n",
    "\n",
    "- Tokenization by whitespace\n",
    "\n",
    "- Remove single-letter tokens\n",
    "\n",
    "- Select a corpus of 50,000 words"
   ]
  },
  {
   "cell_type": "code",
   "execution_count": 10,
   "id": "071c4002",
   "metadata": {},
   "outputs": [],
   "source": [
    "# Normalize data\n",
    "# Convert every word to lowercase\n",
    "text = text.lower()\n",
    "\n",
    "# Keep only the words, leave the rest as whitespace\n",
    "text = re.sub(r\"[^a-z\\s]\", \"\", text)\n",
    "\n",
    "# Tokenize by whitespace\n",
    "tokens = text.split()\n",
    "\n",
    "# Keep only more than single letter words\n",
    "tokens = [w for w in tokens if len(w) > 1]\n",
    "\n",
    "# Keep first 50k words\n",
    "tokens_models = tokens[:50_000]"
   ]
  },
  {
   "cell_type": "markdown",
   "id": "d69a3dea",
   "metadata": {},
   "source": [
    "Next, we create a vocabulary from those words: "
   ]
  },
  {
   "cell_type": "code",
   "execution_count": 11,
   "id": "eaad3c3e",
   "metadata": {},
   "outputs": [],
   "source": [
    "# Create a vocabulary based on the clean corpora\n",
    "vocab = sorted(list(set(tokens_models)))\n",
    "vocab_set = set(vocab)"
   ]
  },
  {
   "cell_type": "markdown",
   "id": "dbaf8544",
   "metadata": {},
   "source": [
    "After creating a vocabulary, we build up a dictionary of word-index pairs for the embeddings:"
   ]
  },
  {
   "cell_type": "code",
   "execution_count": 12,
   "id": "2c3221fb",
   "metadata": {},
   "outputs": [
    {
     "name": "stdout",
     "output_type": "stream",
     "text": [
      "Vocabulary Size: 7979\n"
     ]
    }
   ],
   "source": [
    "# Create word-index dictionaries\n",
    "word_to_idx = {word: i for i, word in enumerate(vocab)}\n",
    "idx_to_word = {i: word for word, i in word_to_idx.items()}\n",
    "\n",
    "length = len(vocab)\n",
    "print(f\"Vocabulary Size: {length}\")"
   ]
  },
  {
   "cell_type": "markdown",
   "id": "239385d9",
   "metadata": {},
   "source": [
    "And finally, we can visualize the id of the tokens:"
   ]
  },
  {
   "cell_type": "code",
   "execution_count": 13,
   "id": "d37d6155",
   "metadata": {},
   "outputs": [
    {
     "data": {
      "text/plain": [
       "[362, 5086, 543, 7161, 4983, 39, 2868, 7568, 203, 2293]"
      ]
     },
     "execution_count": 13,
     "metadata": {},
     "output_type": "execute_result"
    }
   ],
   "source": [
    "tokens_idx = [word_to_idx[w] for w in tokens_models if w in vocab_set]\n",
    "tokens_idx[:10]"
   ]
  },
  {
   "cell_type": "markdown",
   "id": "b2503c15",
   "metadata": {},
   "source": [
    "# <font color= #bbc28d> **Modeling** </font>"
   ]
  },
  {
   "cell_type": "markdown",
   "id": "ad0ddd58",
   "metadata": {},
   "source": [
    "CBOW and Skip-gram are algorithms that work on word pairs, meaning, for labeling word similarity, words are paired together and then analyzed. The pairing is done by a window-size, which selects words behind and after the target, and pairs them together. Thus, this will be the first step in our respective modelings.\n",
    "\n",
    "Both models are going to be implemented using Pytorch, since they are, essentially, neural networks. Taking advantage of this, we will first check if cuda is available. If it is, we're going to run our models in the computer's gpu, as it speeds up training:"
   ]
  },
  {
   "cell_type": "code",
   "execution_count": 14,
   "id": "fa081e83",
   "metadata": {},
   "outputs": [
    {
     "name": "stdout",
     "output_type": "stream",
     "text": [
      "Using device: cuda\n"
     ]
    }
   ],
   "source": [
    "# PyTorch Configuration\n",
    "device = torch.device(\"cuda\" if torch.cuda.is_available() else \"cpu\")\n",
    "torch.set_default_device(device)\n",
    "print(f'Using device: {device}')"
   ]
  },
  {
   "cell_type": "markdown",
   "id": "b8186ab0",
   "metadata": {},
   "source": [
    "# <font color= #bbc28d> **1. Skip-Gram** </font>"
   ]
  },
  {
   "cell_type": "markdown",
   "id": "523202b3",
   "metadata": {},
   "source": [
    "The Skip-Gram algorithm tries to extract the semantics of words (context) by `predicting the context words using the main word`. By picking the word pais of the target word, each of them is run through a neural network model with one hidden layer:\n",
    "\n",
    "<p align= \"center\">\n",
    "    <img src='https://www.baeldung.com/wp-content/uploads/sites/4/2021/03/Baeldung-word-embeddings-1-656x1024-1.png' width=\"420px\" height=\"560px\">\n",
    "</p>"
   ]
  },
  {
   "cell_type": "markdown",
   "id": "4d3e4f99",
   "metadata": {},
   "source": [
    "Firstly, we need to generate the skipgram pairs. We're using a word window of 2 to 5 words:"
   ]
  },
  {
   "cell_type": "code",
   "execution_count": 15,
   "id": "7ca5e7ff",
   "metadata": {},
   "outputs": [],
   "source": [
    "def generate_skipgram_pairs(tokens_idx, min_window=2, max_window=5):\n",
    "    # Guardar los pares en una lista\n",
    "    pairs = []\n",
    "    # Rango la longitud de el vocabulario/texto\n",
    "    n = len(tokens_idx)\n",
    "    for i in range(n):\n",
    "        # Elegir nuestro target\n",
    "        target = tokens_idx[i]\n",
    "        # Ventana random entre 2 y 5\n",
    "        window_size = random.randint(min_window, max_window)\n",
    "        # Posiciones de inicio y fin de la window\n",
    "        start = max(i - window_size, 0)\n",
    "        end = min(i + window_size + 1, n)\n",
    "        for j in range(start, end):\n",
    "            #Skipear la target\n",
    "            if j != i:\n",
    "                context = tokens_idx[j]\n",
    "                pairs.append((target, context))\n",
    "    return pairs\n",
    "\n",
    "skip_pairs = generate_skipgram_pairs(tokens_idx, min_window=2, max_window=5)"
   ]
  },
  {
   "cell_type": "code",
   "execution_count": 16,
   "id": "23607b6f",
   "metadata": {},
   "outputs": [
    {
     "name": "stdout",
     "output_type": "stream",
     "text": [
      "Target: anarchism  -->  Context: originated\n",
      "Target: anarchism  -->  Context: as\n",
      "Target: anarchism  -->  Context: term\n",
      "Target: anarchism  -->  Context: of\n",
      "Target: anarchism  -->  Context: abuse\n"
     ]
    }
   ],
   "source": [
    "# Convert Skip-Gram pairs to text\n",
    "skipgram_pairs_words = [\n",
    "    (idx_to_word[target], idx_to_word[context])\n",
    "    for target, context in skip_pairs\n",
    "]\n",
    "\n",
    "for i in range(5):\n",
    "    print(f\"Target: {skipgram_pairs_words[i][0]}  -->  Context: {skipgram_pairs_words[i][1]}\")"
   ]
  },
  {
   "cell_type": "markdown",
   "id": "1120a558",
   "metadata": {},
   "source": [
    "After pairing the words, we can proceed to model the data. We're using 15 epochs, a CrossEntropyLoss criterion, and an Adam optimizer with a learning rate of 0.001: "
   ]
  },
  {
   "cell_type": "code",
   "execution_count": 17,
   "id": "713cfb0a",
   "metadata": {},
   "outputs": [
    {
     "name": "stdout",
     "output_type": "stream",
     "text": [
      "Skip-gram Epoch 1/15, Loss: 2879.2716\n",
      "Skip-gram Epoch 2/15, Loss: 2520.3575\n",
      "Skip-gram Epoch 3/15, Loss: 2359.6502\n",
      "Skip-gram Epoch 4/15, Loss: 2271.4643\n",
      "Skip-gram Epoch 5/15, Loss: 2213.8377\n",
      "Skip-gram Epoch 6/15, Loss: 2171.0798\n",
      "Skip-gram Epoch 7/15, Loss: 2136.5889\n",
      "Skip-gram Epoch 8/15, Loss: 2107.2476\n",
      "Skip-gram Epoch 9/15, Loss: 2081.6909\n",
      "Skip-gram Epoch 10/15, Loss: 2058.9180\n",
      "Skip-gram Epoch 11/15, Loss: 2038.4468\n",
      "Skip-gram Epoch 12/15, Loss: 2019.8384\n",
      "Skip-gram Epoch 13/15, Loss: 2002.9688\n",
      "Skip-gram Epoch 14/15, Loss: 1987.4624\n",
      "Skip-gram Epoch 15/15, Loss: 1973.1163\n"
     ]
    }
   ],
   "source": [
    "# Constants\n",
    "embedding_dim = 100\n",
    "vocab_size = len(vocab)\n",
    "\n",
    "# ==========================\n",
    "# Model Definition\n",
    "# ==========================\n",
    "class SkipGramModel(nn.Module):\n",
    "    def __init__(self, vocab_size, embedding_dim):\n",
    "        super().__init__()\n",
    "        self.embeddings = nn.Embedding(vocab_size, embedding_dim)\n",
    "        self.output = nn.Linear(embedding_dim, vocab_size)\n",
    "\n",
    "    def forward(self, centers):\n",
    "        # centers: tensor [batch_size]\n",
    "        embeds = self.embeddings(centers)  # [batch_size, emb_dim]\n",
    "        out = self.output(embeds)\n",
    "        return out\n",
    "\n",
    "# ==========================\n",
    "# Data Loader\n",
    "# ==========================  \n",
    "generator = torch.Generator(device=device)              # Set generator\n",
    "# Create dataset in CPU \n",
    "skipgram_targets = torch.tensor([t for t, c in skip_pairs], dtype=torch.long)\n",
    "skipgram_contexts = torch.tensor([c for t, c in skip_pairs], dtype=torch.long)\n",
    "# Combine the targets and context into a list pair for training\n",
    "skipgram_dataset = list(zip(skipgram_targets, skipgram_contexts))\n",
    "\n",
    "# Data Loader for batch processing\n",
    "skipgram_loader = DataLoader(skipgram_dataset, batch_size=1024, shuffle=True, generator=generator)\n",
    "\n",
    "# ==========================\n",
    "# Model Training \n",
    "# ==========================\n",
    "skipgram_model = SkipGramModel(vocab_size, embedding_dim).to(device)\n",
    "criterion = nn.CrossEntropyLoss()\n",
    "optimizer = torch.optim.Adam(skipgram_model.parameters(), lr=0.001)\n",
    "epochs = 15\n",
    "\n",
    "for epoch in range(epochs):\n",
    "    total_loss = 0\n",
    "    skipgram_model.train()\n",
    "    for centers, contexts in skipgram_loader:\n",
    "        # Mover datos a device\n",
    "        centers = centers.to(device)\n",
    "        contexts = contexts.to(device)\n",
    "        \n",
    "        optimizer.zero_grad()\n",
    "        output = skipgram_model(centers)\n",
    "        loss = criterion(output, contexts)\n",
    "        loss.backward()\n",
    "        optimizer.step()\n",
    "        total_loss += loss.item()\n",
    "    print(f\"Skip-gram Epoch {epoch+1}/{epochs}, Loss: {total_loss:.4f}\")"
   ]
  },
  {
   "cell_type": "markdown",
   "id": "b038f819",
   "metadata": {},
   "source": [
    "Finally, we can obtain the embeddings produced by Skip-Gram:"
   ]
  },
  {
   "cell_type": "code",
   "execution_count": 18,
   "id": "5f3b6180",
   "metadata": {},
   "outputs": [
    {
     "name": "stdout",
     "output_type": "stream",
     "text": [
      "Skip-Gram Vector of 'science': \n",
      " tensor([-0.1648, -1.6631, -2.1384, -0.3160, -0.2307, -0.5458,  1.2645,  0.4116,\n",
      "        -0.6825,  0.3386, -0.3593, -1.1345,  0.3850, -0.1104,  0.5083,  1.1010,\n",
      "        -1.4098,  1.7220, -0.2072, -0.3462, -0.7096, -0.2264,  0.5244,  1.2975,\n",
      "        -0.7439,  1.1377, -1.2438,  1.3720, -0.1136, -0.0179, -0.6529,  0.3516,\n",
      "         1.8402,  3.1711, -0.5176, -1.5837, -0.9855,  0.8389,  1.1746, -0.8493,\n",
      "         1.2491, -0.9182,  0.6397,  0.8110,  0.3516,  0.4010,  1.9065,  0.6582,\n",
      "        -1.9462,  0.8438,  0.1971, -0.0760,  0.2216,  1.1454, -0.6626,  0.9498,\n",
      "         0.9408,  1.4773,  1.6559,  0.7074, -0.6641,  1.2880,  0.8455, -0.5203,\n",
      "        -1.0990, -1.0702,  1.8234,  1.7239,  0.1291,  0.4150,  0.6344,  1.6508,\n",
      "        -0.9027,  3.2198, -0.2336,  1.7649, -1.9738, -1.0455,  0.5750,  1.1491,\n",
      "        -0.6029,  0.3780,  0.2422,  0.3219,  1.9544,  0.3871, -1.1750, -0.4188,\n",
      "        -0.3029, -1.7101,  1.7905,  1.6613, -0.5995, -0.0207, -0.4192,  1.2154,\n",
      "         0.5288,  2.2476, -0.1574,  0.2196])\n"
     ]
    }
   ],
   "source": [
    "# Move embeddings to CPU for further usage (Visualization)\n",
    "skipgram_embeddings = skipgram_model.embeddings.weight.data.cpu()\n",
    "\n",
    "# Visualize the vector of a word\n",
    "word = \"science\"\n",
    "idx = word_to_idx[word]\n",
    "print(f\"Skip-Gram Vector of '{word}': \\n {skipgram_embeddings[idx]}\")"
   ]
  },
  {
   "cell_type": "markdown",
   "id": "c4423d51",
   "metadata": {},
   "source": [
    "For a clearer understanding of the embeddings, let's take a look at the 10 most similar words:"
   ]
  },
  {
   "cell_type": "code",
   "execution_count": 19,
   "id": "6a5482d7",
   "metadata": {},
   "outputs": [
    {
     "name": "stdout",
     "output_type": "stream",
     "text": [
      "Skip-gram Model - Top 10 Most Similar Words related to ['king', 'anarchism', 'communist', 'revolution', 'paris']:\n",
      "========================================================================================================================\n",
      "\n",
      "'king':\n",
      "  let: 0.4343\n",
      "  abnormally: 0.3992\n",
      "  environmental: 0.3826\n",
      "  relative: 0.3803\n",
      "  essence: 0.3712\n",
      "  john: 0.3471\n",
      "  vast: 0.3454\n",
      "  sexuality: 0.3448\n",
      "  rivals: 0.3427\n",
      "  caused: 0.3369\n",
      "\n",
      "'anarchism':\n",
      "  na: 0.3599\n",
      "  criticisms: 0.3536\n",
      "  formulate: 0.3512\n",
      "  atrocities: 0.3508\n",
      "  publicity: 0.3493\n",
      "  amisus: 0.3482\n",
      "  egyptian: 0.3452\n",
      "  banking: 0.3438\n",
      "  ideological: 0.3358\n",
      "  statuette: 0.3324\n",
      "\n",
      "'communist':\n",
      "  sharp: 0.3581\n",
      "  subthreshold: 0.3562\n",
      "  scales: 0.3560\n",
      "  milieu: 0.3485\n",
      "  lanham: 0.3455\n",
      "  developmental: 0.3448\n",
      "  ericdigests: 0.3424\n",
      "  stories: 0.3369\n",
      "  italy: 0.3344\n",
      "  tai: 0.3302\n",
      "\n",
      "'revolution':\n",
      "  inquiry: 0.4285\n",
      "  orators: 0.3654\n",
      "  alienated: 0.3636\n",
      "  january: 0.3598\n",
      "  swiss: 0.3511\n",
      "  ireland: 0.3477\n",
      "  wish: 0.3469\n",
      "  synthesis: 0.3348\n",
      "  editing: 0.3318\n",
      "  volumes: 0.3285\n",
      "\n",
      "'paris':\n",
      "  michel: 0.3980\n",
      "  van: 0.3965\n",
      "  patronymic: 0.3920\n",
      "  changes: 0.3644\n",
      "  impairment: 0.3548\n",
      "  mm: 0.3502\n",
      "  current: 0.3472\n",
      "  louisiana: 0.3451\n",
      "  horace: 0.3428\n",
      "  blessed: 0.3388\n"
     ]
    }
   ],
   "source": [
    "def get_top_similar_words(embeddings, word, top_k=10):\n",
    "    \"\"\"\n",
    "    Find top-k most similar words using cosine similarity\n",
    "    \"\"\"\n",
    "    if word not in word_to_idx:\n",
    "        print(f\"Word '{word}' not in vocabulary\")\n",
    "        return []\n",
    "    \n",
    "    # Get the embedding for the anchor word\n",
    "    word_idx = word_to_idx[word]\n",
    "    word_embedding = embeddings[word_idx].reshape(1, -1)\n",
    "    \n",
    "    # Calculate cosine similarity with all other words\n",
    "    similarities = cosine_similarity(word_embedding, embeddings)[0]\n",
    "    \n",
    "    # Get top-k most similar words (excluding the word itself)\n",
    "    similar_indices = np.argsort(similarities)[::-1][1:top_k+1]  # Skip the word itself\n",
    "    \n",
    "    similar_words = []\n",
    "    for idx in similar_indices:\n",
    "        similar_words.append((idx_to_word[idx], similarities[idx]))\n",
    "    \n",
    "    return similar_words\n",
    "\n",
    "# Anchor words\n",
    "anchor_words = [\"king\", \"anarchism\", \"communist\", \"revolution\", \"paris\"] \n",
    "\n",
    "print(f\"Skip-gram Model - Top 10 Most Similar Words related to {anchor_words}:\")\n",
    "print(\"=\" * 120)\n",
    "for word in anchor_words:\n",
    "    similar_words = get_top_similar_words(skipgram_embeddings.numpy(), word)\n",
    "    print(f\"\\n'{word}':\")\n",
    "    for similar_word, similarity in similar_words:\n",
    "        print(f\"  {similar_word}: {similarity:.4f}\")"
   ]
  },
  {
   "cell_type": "markdown",
   "id": "0172126e",
   "metadata": {},
   "source": [
    "There are some words that are not exactly related to the anchor word, however, they may appear in similar contexts. Skip-Gram works best with small datasets, and since we're working with a large corpora (50,000 words) it may have some trouble identifying context. The most common associated words with our anchor words are:\n",
    "\n",
    "- **King** <--> Battles, Hawthorne\n",
    "- **Anarchism** <--> Zinovievna, Leftism\n",
    "- **Communist** <--> Troilus, Revolutionary\n",
    "- **Revolution** <--> Hoosier, Ukraine\n",
    "- **Paris** <--> York, Hart\n",
    "\n",
    "From this, we can see some disonances"
   ]
  },
  {
   "cell_type": "markdown",
   "id": "54ec4d13",
   "metadata": {},
   "source": [
    "# <font color= #bbc28d> **2. CBOW** </font>"
   ]
  },
  {
   "cell_type": "markdown",
   "id": "6e54e6f5",
   "metadata": {},
   "source": [
    "CBOW algorithm works similar to Skip-Gram, but it does the reverse operation, the model tries to `predict the main word using the context words`. Therefore, the neural network is a mirror of Skip-gram:\n",
    "\n",
    "<p align= \"center\">\n",
    "    <img src='https://www.baeldung.com/wp-content/uploads/sites/4/2021/03/Screenshot-2021-03-05-at-11.29.31-1024x616-1-768x462.png' width=\"480px\" height=\"360px\">\n",
    "</p>"
   ]
  },
  {
   "cell_type": "markdown",
   "id": "b6f801fa",
   "metadata": {},
   "source": [
    "Same as with Skip-Gram, we start by generating word pairs, with a window of 2 to 5 words:"
   ]
  },
  {
   "cell_type": "code",
   "execution_count": 20,
   "id": "b7f8e43b",
   "metadata": {},
   "outputs": [],
   "source": [
    "# Generar los pares para cbow\n",
    "def generate_cbow_pairs(tokens_idx, min_window=2, max_window=5):\n",
    "    # Guardar los pares en una lista\n",
    "    pairs = []\n",
    "    # Rango la longitud de el vocabulario/texto\n",
    "    n = len(tokens_idx)\n",
    "    for i in range(n):\n",
    "        # Elegir nuestro target\n",
    "        target = tokens_idx[i]\n",
    "        # Ventana random entre 2 y 5\n",
    "        window_size = random.randint(min_window, max_window)\n",
    "        # Posiciones de inicio y fin de la window\n",
    "        start = max(i - window_size, 0)\n",
    "        end = min(i + window_size + 1, n)\n",
    "        # Contexto de la palabra a predecir\n",
    "        context = [tokens_idx[j] for j in range(start, end) if j != i]\n",
    "        if context:\n",
    "            pairs.append((context, target))\n",
    "    return pairs\n",
    "\n",
    "cbow_pairs = generate_cbow_pairs(tokens_idx, min_window=2, max_window=5)"
   ]
  },
  {
   "cell_type": "code",
   "execution_count": 21,
   "id": "baeb3420",
   "metadata": {},
   "outputs": [
    {
     "name": "stdout",
     "output_type": "stream",
     "text": [
      "Context: ['originated', 'as', 'term']                                             -->               Target: anarchism\n",
      "Context: ['anarchism', 'as', 'term', 'of']                                        -->              Target: originated\n",
      "Context: ['anarchism', 'originated', 'term', 'of', 'abuse', 'first']              -->                      Target: as\n",
      "Context: ['anarchism', 'originated', 'as', 'of', 'abuse', 'first']                -->                    Target: term\n",
      "Context: ['anarchism', 'originated', 'as', 'term', 'abuse', 'first', 'used', 'against', 'early']  -->                      Target: of\n"
     ]
    }
   ],
   "source": [
    "# Convert CBOW pairs to text\n",
    "cbow_pairs_words = [\n",
    "    ([idx_to_word[i] for i in context], idx_to_word[target])\n",
    "    for context, target in cbow_pairs\n",
    "]\n",
    "\n",
    "for i in range(5):\n",
    "    context_str = f'Context: {cbow_pairs_words[i][0]}'\n",
    "    target_str = f'Target: {cbow_pairs_words[i][1]}'\n",
    "    print(f\"{context_str.ljust(80)}  -->  {target_str.rjust(30)}\")"
   ]
  },
  {
   "cell_type": "markdown",
   "id": "c1662121",
   "metadata": {},
   "source": [
    "After pairing the words, we can proceed to model the data. We're using 15 epochs, a CrossEntropyLoss criterion, and an Adam optimizer with a learning rate of 0.001: "
   ]
  },
  {
   "cell_type": "code",
   "execution_count": 22,
   "id": "e8f45893",
   "metadata": {},
   "outputs": [
    {
     "name": "stdout",
     "output_type": "stream",
     "text": [
      "CBOW Epoch 1/15, Loss: 433.3886\n",
      "CBOW Epoch 2/15, Loss: 411.1507\n",
      "CBOW Epoch 3/15, Loss: 383.0992\n",
      "CBOW Epoch 4/15, Loss: 353.5904\n",
      "CBOW Epoch 5/15, Loss: 334.3233\n",
      "CBOW Epoch 6/15, Loss: 324.2642\n",
      "CBOW Epoch 7/15, Loss: 317.1026\n",
      "CBOW Epoch 8/15, Loss: 310.9745\n",
      "CBOW Epoch 9/15, Loss: 305.2621\n",
      "CBOW Epoch 10/15, Loss: 299.7994\n",
      "CBOW Epoch 11/15, Loss: 294.4701\n",
      "CBOW Epoch 12/15, Loss: 289.2297\n",
      "CBOW Epoch 13/15, Loss: 284.0432\n",
      "CBOW Epoch 14/15, Loss: 278.9068\n",
      "CBOW Epoch 15/15, Loss: 273.8140\n"
     ]
    }
   ],
   "source": [
    "# ==========================\n",
    "# Model Definition\n",
    "# ==========================\n",
    "class CBOWModel(nn.Module):\n",
    "    def __init__(self, vocab_size, embedding_dim):\n",
    "        super().__init__()\n",
    "        self.embeddings = nn.Embedding(vocab_size, embedding_dim)\n",
    "        self.output = nn.Linear(embedding_dim, vocab_size)\n",
    "\n",
    "    def forward(self, contexts):\n",
    "        # contexts: lista de tensores ya en el dispositivo correcto\n",
    "        embeds = [self.embeddings(c) for c in contexts]  # lista de [context_len, emb_dim]\n",
    "        context_embeds = torch.stack([e.mean(dim=0) for e in embeds])  # [batch_size, emb_dim]\n",
    "        out = self.output(context_embeds)\n",
    "        return out\n",
    "    \n",
    "# ==========================\n",
    "# DataLoader \n",
    "# ==========================\n",
    "def cbow_collate(batch):\n",
    "    contexts, targets = zip(*batch)\n",
    "    # Convertir contextos a tensores y mover a device\n",
    "    context_tensors = [torch.tensor(c, dtype=torch.long).to(device) for c in contexts]\n",
    "    return context_tensors, torch.tensor(targets, dtype=torch.long).to(device)\n",
    "\n",
    "cbow_loader = DataLoader(cbow_pairs, batch_size=1024, shuffle=True, collate_fn=cbow_collate, generator=generator)\n",
    "\n",
    "# ==========================\n",
    "# Model Training \n",
    "# ==========================\n",
    "cbow_model = CBOWModel(vocab_size, embedding_dim).to(device)\n",
    "criterion = nn.CrossEntropyLoss()\n",
    "optimizer = torch.optim.Adam(cbow_model.parameters(), lr=0.001)\n",
    "epochs = 15\n",
    "\n",
    "for epoch in range(epochs):\n",
    "    total_loss = 0\n",
    "    cbow_model.train()\n",
    "    for contexts, targets in cbow_loader:\n",
    "        # Los datos ya están en el dispositivo correcto gracias al collate_fn\n",
    "        optimizer.zero_grad()\n",
    "        output = cbow_model(contexts)\n",
    "        loss = criterion(output, targets)\n",
    "        loss.backward()\n",
    "        optimizer.step()\n",
    "        total_loss += loss.item()\n",
    "    print(f\"CBOW Epoch {epoch+1}/{epochs}, Loss: {total_loss:.4f}\")"
   ]
  },
  {
   "cell_type": "markdown",
   "id": "d4f08367",
   "metadata": {},
   "source": [
    "After our CBOW model has been trained, it's time to take a look at the embeddings:"
   ]
  },
  {
   "cell_type": "code",
   "execution_count": 23,
   "id": "f2522862",
   "metadata": {},
   "outputs": [
    {
     "name": "stdout",
     "output_type": "stream",
     "text": [
      "CBOW Vector of 'science': \n",
      " tensor([ 1.2942,  1.0658, -1.2128,  0.6965, -2.0499,  0.6870,  2.6498,  1.8397,\n",
      "         1.0438,  0.9931, -1.3851, -1.6784, -0.3265, -1.6563,  0.0226,  2.0847,\n",
      "         0.8161, -1.1849,  0.7758,  1.4918,  1.4306, -0.2386,  1.0813,  0.4042,\n",
      "        -0.1658,  1.0831,  0.6070,  1.0337, -1.1590,  1.8143, -0.9172, -1.1844,\n",
      "        -0.0400, -0.9852, -0.1031, -1.0672, -1.1752, -0.2971, -0.0733,  0.2791,\n",
      "         0.0669, -1.4416,  0.1055,  0.5910,  0.8465,  0.1946, -0.5020,  0.3314,\n",
      "        -0.2533, -1.1409, -0.3028, -0.6185,  1.1636,  0.9424,  0.4989, -0.4898,\n",
      "        -0.7116, -0.8834, -1.0573,  2.9054, -0.2479, -0.2288, -0.5020,  1.3738,\n",
      "         0.3838,  0.9620, -0.9342, -0.7281,  1.6568, -0.9424, -0.9181, -1.2312,\n",
      "        -0.3149,  1.6218, -0.6804, -1.4172, -0.3428,  0.2446, -0.6329,  1.4660,\n",
      "        -0.2481, -0.6155,  0.5159, -0.4587,  0.8264, -2.0505,  0.9956,  0.9187,\n",
      "        -0.2999, -0.5821, -0.8432, -0.8361, -1.0441,  0.6050, -0.2657, -1.5963,\n",
      "         0.9643, -0.3082,  0.4514,  0.9256])\n"
     ]
    }
   ],
   "source": [
    "# Move embeddings to CPU for further usage (Visualization)\n",
    "cbow_embeddings = cbow_model.embeddings.weight.data.cpu()\n",
    "\n",
    "# Visualize the vector of a word\n",
    "word = \"science\"\n",
    "idx = word_to_idx[word]\n",
    "print(f\"CBOW Vector of '{word}': \\n {cbow_embeddings[idx]}\")"
   ]
  },
  {
   "cell_type": "markdown",
   "id": "ffbd3548",
   "metadata": {},
   "source": [
    "And, a view of the top 10 most similar words:"
   ]
  },
  {
   "cell_type": "code",
   "execution_count": 24,
   "id": "8ee32127",
   "metadata": {},
   "outputs": [
    {
     "name": "stdout",
     "output_type": "stream",
     "text": [
      "CBOW Model - Top 10 Most Similar Words related to ['king', 'anarchism', 'communist', 'revolution', 'paris']:\n",
      "========================================================================================================================\n",
      "\n",
      "'king':\n",
      "  abolitionist: 0.3401\n",
      "  victories: 0.3380\n",
      "  appointing: 0.3305\n",
      "  riots: 0.3289\n",
      "  workplace: 0.3279\n",
      "  rags: 0.3277\n",
      "  knife: 0.3247\n",
      "  literary: 0.3226\n",
      "  heat: 0.3152\n",
      "  theoretical: 0.3150\n",
      "\n",
      "'anarchism':\n",
      "  prejudices: 0.3887\n",
      "  us: 0.3751\n",
      "  voice: 0.3736\n",
      "  support: 0.3438\n",
      "  hay: 0.3421\n",
      "  began: 0.3409\n",
      "  scholarly: 0.3365\n",
      "  mainstream: 0.3350\n",
      "  almost: 0.3335\n",
      "  wiggling: 0.3319\n",
      "\n",
      "'communist':\n",
      "  fifths: 0.4116\n",
      "  shortening: 0.4004\n",
      "  mirror: 0.3818\n",
      "  force: 0.3691\n",
      "  diverse: 0.3433\n",
      "  intensely: 0.3405\n",
      "  telos: 0.3387\n",
      "  alston: 0.3363\n",
      "  earth: 0.3340\n",
      "  vancouver: 0.3333\n",
      "\n",
      "'revolution':\n",
      "  relatives: 0.4513\n",
      "  fishing: 0.3862\n",
      "  undoubtedly: 0.3785\n",
      "  theft: 0.3545\n",
      "  nicomachus: 0.3497\n",
      "  astronomy: 0.3481\n",
      "  monologues: 0.3433\n",
      "  anxiety: 0.3387\n",
      "  achieved: 0.3364\n",
      "  ambitions: 0.3347\n",
      "\n",
      "'paris':\n",
      "  did: 0.4274\n",
      "  uk: 0.3895\n",
      "  speak: 0.3869\n",
      "  new: 0.3867\n",
      "  schwartz: 0.3833\n",
      "  remington: 0.3435\n",
      "  ohio: 0.3369\n",
      "  murray: 0.3369\n",
      "  even: 0.3353\n",
      "  kisses: 0.3336\n"
     ]
    }
   ],
   "source": [
    "print(f\"CBOW Model - Top 10 Most Similar Words related to {anchor_words}:\")\n",
    "print(\"=\" * 120)\n",
    "for word in anchor_words:\n",
    "    similar_words = get_top_similar_words(cbow_embeddings.numpy(), word)\n",
    "    print(f\"\\n'{word}':\")\n",
    "    for similar_word, similarity in similar_words:\n",
    "        print(f\"  {similar_word}: {similarity:.4f}\")"
   ]
  },
  {
   "cell_type": "markdown",
   "id": "134e479d",
   "metadata": {},
   "source": [
    "CBOW seems to perform better when it comes to identifying word context, since it doesn't have the Skip-Gram limitations for vocabulary size. The most common associated words with our anchor words are:\n",
    "\n",
    "- **King** <--> Declaration\n",
    "- **Anarchism** <--> Falls\n",
    "- **Communist** <--> Provided, Nourishing\n",
    "- **Revolution** <--> Call, Manifested\n",
    "- **Paris** <--> Group, Realm"
   ]
  },
  {
   "cell_type": "markdown",
   "id": "42636494",
   "metadata": {},
   "source": [
    "# <font color= #bbc28d> **Embeddings Visualization** </font>"
   ]
  },
  {
   "cell_type": "markdown",
   "id": "e9a3a42b",
   "metadata": {},
   "source": [
    "The similarity between words can also be observed graphically. However, due to the high dimensionality of the embeddings, dimensionality reduction techniques need to be applied first. For this project, two techniques will be tested: `t-SNE` and `UMAP`"
   ]
  },
  {
   "cell_type": "markdown",
   "id": "e33b001b",
   "metadata": {},
   "source": [
    "# <font color= #bbc28d> **1. t-SNE** </font>"
   ]
  },
  {
   "cell_type": "markdown",
   "id": "ece07542",
   "metadata": {},
   "source": [
    "`t-SNE` (or T-distributed Stochastic Neighbor Embedding) is a dimensionality reduction technique developed by Laurens van der Maaten and Geoffrey Hinton in 2008.\n",
    "\n",
    "It works in two steps. First, it creates a probability distribution on pairs of high-dimension objects in which similar objects have higher probability, with dissimilar objects having lower probability. At the same time, it creates another probability distribution with the points in the lower-dimension map. \n",
    "\n",
    "Then, it minimizes the [KL Divergence](https://en.wikipedia.org/wiki/Kullback%E2%80%93Leibler_divergence) between the two distributions. This algorithm uses Euclidean distance as the base of its similarity metric."
   ]
  },
  {
   "cell_type": "code",
   "execution_count": 25,
   "id": "cbfee8ad",
   "metadata": {},
   "outputs": [],
   "source": [
    "# Getting 100 random words to visualize\n",
    "\n",
    "tsne_samples = 200\n",
    "\n",
    "np.random.seed(42) # Seed so that re-runs don't affect the output\n",
    "\n",
    "# Model subsets\n",
    "idx_2 = np.random.choice(len(vocab), tsne_samples, replace=False)\n",
    "cbow_subset = cbow_embeddings[idx_2]\n",
    "skipgram_subset = skipgram_embeddings[idx_2]\n",
    "\n",
    "# Vocabulary subset for comparison\n",
    "vocab_subset = [vocab[i] for i in idx_2]"
   ]
  },
  {
   "cell_type": "code",
   "execution_count": 26,
   "id": "ed65cc84",
   "metadata": {},
   "outputs": [
    {
     "data": {
      "image/png": "[encoded data removed]",
      "text/plain": [
       "<Figure size 1600x800 with 2 Axes>"
      ]
     },
     "metadata": {},
     "output_type": "display_data"
    }
   ],
   "source": [
    "def tsne_plot(embedding_list: list, labels, model_names: list, title='t-SNE Visualization - CBOW vs Skip-Gram'):\n",
    "    fig, axes = plt.subplots(1, 2, figsize=(16, 8))\n",
    "    fig.suptitle(title, fontsize=20)\n",
    "\n",
    "    for idx, (embeddings, name) in enumerate(zip(embedding_list, model_names)):\n",
    "        tsne = TSNE(n_components=2, random_state=42, perplexity=30)\n",
    "        reduced = tsne.fit_transform(embeddings)\n",
    "\n",
    "        ax = axes[idx]\n",
    "        ax.scatter(reduced[:, 0], reduced[:, 1], s=10, color='blue')\n",
    "\n",
    "        # Use the same label list for all plots\n",
    "        for i, label in enumerate(labels):\n",
    "            # Annotate\n",
    "            ax.annotate(label, (reduced[i, 0], reduced[i, 1]), fontsize=7)\n",
    "\n",
    "        ax.set_title(name, fontsize=16)\n",
    "\n",
    "    plt.tight_layout(rect=[0, 0.03, 1, 0.95])\n",
    "    plt.show()\n",
    "\n",
    "tsne_plot([skipgram_subset, cbow_subset], vocab_subset, ['Skip-Gram', 'CBOW'])"
   ]
  },
  {
   "cell_type": "markdown",
   "id": "049ac304",
   "metadata": {},
   "source": [
    "In this example, the same 200 word sub-sample was visualized using t-SNE for both our CBOW and Skipgram embeddings. Words closer together are more similar in meaning. Below are some specific examples which can be seen in the graphs above, with an example of how these might be used together on a Wikipedia article\n",
    "\n",
    "#### CBOW\n",
    "- \"accounted\" - \"heatstroke\" (heatstroke accounted for 10% of deaths)\n",
    "- \"experiences\" - \"divine\" (self-explanatory)\n",
    "- \"washington\" - \"farm\" (George Washington grew up in a farm in Vermont)\n",
    "- \"application\" - \"approved\" (also self-explanatory)\n",
    "- \"profit\" - \"welfare\" (profit and welfare are both words used in macroeconomics discussions)\n",
    "\n",
    "#### Skipgram\n",
    "- \"eugene\" - \"county\" - \"residents\" (Eugene, a city with 176,000 residents, is the county seat of Lane County, Oregon)\n",
    "- \"http\" - \"net\" (self-explanatory)\n",
    "- \"flag\" - \"filter\" (these two words can be used interchangeably when talking about something like a system which has flags or filters for bad words, for example)\n",
    "- \"buddhism\" - \"worship\" (also self-explanatory)\n",
    "- \"exceeding\" - \"commercial\" (the commercial activity in the area was exceeding its resources)"
   ]
  },
  {
   "cell_type": "markdown",
   "id": "a976d830",
   "metadata": {},
   "source": [
    "# <font color= #bbc28d> **2. UMAP** </font>"
   ]
  },
  {
   "cell_type": "markdown",
   "id": "93b329d6",
   "metadata": {},
   "source": [
    "UMAP is another algorithm used for dimension reduction based on manifold learning techniques and ideas from topological data analysis. It's a non-linear dimension reduction algorithm that seeks to **learn the structure of the data and find a low dimensional embedding that preserves the essential topological structure** of that manifold (lower-dimensional curved surface that resembles and preserves the characteristics of data stored in a high-dimensional space).\n",
    "\n",
    "UMAP has 4 major hyperparameters:\n",
    "- n_neighbors\n",
    "    - Controls how UMAP balances local vs global structure in the data, by constraining the size of the local neighbourhood UMAP will look at when attempting to learn the manifold structure of the data. **Low values focus on local structures, large values focus on the bigger picture.**\n",
    "- min_dist\n",
    "    - Controls how tightly UMAP is allowed to pack points together. **Low values result in clumpier embeddings, large values prevent stacking and result in the preservation of the broader topological structure.** \n",
    "- n_components\n",
    "    - Dimensions of the final reduction.\n",
    "- metric\n",
    "    - Controls **how distance is computed**. "
   ]
  },
  {
   "cell_type": "code",
   "execution_count": 78,
   "id": "ecadfb31",
   "metadata": {},
   "outputs": [],
   "source": [
    "def umap_plot(embedding_list, labels, model_names, title='UMAP Projection - CBOW vs Skip-Gram'):\n",
    "    # Create subplots for visualization\n",
    "    fig = sp.make_subplots(rows=1, cols=2, subplot_titles=model_names)\n",
    "\n",
    "    for idx, (embeddings, name) in enumerate(zip(embedding_list, model_names), start=1):\n",
    "        # Initialize UMAP object\n",
    "        umap_2d = UMAP(n_components=2, n_neighbors=2, min_dist=0.3, init='random', random_state=42, n_jobs=1)\n",
    "        # Reduce dimensionality\n",
    "        proj = umap_2d.fit_transform(embeddings)\n",
    "\n",
    "        # Create dataframe with coordinates for each data point and their corresponding words\n",
    "        df = pd.DataFrame({\n",
    "            'x': proj[:, 0],\n",
    "            'y': proj[:, 1],\n",
    "            'word': labels\n",
    "        })\n",
    "\n",
    "        # Create scatter plot with text annotations\n",
    "        scatter = go.Scatter(\n",
    "            x=df['x'], y=df['y'],               # Data\n",
    "            mode='markers+text',                # Show points and labels\n",
    "            text=df['word'],                    # Words to be annotated\n",
    "            textposition='top center', textfont=dict(size=9),         # Position and font size of the labels (words)\n",
    "            hoverinfo='text',                   # Hovering shows the word\n",
    "            showlegend=False,\n",
    "            marker=dict(size=6, color='blue')\n",
    "        )\n",
    "        # Append the scatter plot to the subplot\n",
    "        fig.add_trace(scatter, row=1, col=idx)\n",
    "\n",
    "    # Update the layout\n",
    "    fig.update_layout(\n",
    "        height=600,\n",
    "        width=1400,\n",
    "        title=dict(text=title, x=0.5, xanchor='center', font=dict(size=20)),\n",
    "        showlegend=False\n",
    "    )\n",
    "\n",
    "    fig.show()"
   ]
  },
  {
   "cell_type": "markdown",
   "id": "12810fda",
   "metadata": {},
   "source": [
    "For the UMAP dimensionality reduction, we chose the following hyperparameters:\n",
    "- **n_neighbors:** 3\n",
    "- **min_dist:** 0.1\n",
    "\n",
    "Since we want to observe the specific topological structure of the words."
   ]
  },
  {
   "cell_type": "code",
   "execution_count": 72,
   "id": "9bea77d5",
   "metadata": {},
   "outputs": [
    {
     "data": {
      "application/vnd.plotly.v1+json": {
       "config": {
        "plotlyServerURL": "https://plot.ly"
       },
       "data": [
        {
         "hoverinfo": "text",
         "marker": {
          "color": "blue",
          "size": 6
         },
         "mode": "markers+text",
         "showlegend": false,
         "text": [
          "eugene",
          "go",
          "telos",
          "insurrectionary",
          "welfare",
          "interviews",
          "dutch",
          "greenspan",
          "mentally",
          "larmes",
          "although",
          "camel",
          "iade",
          "showed",
          "depended",
          "overhead",
          "surmounted",
          "shyness",
          "reel",
          "promotional",
          "pretending",
          "intentionally",
          "surrender",
          "hector",
          "sexuality",
          "visions",
          "cbs",
          "deficit",
          "new",
          "loday",
          "weapon",
          "morte",
          "spite",
          "identifies",
          "organising",
          "dilorenzo",
          "burney",
          "archaic",
          "used",
          "profit",
          "engineer",
          "rainbow",
          "noticing",
          "clear",
          "rivers",
          "campaigning",
          "altruisme",
          "les",
          "exceeding",
          "tackle",
          "tzetzes",
          "broken",
          "games",
          "odyssey",
          "major",
          "virtuously",
          "introduction",
          "ramifications",
          "limp",
          "school",
          "harry",
          "initiate",
          "cheated",
          "approved",
          "parliamentary",
          "performances",
          "pool",
          "prefers",
          "discharge",
          "residents",
          "homer",
          "kneels",
          "county",
          "dares",
          "com",
          "shares",
          "climatic",
          "experiences",
          "disguises",
          "ideologies",
          "storytellers",
          "ibycus",
          "retardation",
          "catechism",
          "heatstroke",
          "facets",
          "tiepolo",
          "categoriae",
          "valued",
          "economical",
          "net",
          "manipulation",
          "kidnap",
          "calm",
          "beach",
          "respiratione",
          "wade",
          "writers",
          "spooner",
          "bill",
          "farm",
          "oases",
          "behaved",
          "road",
          "cellular",
          "barbershop",
          "espouses",
          "eastern",
          "un",
          "question",
          "receive",
          "means",
          "interested",
          "marxism",
          "righteous",
          "seemed",
          "seward",
          "prosperous",
          "creating",
          "divine",
          "misdirection",
          "exposed",
          "disorders",
          "amendment",
          "office",
          "feminist",
          "unrealistic",
          "william",
          "icd",
          "epicureans",
          "buddhism",
          "worship",
          "reasoned",
          "prepare",
          "expansion",
          "leventhal",
          "fowlers",
          "nationalists",
          "commercial",
          "computed",
          "participating",
          "emancipation",
          "rutgers",
          "understand",
          "das",
          "appomattox",
          "assist",
          "knows",
          "kelly",
          "healing",
          "kearns",
          "primitivism",
          "class",
          "arthur",
          "terrific",
          "http",
          "abroad",
          "multiple",
          "wake",
          "largest",
          "slanderers",
          "panicked",
          "ranges",
          "soil",
          "nursery",
          "servitude",
          "accounted",
          "back",
          "talk",
          "tremendous",
          "mid",
          "filter",
          "irving",
          "study",
          "applications",
          "planets",
          "tijuana",
          "divisions",
          "lix",
          "eclectic",
          "lash",
          "comprise",
          "wearing",
          "investigated",
          "washington",
          "principle",
          "colonies",
          "provisional",
          "films",
          "apart",
          "refuge",
          "roots",
          "flag",
          "caelo",
          "military",
          "energies",
          "ascended",
          "warms",
          "states",
          "dans"
         ],
         "textfont": {
          "size": 9
         },
         "textposition": "top center",
         "type": "scatter",
         "x": {
          "bdata": "YR/hQIo92UDGbbdA6TuBQMqd8EAvtLtAZKtvQM2BCUEbiINA69rbQAbq3UB3AQhBtkeWQBOGqkCx6tlA5BfgQNnhtEA/BF1AEEnSQH4V+0BfHgZBHwvcQKOq3kARQFFAEdGyQO/LvEDeO9dAFKC/QKwaAkEAvtdAk2KxQHYBnUC65YFA+LLrQO59DUHMmvRAIZ2mQBkH1kAN8gxBdfffQBLf6kAYFuJAqavVQJzUC0FGBoNAp4N6QH0gz0BCqPpAj/vJQG6noUAoQZVAptLHQJndskAjM/lAxg3EQPkE6UAk9V9AUGTGQDKqBEGBBPdAHPCPQNEum0ADPupARY4EQeusoUBlwcFAP3rrQMBrkUCo3P5A9oSYQKgXxkBaKjFAKhT+QP4dlEBgOaVA2FydQNIzmkDrD6JAq2mmQDpUu0DDcBJBZ2u7QNHspEBuXapAoEqOQOwqEEHOVd5A+UG8QMLeukB7YihA/GLXQN0cj0BKVZZADyHaQLqLl0BJC2lAYsIOQXxg40Cgir1AGOhuQIoQCUF0dPNAPJpLQHHGkUDx8eZAWZMAQTnj6EDCpYNAMp0zQD6eiUBD5wZBqUK1QPCl8kCqT4hAM07gQMpCw0Dy9r9AM/60QLroD0E4GLpAviWrQHGow0A/xMdA/SvnQFcYvEDZBZtA4MbMQAUKhkBjqqZA03T2QE3HxUBroIhAbZL8QH7UnUDvE5JAPocmQPVz10Cm+VpAlwC0QDgtm0BONZxAMQ/PQAAM9UCUzoRAshsIQf7xBUHTd8NAAfqiQF7rlkBpjqNAY/YJQVGcqUDlMs9AvHnYQHGbsUAlQLtAlw43QKw0hkBq9HVAyo7uQFvl00BuJLdAJ+ToQKyuN0COvdVAP23CQN4ex0B7Md5Ao5LrQOe460DBWGlA70fNQCcwzUDAx51AXYfTQOXDDkH7vLJAck/AQLLFzkBuyOJAweyjQPlCwUB/HeRAP9njQLU62UCTV5FAItIHQdXaxUByirZAivbgQOtQEUHfqcVAuwAMQTLG+0BlWttAvHYOQX/k7kBvg7ZAOo76QHckkkA=",
          "dtype": "f4"
         },
         "xaxis": "x",
         "y": {
          "bdata": "U7wAQC1ntUAbzBZAorWiQKaNekA/f41A/pHsQFj4jkB1d/JAFYYBQfIq40A/i11A2NTjQLqpi0CdMTFAaAzhQPijPkAZYLtA4LyEQEq9UECLm7NAtZPrQGDRsEABFLBAjb73QLet0EB0Aa9AfhwjQBq7ukCLydRAbC8ZQOCA40CVgNVAzecLQGbaMUAzPZNAVQysQL7yA0BRE1tAwrjkQOLvhECtwZdABx/EQJCibkDoJu9A42EKQTCcvEB+CNJAH5a+QHRsz0Bm3Q5BB6BAQEK540Aa+/FA66s4QHVXAkEkNKZAC9PrQMhFTkAxL4pAjkNYQCK4kkDt8oVAgIu7QAGVj0Cwq5FA/+p+QFpPq0BQHstAAwYOQcETk0BK+qdAebjRQMwQqUAw7+VAywA8QG9M7UCOazBA9HBCQGtLjECvvJtAZxMbQJBbZkCCSLxAqn2ZQGr+kUA6s+xAtWn2QHKzsEAQJK5AW8fYQG/t+kCKsA5BxYgEQS9JRkAqCelAuIx+QJMhxED0SK5ASefrQMPYdEAwvLVAiluuQDuq/UDvqMVAvWHOQONaxUCidp9AsiOwQKhek0CDI7ZA/kwNQUvLZUBDzwdBDJilQHQkdkBBqCxAGQ8OQabjcUBInahADdMKQd3w0kCNqshAnF5hQHqkDUEVCj1AgI52QCwGB0HmMQhBNVBIQNG2IUB1fJRAKpRBQCmfPEDvZ1JAxD2sQNsWwkDCMr1A1z0PQd756EBCb5FAd7F0QMjMmEDAM9JAhnmZQNTEsEBCy8NADOvWQIjX5ECpRFtAQKUyQFn96EBsJQxAPmN0QONzskDWO+RABEavQM6wy0CbtgpBE0USQAIaEEDiuIVAgna/QA5joEB67/s/loXuQM+Fx0BVObNA5zACQeE+C0BwRqJAAR66QE0G4kD37dJAS8/wQEDTp0DRiYJAdwiUQJIXUEDfJiFA19UFQfLUskAQcc9A+/tnQMrsFUBZA6tAlLhvQEOAbkAjT/9ASmCAQGN3n0C+f25AL4A4QILi6kAC0e5A9+AtQEBSikCnZuFAAvI+QOYjDUE=",
          "dtype": "f4"
         },
         "yaxis": "y"
        },
        {
         "hoverinfo": "text",
         "marker": {
          "color": "blue",
          "size": 6
         },
         "mode": "markers+text",
         "showlegend": false,
         "text": [
          "eugene",
          "go",
          "telos",
          "insurrectionary",
          "welfare",
          "interviews",
          "dutch",
          "greenspan",
          "mentally",
          "larmes",
          "although",
          "camel",
          "iade",
          "showed",
          "depended",
          "overhead",
          "surmounted",
          "shyness",
          "reel",
          "promotional",
          "pretending",
          "intentionally",
          "surrender",
          "hector",
          "sexuality",
          "visions",
          "cbs",
          "deficit",
          "new",
          "loday",
          "weapon",
          "morte",
          "spite",
          "identifies",
          "organising",
          "dilorenzo",
          "burney",
          "archaic",
          "used",
          "profit",
          "engineer",
          "rainbow",
          "noticing",
          "clear",
          "rivers",
          "campaigning",
          "altruisme",
          "les",
          "exceeding",
          "tackle",
          "tzetzes",
          "broken",
          "games",
          "odyssey",
          "major",
          "virtuously",
          "introduction",
          "ramifications",
          "limp",
          "school",
          "harry",
          "initiate",
          "cheated",
          "approved",
          "parliamentary",
          "performances",
          "pool",
          "prefers",
          "discharge",
          "residents",
          "homer",
          "kneels",
          "county",
          "dares",
          "com",
          "shares",
          "climatic",
          "experiences",
          "disguises",
          "ideologies",
          "storytellers",
          "ibycus",
          "retardation",
          "catechism",
          "heatstroke",
          "facets",
          "tiepolo",
          "categoriae",
          "valued",
          "economical",
          "net",
          "manipulation",
          "kidnap",
          "calm",
          "beach",
          "respiratione",
          "wade",
          "writers",
          "spooner",
          "bill",
          "farm",
          "oases",
          "behaved",
          "road",
          "cellular",
          "barbershop",
          "espouses",
          "eastern",
          "un",
          "question",
          "receive",
          "means",
          "interested",
          "marxism",
          "righteous",
          "seemed",
          "seward",
          "prosperous",
          "creating",
          "divine",
          "misdirection",
          "exposed",
          "disorders",
          "amendment",
          "office",
          "feminist",
          "unrealistic",
          "william",
          "icd",
          "epicureans",
          "buddhism",
          "worship",
          "reasoned",
          "prepare",
          "expansion",
          "leventhal",
          "fowlers",
          "nationalists",
          "commercial",
          "computed",
          "participating",
          "emancipation",
          "rutgers",
          "understand",
          "das",
          "appomattox",
          "assist",
          "knows",
          "kelly",
          "healing",
          "kearns",
          "primitivism",
          "class",
          "arthur",
          "terrific",
          "http",
          "abroad",
          "multiple",
          "wake",
          "largest",
          "slanderers",
          "panicked",
          "ranges",
          "soil",
          "nursery",
          "servitude",
          "accounted",
          "back",
          "talk",
          "tremendous",
          "mid",
          "filter",
          "irving",
          "study",
          "applications",
          "planets",
          "tijuana",
          "divisions",
          "lix",
          "eclectic",
          "lash",
          "comprise",
          "wearing",
          "investigated",
          "washington",
          "principle",
          "colonies",
          "provisional",
          "films",
          "apart",
          "refuge",
          "roots",
          "flag",
          "caelo",
          "military",
          "energies",
          "ascended",
          "warms",
          "states",
          "dans"
         ],
         "textfont": {
          "size": 9
         },
         "textposition": "top center",
         "type": "scatter",
         "x": {
          "bdata": "If21QJCzFUDm6x1AvToeQHhTv0BdTbFAhg/LQKUge0CMK8Y/a95sQJ/DVEBN1y5AtnEuQIkyhED03YZAn3RaQLBhuUBBzipAxWRPQKzIXEBLbgJAmwtLQMnTbz90zwtAY7s5QJQjnEBVTAdAn4x0QFbFnkAbE6RAHTgtQDfOxEBZ8sNAgHWQQDlXzkCHoCNAZvtdQEgp30B1v/lAs/GEQFb0uEDh+sJAyRyEQBU2XUCVahdApSshQDISkECrMWRA3GmJQEGbtUAl6rRAm+nJQN/OTkAmejBA41KmP6O3KkCDjTxAx8iHQHRzuj8a+q5AFRvWQAIx6D9NmphA9ECrPwu+4kDgRlFAeh/jQKa+BUGb/IhACuvLQIWt50DTl6FAY0KmQEBn1UBOzrs/3qyGQClWq0DGUqZAxwtRQKmL1UCp3aBA7ApLQK6XyEBwoGNASzocQBr2yUBAgKhAjLu7QKmB9ECay/9AQlKFQA6t50CVE7A/VYycQMYEmkDPvsc/sxexQDQ4b0Cuw45A7JOXQLGsOUBuSARBvndjQOSaWkDU4ttA+ZqnQFL4qEBnINw/xY2yQPog9T/w4YVARKTHP/UdiUC5xBxA/qWtQHOAX0CAegVBfqxDQCmQ2UA9XqVAEd9iQDFa0UCepdxAKYXKQPr4v0ApzVlA7SaWQCQP3kB66c9AMmO8P8b7/kDzh41A0h9XQIbDi0BboxFAtV2BQJMRXEDWNi5AP8jUQJ7AoUBVR5dAef4FQQrys0DvoAtAlSWoQPddikDWNrdAPWJ9QCM5WUDL/eQ/3yXOP22ykkAC/6dAcHpyQEXcUUDN7D5AFDwYQLtkBEDydMlAsamHQISF0kDHzhpAm2FlQAHwtkCtYMI/yY2kQKwU0UDYP9Q/MMbAP1HP1j/05atA+5XEQIWkmEBA8fk/BEJKQOeneUBXbu9A+PmTP04rg0ASXV9AMcllP1HxxEAb1GNAdbnoQKd5QUBR6OlAkLKJQDhj1UBQ1CBAohDaQL08MEBC75tAzajFQICip0A93otAZVccQDfBwUD1eZFA/1ymQHUuoEA=",
          "dtype": "f4"
         },
         "xaxis": "x2",
         "y": {
          "bdata": "jJqsPyENbEAnlkdAxgyzP9D0UECMRTa/vogwvpeqBkB7dz0+DFAVP6DPrz/Dwc8/zGEHQP/wJ0ABTxU/aRu2vvgR9j7nHQQ/z/xUQB6knD+XRnJARHfZP+vl+D9q50G/r6eGv29Bmb8KV3pAGlYLQL035L4AcgtAuFRAvwxRfD/Y07m+U5/lvZcfT7+h3llASE/dv3Sl7z+Z7II/IpSMQEKMab9gtHw/7+W5v/z4KkASdgVA/fjMP/kbXECErl1Ay4rQP9ZuxT5A+zw/HBbEvhZxO0D98lFANCaxP9HWX0A9AI+/9XU6Pk9gs70FHLS+ShwyQMueK0A32SdA3ptvvhj99T/UZtY+NlHWP+widT+r6l0/a/Q6QDQ/5z//C20/mswpQAYWKUDaUwZASoONQDXuAEBdp/Q/7AGSv05PSUB2Xbs/FBabPpcCPj/vz0M/KdJTQMHU474b1QO/lrMJvyqdMD/Sb4E/B88PQJ5iB0DQ9qc/GbGsvw0CtD8PqJI/uADiP/jXtD8EAEhATQDgPu3KJkBZUXY/ptkOP16R1r8THS1AUcKAv0FymD8UW+s+kLkZQBFC9T/BB1tAANO0P/GWj0DdrklARolFvzOd9D6qRYI/7bc8QMM5LECggX0/YqhkQIQ8O78YO9E/ZhrAvrTJS0ArA6E/aRmbPhWmpr4Dqoa+ccuXvr0AnD9Aj2BA9cdkQOtHgr6kp/Y/KpfAPnBpGUDoaANA/agevopsqr/fdUBAAzxMP/KIML/Srvk/lX08QHp5BEDjLR5AxvsKQA8gEz/cK/I/eBfUvnZ+oL0M/x1AceOuvzbngr9W7kFAMN1BQIk6gEBN6VU/mlgeQDhXN0AdY4M/LOEfQIaVV78M3s6+5FcpQDGePEDmtwQ/aQD2P4jE9z5y3xJAyCNpvnSZD73Pbia/Qm0MPkPzNEAjU+w//1vEP0kMi0CHRte+Q9gEQO0IQ0Dt/q8/g/odQM/3Tb2FdxZAqY6BvgAGXL/4h+k/SnG7vhNI7L6HQzNAYC0zQAswnT9PweI/t5uFPy7YGL//mbu/MG89QJWElj8=",
          "dtype": "f4"
         },
         "yaxis": "y2"
        }
       ],
       "layout": {
        "annotations": [
         {
          "font": {
           "size": 16
          },
          "showarrow": false,
          "text": "Skip-Gram",
          "x": 0.225,
          "xanchor": "center",
          "xref": "paper",
          "y": 1,
          "yanchor": "bottom",
          "yref": "paper"
         },
         {
          "font": {
           "size": 16
          },
          "showarrow": false,
          "text": "CBOW",
          "x": 0.775,
          "xanchor": "center",
          "xref": "paper",
          "y": 1,
          "yanchor": "bottom",
          "yref": "paper"
         }
        ],
        "height": 600,
        "showlegend": false,
        "template": {
         "data": {
          "bar": [
           {
            "error_x": {
             "color": "#2a3f5f"
            },
            "error_y": {
             "color": "#2a3f5f"
            },
            "marker": {
             "line": {
              "color": "#E5ECF6",
              "width": 0.5
             },
             "pattern": {
              "fillmode": "overlay",
              "size": 10,
              "solidity": 0.2
             }
            },
            "type": "bar"
           }
          ],
          "barpolar": [
           {
            "marker": {
             "line": {
              "color": "#E5ECF6",
              "width": 0.5
             },
             "pattern": {
              "fillmode": "overlay",
              "size": 10,
              "solidity": 0.2
             }
            },
            "type": "barpolar"
           }
          ],
          "carpet": [
           {
            "aaxis": {
             "endlinecolor": "#2a3f5f",
             "gridcolor": "white",
             "linecolor": "white",
             "minorgridcolor": "white",
             "startlinecolor": "#2a3f5f"
            },
            "baxis": {
             "endlinecolor": "#2a3f5f",
             "gridcolor": "white",
             "linecolor": "white",
             "minorgridcolor": "white",
             "startlinecolor": "#2a3f5f"
            },
            "type": "carpet"
           }
          ],
          "choropleth": [
           {
            "colorbar": {
             "outlinewidth": 0,
             "ticks": ""
            },
            "type": "choropleth"
           }
          ],
          "contour": [
           {
            "colorbar": {
             "outlinewidth": 0,
             "ticks": ""
            },
            "colorscale": [
             [
              0,
              "#0d0887"
             ],
             [
              0.1111111111111111,
              "#46039f"
             ],
             [
              0.2222222222222222,
              "#7201a8"
             ],
             [
              0.3333333333333333,
              "#9c179e"
             ],
             [
              0.4444444444444444,
              "#bd3786"
             ],
             [
              0.5555555555555556,
              "#d8576b"
             ],
             [
              0.6666666666666666,
              "#ed7953"
             ],
             [
              0.7777777777777778,
              "#fb9f3a"
             ],
             [
              0.8888888888888888,
              "#fdca26"
             ],
             [
              1,
              "#f0f921"
             ]
            ],
            "type": "contour"
           }
          ],
          "contourcarpet": [
           {
            "colorbar": {
             "outlinewidth": 0,
             "ticks": ""
            },
            "type": "contourcarpet"
           }
          ],
          "heatmap": [
           {
            "colorbar": {
             "outlinewidth": 0,
             "ticks": ""
            },
            "colorscale": [
             [
              0,
              "#0d0887"
             ],
             [
              0.1111111111111111,
              "#46039f"
             ],
             [
              0.2222222222222222,
              "#7201a8"
             ],
             [
              0.3333333333333333,
              "#9c179e"
             ],
             [
              0.4444444444444444,
              "#bd3786"
             ],
             [
              0.5555555555555556,
              "#d8576b"
             ],
             [
              0.6666666666666666,
              "#ed7953"
             ],
             [
              0.7777777777777778,
              "#fb9f3a"
             ],
             [
              0.8888888888888888,
              "#fdca26"
             ],
             [
              1,
              "#f0f921"
             ]
            ],
            "type": "heatmap"
           }
          ],
          "histogram": [
           {
            "marker": {
             "pattern": {
              "fillmode": "overlay",
              "size": 10,
              "solidity": 0.2
             }
            },
            "type": "histogram"
           }
          ],
          "histogram2d": [
           {
            "colorbar": {
             "outlinewidth": 0,
             "ticks": ""
            },
            "colorscale": [
             [
              0,
              "#0d0887"
             ],
             [
              0.1111111111111111,
              "#46039f"
             ],
             [
              0.2222222222222222,
              "#7201a8"
             ],
             [
              0.3333333333333333,
              "#9c179e"
             ],
             [
              0.4444444444444444,
              "#bd3786"
             ],
             [
              0.5555555555555556,
              "#d8576b"
             ],
             [
              0.6666666666666666,
              "#ed7953"
             ],
             [
              0.7777777777777778,
              "#fb9f3a"
             ],
             [
              0.8888888888888888,
              "#fdca26"
             ],
             [
              1,
              "#f0f921"
             ]
            ],
            "type": "histogram2d"
           }
          ],
          "histogram2dcontour": [
           {
            "colorbar": {
             "outlinewidth": 0,
             "ticks": ""
            },
            "colorscale": [
             [
              0,
              "#0d0887"
             ],
             [
              0.1111111111111111,
              "#46039f"
             ],
             [
              0.2222222222222222,
              "#7201a8"
             ],
             [
              0.3333333333333333,
              "#9c179e"
             ],
             [
              0.4444444444444444,
              "#bd3786"
             ],
             [
              0.5555555555555556,
              "#d8576b"
             ],
             [
              0.6666666666666666,
              "#ed7953"
             ],
             [
              0.7777777777777778,
              "#fb9f3a"
             ],
             [
              0.8888888888888888,
              "#fdca26"
             ],
             [
              1,
              "#f0f921"
             ]
            ],
            "type": "histogram2dcontour"
           }
          ],
          "mesh3d": [
           {
            "colorbar": {
             "outlinewidth": 0,
             "ticks": ""
            },
            "type": "mesh3d"
           }
          ],
          "parcoords": [
           {
            "line": {
             "colorbar": {
              "outlinewidth": 0,
              "ticks": ""
             }
            },
            "type": "parcoords"
           }
          ],
          "pie": [
           {
            "automargin": true,
            "type": "pie"
           }
          ],
          "scatter": [
           {
            "fillpattern": {
             "fillmode": "overlay",
             "size": 10,
             "solidity": 0.2
            },
            "type": "scatter"
           }
          ],
          "scatter3d": [
           {
            "line": {
             "colorbar": {
              "outlinewidth": 0,
              "ticks": ""
             }
            },
            "marker": {
             "colorbar": {
              "outlinewidth": 0,
              "ticks": ""
             }
            },
            "type": "scatter3d"
           }
          ],
          "scattercarpet": [
           {
            "marker": {
             "colorbar": {
              "outlinewidth": 0,
              "ticks": ""
             }
            },
            "type": "scattercarpet"
           }
          ],
          "scattergeo": [
           {
            "marker": {
             "colorbar": {
              "outlinewidth": 0,
              "ticks": ""
             }
            },
            "type": "scattergeo"
           }
          ],
          "scattergl": [
           {
            "marker": {
             "colorbar": {
              "outlinewidth": 0,
              "ticks": ""
             }
            },
            "type": "scattergl"
           }
          ],
          "scattermap": [
           {
            "marker": {
             "colorbar": {
              "outlinewidth": 0,
              "ticks": ""
             }
            },
            "type": "scattermap"
           }
          ],
          "scattermapbox": [
           {
            "marker": {
             "colorbar": {
              "outlinewidth": 0,
              "ticks": ""
             }
            },
            "type": "scattermapbox"
           }
          ],
          "scatterpolar": [
           {
            "marker": {
             "colorbar": {
              "outlinewidth": 0,
              "ticks": ""
             }
            },
            "type": "scatterpolar"
           }
          ],
          "scatterpolargl": [
           {
            "marker": {
             "colorbar": {
              "outlinewidth": 0,
              "ticks": ""
             }
            },
            "type": "scatterpolargl"
           }
          ],
          "scatterternary": [
           {
            "marker": {
             "colorbar": {
              "outlinewidth": 0,
              "ticks": ""
             }
            },
            "type": "scatterternary"
           }
          ],
          "surface": [
           {
            "colorbar": {
             "outlinewidth": 0,
             "ticks": ""
            },
            "colorscale": [
             [
              0,
              "#0d0887"
             ],
             [
              0.1111111111111111,
              "#46039f"
             ],
             [
              0.2222222222222222,
              "#7201a8"
             ],
             [
              0.3333333333333333,
              "#9c179e"
             ],
             [
              0.4444444444444444,
              "#bd3786"
             ],
             [
              0.5555555555555556,
              "#d8576b"
             ],
             [
              0.6666666666666666,
              "#ed7953"
             ],
             [
              0.7777777777777778,
              "#fb9f3a"
             ],
             [
              0.8888888888888888,
              "#fdca26"
             ],
             [
              1,
              "#f0f921"
             ]
            ],
            "type": "surface"
           }
          ],
          "table": [
           {
            "cells": {
             "fill": {
              "color": "#EBF0F8"
             },
             "line": {
              "color": "white"
             }
            },
            "header": {
             "fill": {
              "color": "#C8D4E3"
             },
             "line": {
              "color": "white"
             }
            },
            "type": "table"
           }
          ]
         },
         "layout": {
          "annotationdefaults": {
           "arrowcolor": "#2a3f5f",
           "arrowhead": 0,
           "arrowwidth": 1
          },
          "autotypenumbers": "strict",
          "coloraxis": {
           "colorbar": {
            "outlinewidth": 0,
            "ticks": ""
           }
          },
          "colorscale": {
           "diverging": [
            [
             0,
             "#8e0152"
            ],
            [
             0.1,
             "#c51b7d"
            ],
            [
             0.2,
             "#de77ae"
            ],
            [
             0.3,
             "#f1b6da"
            ],
            [
             0.4,
             "#fde0ef"
            ],
            [
             0.5,
             "#f7f7f7"
            ],
            [
             0.6,
             "#e6f5d0"
            ],
            [
             0.7,
             "#b8e186"
            ],
            [
             0.8,
             "#7fbc41"
            ],
            [
             0.9,
             "#4d9221"
            ],
            [
             1,
             "#276419"
            ]
           ],
           "sequential": [
            [
             0,
             "#0d0887"
            ],
            [
             0.1111111111111111,
             "#46039f"
            ],
            [
             0.2222222222222222,
             "#7201a8"
            ],
            [
             0.3333333333333333,
             "#9c179e"
            ],
            [
             0.4444444444444444,
             "#bd3786"
            ],
            [
             0.5555555555555556,
             "#d8576b"
            ],
            [
             0.6666666666666666,
             "#ed7953"
            ],
            [
             0.7777777777777778,
             "#fb9f3a"
            ],
            [
             0.8888888888888888,
             "#fdca26"
            ],
            [
             1,
             "#f0f921"
            ]
           ],
           "sequentialminus": [
            [
             0,
             "#0d0887"
            ],
            [
             0.1111111111111111,
             "#46039f"
            ],
            [
             0.2222222222222222,
             "#7201a8"
            ],
            [
             0.3333333333333333,
             "#9c179e"
            ],
            [
             0.4444444444444444,
             "#bd3786"
            ],
            [
             0.5555555555555556,
             "#d8576b"
            ],
            [
             0.6666666666666666,
             "#ed7953"
            ],
            [
             0.7777777777777778,
             "#fb9f3a"
            ],
            [
             0.8888888888888888,
             "#fdca26"
            ],
            [
             1,
             "#f0f921"
            ]
           ]
          },
          "colorway": [
           "#636efa",
           "#EF553B",
           "#00cc96",
           "#ab63fa",
           "#FFA15A",
           "#19d3f3",
           "#FF6692",
           "#B6E880",
           "#FF97FF",
           "#FECB52"
          ],
          "font": {
           "color": "#2a3f5f"
          },
          "geo": {
           "bgcolor": "white",
           "lakecolor": "white",
           "landcolor": "#E5ECF6",
           "showlakes": true,
           "showland": true,
           "subunitcolor": "white"
          },
          "hoverlabel": {
           "align": "left"
          },
          "hovermode": "closest",
          "mapbox": {
           "style": "light"
          },
          "paper_bgcolor": "white",
          "plot_bgcolor": "#E5ECF6",
          "polar": {
           "angularaxis": {
            "gridcolor": "white",
            "linecolor": "white",
            "ticks": ""
           },
           "bgcolor": "#E5ECF6",
           "radialaxis": {
            "gridcolor": "white",
            "linecolor": "white",
            "ticks": ""
           }
          },
          "scene": {
           "xaxis": {
            "backgroundcolor": "#E5ECF6",
            "gridcolor": "white",
            "gridwidth": 2,
            "linecolor": "white",
            "showbackground": true,
            "ticks": "",
            "zerolinecolor": "white"
           },
           "yaxis": {
            "backgroundcolor": "#E5ECF6",
            "gridcolor": "white",
            "gridwidth": 2,
            "linecolor": "white",
            "showbackground": true,
            "ticks": "",
            "zerolinecolor": "white"
           },
           "zaxis": {
            "backgroundcolor": "#E5ECF6",
            "gridcolor": "white",
            "gridwidth": 2,
            "linecolor": "white",
            "showbackground": true,
            "ticks": "",
            "zerolinecolor": "white"
           }
          },
          "shapedefaults": {
           "line": {
            "color": "#2a3f5f"
           }
          },
          "ternary": {
           "aaxis": {
            "gridcolor": "white",
            "linecolor": "white",
            "ticks": ""
           },
           "baxis": {
            "gridcolor": "white",
            "linecolor": "white",
            "ticks": ""
           },
           "bgcolor": "#E5ECF6",
           "caxis": {
            "gridcolor": "white",
            "linecolor": "white",
            "ticks": ""
           }
          },
          "title": {
           "x": 0.05
          },
          "xaxis": {
           "automargin": true,
           "gridcolor": "white",
           "linecolor": "white",
           "ticks": "",
           "title": {
            "standoff": 15
           },
           "zerolinecolor": "white",
           "zerolinewidth": 2
          },
          "yaxis": {
           "automargin": true,
           "gridcolor": "white",
           "linecolor": "white",
           "ticks": "",
           "title": {
            "standoff": 15
           },
           "zerolinecolor": "white",
           "zerolinewidth": 2
          }
         }
        },
        "title": {
         "font": {
          "size": 20
         },
         "text": "UMAP Projection - CBOW vs Skip-Gram",
         "x": 0.5,
         "xanchor": "center"
        },
        "width": 1400,
        "xaxis": {
         "anchor": "y",
         "domain": [
          0,
          0.45
         ]
        },
        "xaxis2": {
         "anchor": "y2",
         "domain": [
          0.55,
          1
         ]
        },
        "yaxis": {
         "anchor": "x",
         "domain": [
          0,
          1
         ]
        },
        "yaxis2": {
         "anchor": "x2",
         "domain": [
          0,
          1
         ]
        }
       }
      }
     },
     "metadata": {},
     "output_type": "display_data"
    }
   ],
   "source": [
    "umap_plot([skipgram_subset, cbow_subset], vocab_subset, ['Skip-Gram', 'CBOW'])"
   ]
  },
  {
   "cell_type": "markdown",
   "id": "ff2c1afd",
   "metadata": {},
   "source": [
    "#### Skipgram\n",
    "- \"dutch\" - \"bill\" (probably talking about an influential bill proposed in the Netherlands)\n",
    "- \"colonies\" - \"farm\" (a little bit self-explanatory)\n",
    "- \"servitude\" - \"ramifications\" (probably referring to the implications servitude has)\n",
    "- \"initiates\" - \"participating\" - \"parliamentary\" (words that may be commonly found together)\n",
    "- \"comercial\" - \"prosperous\" (probably talking about a prosperous commerce)\n",
    "\n",
    "#### CBOW\n",
    "- \"emancipation\" - \"buddhism\" - \"valued\" (probably talking about details of the buddhist religion)\n",
    "- \"manipulation\" - \"archaich\" - \"parlamentary\" (may refer to a critic to the government systems)\n",
    "- \"office\" - \"wellfare\" (relation may be built upon the uses of the office)\n",
    "- \"shares\" - \"profit\" (self-explanatory)\n",
    "- \"feminist\" - \"writers\" - \"promotional\" (may refer to the rise of feminism)"
   ]
  },
  {
   "cell_type": "markdown",
   "id": "a02d3f54",
   "metadata": {},
   "source": [
    "# <font color= #bbc28d> **Bibliography** </font>\n",
    "\n",
    "- Riva, M. (2025, February 13). _Word Embeddings: CBOW vs Skip-Gram_. Baeldung CS. https://www.baeldung.com/cs/word-embeddings-cbow-vs-skip-gram\n",
    "- Van der Maaten, L., Hinton, G. (2008) *Visualizing Data using t-SNE*. **Journal of Machine Learning Research**. https://jmlr.org/papers/volume9/vandermaaten08a/vandermaaten08a.pdf\n",
    "- McInnes, L. (2018). _Basic UMAP Parameters_. UMAP: Uniform Manifold Approximation and Projection for Dimension Reduction. https://umap-learn.readthedocs.io/en/latest/parameters.html\n",
    "- Plotly. (n.d.). _t-SNE and UMAP projections in Python_. Plotly. https://plotly.com/python/t-sne-and-umap-projections"
   ]
  }
 ],
 "metadata": {
  "kernelspec": {
   "display_name": "machine-learning",
   "language": "python",
   "name": "python3"
  },
  "language_info": {
   "codemirror_mode": {
    "name": "ipython",
    "version": 3
   },
   "file_extension": ".py",
   "mimetype": "text/x-python",
   "name": "python",
   "nbconvert_exporter": "python",
   "pygments_lexer": "ipython3",
   "version": "3.12.11"
  }
 },
 "nbformat": 4,
 "nbformat_minor": 5
}
